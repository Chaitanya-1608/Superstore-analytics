{
 "cells": [
  {
   "cell_type": "code",
   "execution_count": 1,
   "id": "1a9270c7",
   "metadata": {
    "_cell_guid": "b1076dfc-b9ad-4769-8c92-a6c4dae69d19",
    "_uuid": "8f2839f25d086af736a60e9eeb907d3b93b6e0e5",
    "execution": {
     "iopub.execute_input": "2025-01-07T17:17:31.482519Z",
     "iopub.status.busy": "2025-01-07T17:17:31.481195Z",
     "iopub.status.idle": "2025-01-07T17:17:32.452391Z",
     "shell.execute_reply": "2025-01-07T17:17:32.451325Z"
    },
    "papermill": {
     "duration": 1.002685,
     "end_time": "2025-01-07T17:17:32.455085",
     "exception": false,
     "start_time": "2025-01-07T17:17:31.452400",
     "status": "completed"
    },
    "tags": []
   },
   "outputs": [
    {
     "name": "stdout",
     "output_type": "stream",
     "text": [
      "/kaggle/input/super-market-dataset/Sample - Superstore.csv\n",
      "/kaggle/input/super-market-dataset/Sample - Superstore.xls\n",
      "/kaggle/input/returns/Returns.csv\n"
     ]
    }
   ],
   "source": [
    "# This Python 3 environment comes with many helpful analytics libraries installed\n",
    "# It is defined by the kaggle/python Docker image: https://github.com/kaggle/docker-python\n",
    "# For example, here's several helpful packages to load\n",
    "\n",
    "import numpy as np # linear algebra\n",
    "import pandas as pd # data processing, CSV file I/O (e.g. pd.read_csv)\n",
    "\n",
    "# Input data files are available in the read-only \"../input/\" directory\n",
    "# For example, running this (by clicking run or pressing Shift+Enter) will list all files under the input directory\n",
    "\n",
    "import os\n",
    "for dirname, _, filenames in os.walk('/kaggle/input'):\n",
    "    for filename in filenames:\n",
    "        print(os.path.join(dirname, filename))\n",
    "\n",
    "# You can write up to 20GB to the current directory (/kaggle/working/) that gets preserved as output when you create a version using \"Save & Run All\" \n",
    "# You can also write temporary files to /kaggle/temp/, but they won't be saved outside of the current session"
   ]
  },
  {
   "cell_type": "markdown",
   "id": "577de5eb",
   "metadata": {
    "papermill": {
     "duration": 0.026935,
     "end_time": "2025-01-07T17:17:32.507733",
     "exception": false,
     "start_time": "2025-01-07T17:17:32.480798",
     "status": "completed"
    },
    "tags": []
   },
   "source": [
    "# Understanding the data"
   ]
  },
  {
   "cell_type": "markdown",
   "id": "641278c8",
   "metadata": {
    "papermill": {
     "duration": 0.024617,
     "end_time": "2025-01-07T17:17:32.557760",
     "exception": false,
     "start_time": "2025-01-07T17:17:32.533143",
     "status": "completed"
    },
    "tags": []
   },
   "source": [
    "Importing the CSV file containing data to a dataframe named as df"
   ]
  },
  {
   "cell_type": "code",
   "execution_count": 2,
   "id": "5ae36630",
   "metadata": {
    "execution": {
     "iopub.execute_input": "2025-01-07T17:17:32.608548Z",
     "iopub.status.busy": "2025-01-07T17:17:32.608016Z",
     "iopub.status.idle": "2025-01-07T17:17:32.711031Z",
     "shell.execute_reply": "2025-01-07T17:17:32.709712Z"
    },
    "papermill": {
     "duration": 0.131384,
     "end_time": "2025-01-07T17:17:32.713640",
     "exception": false,
     "start_time": "2025-01-07T17:17:32.582256",
     "status": "completed"
    },
    "tags": []
   },
   "outputs": [],
   "source": [
    "df = pd.read_csv('/kaggle/input/super-market-dataset/Sample - Superstore.csv')"
   ]
  },
  {
   "cell_type": "code",
   "execution_count": 3,
   "id": "de653401",
   "metadata": {
    "execution": {
     "iopub.execute_input": "2025-01-07T17:17:32.764753Z",
     "iopub.status.busy": "2025-01-07T17:17:32.764357Z",
     "iopub.status.idle": "2025-01-07T17:17:32.804079Z",
     "shell.execute_reply": "2025-01-07T17:17:32.802913Z"
    },
    "papermill": {
     "duration": 0.068034,
     "end_time": "2025-01-07T17:17:32.806457",
     "exception": false,
     "start_time": "2025-01-07T17:17:32.738423",
     "status": "completed"
    },
    "tags": []
   },
   "outputs": [
    {
     "data": {
      "text/html": [
       "<div>\n",
       "<style scoped>\n",
       "    .dataframe tbody tr th:only-of-type {\n",
       "        vertical-align: middle;\n",
       "    }\n",
       "\n",
       "    .dataframe tbody tr th {\n",
       "        vertical-align: top;\n",
       "    }\n",
       "\n",
       "    .dataframe thead th {\n",
       "        text-align: right;\n",
       "    }\n",
       "</style>\n",
       "<table border=\"1\" class=\"dataframe\">\n",
       "  <thead>\n",
       "    <tr style=\"text-align: right;\">\n",
       "      <th></th>\n",
       "      <th>Row ID</th>\n",
       "      <th>Order ID</th>\n",
       "      <th>Order Date</th>\n",
       "      <th>Ship Date</th>\n",
       "      <th>Ship Mode</th>\n",
       "      <th>Customer ID</th>\n",
       "      <th>Customer Name</th>\n",
       "      <th>Segment</th>\n",
       "      <th>Country/Region</th>\n",
       "      <th>City</th>\n",
       "      <th>...</th>\n",
       "      <th>Postal Code</th>\n",
       "      <th>Region</th>\n",
       "      <th>Product ID</th>\n",
       "      <th>Category</th>\n",
       "      <th>Sub-Category</th>\n",
       "      <th>Product Name</th>\n",
       "      <th>Sales</th>\n",
       "      <th>Quantity</th>\n",
       "      <th>Discount</th>\n",
       "      <th>Profit</th>\n",
       "    </tr>\n",
       "  </thead>\n",
       "  <tbody>\n",
       "    <tr>\n",
       "      <th>0</th>\n",
       "      <td>1</td>\n",
       "      <td>US-2021-103800</td>\n",
       "      <td>03-01-2021</td>\n",
       "      <td>07-01-2021</td>\n",
       "      <td>Standard Class</td>\n",
       "      <td>DP-13000</td>\n",
       "      <td>Darren Powers</td>\n",
       "      <td>Consumer</td>\n",
       "      <td>United States</td>\n",
       "      <td>Houston</td>\n",
       "      <td>...</td>\n",
       "      <td>77095</td>\n",
       "      <td>Central</td>\n",
       "      <td>OFF-PA-10000174</td>\n",
       "      <td>Office Supplies</td>\n",
       "      <td>Paper</td>\n",
       "      <td>Message Book, Wirebound, Four 5 1/2\" X 4\" Form...</td>\n",
       "      <td>16.448</td>\n",
       "      <td>2</td>\n",
       "      <td>0.2</td>\n",
       "      <td>5.5512</td>\n",
       "    </tr>\n",
       "    <tr>\n",
       "      <th>1</th>\n",
       "      <td>2</td>\n",
       "      <td>US-2021-112326</td>\n",
       "      <td>04-01-2021</td>\n",
       "      <td>08-01-2021</td>\n",
       "      <td>Standard Class</td>\n",
       "      <td>PO-19195</td>\n",
       "      <td>Phillina Ober</td>\n",
       "      <td>Home Office</td>\n",
       "      <td>United States</td>\n",
       "      <td>Naperville</td>\n",
       "      <td>...</td>\n",
       "      <td>60540</td>\n",
       "      <td>Central</td>\n",
       "      <td>OFF-BI-10004094</td>\n",
       "      <td>Office Supplies</td>\n",
       "      <td>Binders</td>\n",
       "      <td>GBC Standard Plastic Binding Systems Combs</td>\n",
       "      <td>3.540</td>\n",
       "      <td>2</td>\n",
       "      <td>0.8</td>\n",
       "      <td>-5.4870</td>\n",
       "    </tr>\n",
       "    <tr>\n",
       "      <th>2</th>\n",
       "      <td>3</td>\n",
       "      <td>US-2021-112326</td>\n",
       "      <td>04-01-2021</td>\n",
       "      <td>08-01-2021</td>\n",
       "      <td>Standard Class</td>\n",
       "      <td>PO-19195</td>\n",
       "      <td>Phillina Ober</td>\n",
       "      <td>Home Office</td>\n",
       "      <td>United States</td>\n",
       "      <td>Naperville</td>\n",
       "      <td>...</td>\n",
       "      <td>60540</td>\n",
       "      <td>Central</td>\n",
       "      <td>OFF-LA-10003223</td>\n",
       "      <td>Office Supplies</td>\n",
       "      <td>Labels</td>\n",
       "      <td>Avery 508</td>\n",
       "      <td>11.784</td>\n",
       "      <td>3</td>\n",
       "      <td>0.2</td>\n",
       "      <td>4.2717</td>\n",
       "    </tr>\n",
       "    <tr>\n",
       "      <th>3</th>\n",
       "      <td>4</td>\n",
       "      <td>US-2021-112326</td>\n",
       "      <td>04-01-2021</td>\n",
       "      <td>08-01-2021</td>\n",
       "      <td>Standard Class</td>\n",
       "      <td>PO-19195</td>\n",
       "      <td>Phillina Ober</td>\n",
       "      <td>Home Office</td>\n",
       "      <td>United States</td>\n",
       "      <td>Naperville</td>\n",
       "      <td>...</td>\n",
       "      <td>60540</td>\n",
       "      <td>Central</td>\n",
       "      <td>OFF-ST-10002743</td>\n",
       "      <td>Office Supplies</td>\n",
       "      <td>Storage</td>\n",
       "      <td>SAFCO Boltless Steel Shelving</td>\n",
       "      <td>272.736</td>\n",
       "      <td>3</td>\n",
       "      <td>0.2</td>\n",
       "      <td>-64.7748</td>\n",
       "    </tr>\n",
       "    <tr>\n",
       "      <th>4</th>\n",
       "      <td>5</td>\n",
       "      <td>US-2021-141817</td>\n",
       "      <td>05-01-2021</td>\n",
       "      <td>12-01-2021</td>\n",
       "      <td>Standard Class</td>\n",
       "      <td>MB-18085</td>\n",
       "      <td>Mick Brown</td>\n",
       "      <td>Consumer</td>\n",
       "      <td>United States</td>\n",
       "      <td>Philadelphia</td>\n",
       "      <td>...</td>\n",
       "      <td>19143</td>\n",
       "      <td>East</td>\n",
       "      <td>OFF-AR-10003478</td>\n",
       "      <td>Office Supplies</td>\n",
       "      <td>Art</td>\n",
       "      <td>Avery Hi-Liter EverBold Pen Style Fluorescent ...</td>\n",
       "      <td>19.536</td>\n",
       "      <td>3</td>\n",
       "      <td>0.2</td>\n",
       "      <td>4.8840</td>\n",
       "    </tr>\n",
       "  </tbody>\n",
       "</table>\n",
       "<p>5 rows × 21 columns</p>\n",
       "</div>"
      ],
      "text/plain": [
       "   Row ID        Order ID  Order Date   Ship Date       Ship Mode Customer ID  \\\n",
       "0       1  US-2021-103800  03-01-2021  07-01-2021  Standard Class    DP-13000   \n",
       "1       2  US-2021-112326  04-01-2021  08-01-2021  Standard Class    PO-19195   \n",
       "2       3  US-2021-112326  04-01-2021  08-01-2021  Standard Class    PO-19195   \n",
       "3       4  US-2021-112326  04-01-2021  08-01-2021  Standard Class    PO-19195   \n",
       "4       5  US-2021-141817  05-01-2021  12-01-2021  Standard Class    MB-18085   \n",
       "\n",
       "   Customer Name      Segment Country/Region          City  ... Postal Code  \\\n",
       "0  Darren Powers     Consumer  United States       Houston  ...       77095   \n",
       "1  Phillina Ober  Home Office  United States    Naperville  ...       60540   \n",
       "2  Phillina Ober  Home Office  United States    Naperville  ...       60540   \n",
       "3  Phillina Ober  Home Office  United States    Naperville  ...       60540   \n",
       "4     Mick Brown     Consumer  United States  Philadelphia  ...       19143   \n",
       "\n",
       "    Region       Product ID         Category Sub-Category  \\\n",
       "0  Central  OFF-PA-10000174  Office Supplies        Paper   \n",
       "1  Central  OFF-BI-10004094  Office Supplies      Binders   \n",
       "2  Central  OFF-LA-10003223  Office Supplies       Labels   \n",
       "3  Central  OFF-ST-10002743  Office Supplies      Storage   \n",
       "4     East  OFF-AR-10003478  Office Supplies          Art   \n",
       "\n",
       "                                        Product Name    Sales  Quantity  \\\n",
       "0  Message Book, Wirebound, Four 5 1/2\" X 4\" Form...   16.448         2   \n",
       "1         GBC Standard Plastic Binding Systems Combs    3.540         2   \n",
       "2                                          Avery 508   11.784         3   \n",
       "3                      SAFCO Boltless Steel Shelving  272.736         3   \n",
       "4  Avery Hi-Liter EverBold Pen Style Fluorescent ...   19.536         3   \n",
       "\n",
       "   Discount   Profit  \n",
       "0       0.2   5.5512  \n",
       "1       0.8  -5.4870  \n",
       "2       0.2   4.2717  \n",
       "3       0.2 -64.7748  \n",
       "4       0.2   4.8840  \n",
       "\n",
       "[5 rows x 21 columns]"
      ]
     },
     "execution_count": 3,
     "metadata": {},
     "output_type": "execute_result"
    }
   ],
   "source": [
    "#Understanding the top 10 rows\n",
    "df.head(5)\n"
   ]
  },
  {
   "cell_type": "code",
   "execution_count": 4,
   "id": "a83399d8",
   "metadata": {
    "execution": {
     "iopub.execute_input": "2025-01-07T17:17:32.860155Z",
     "iopub.status.busy": "2025-01-07T17:17:32.859757Z",
     "iopub.status.idle": "2025-01-07T17:17:32.866418Z",
     "shell.execute_reply": "2025-01-07T17:17:32.865368Z"
    },
    "papermill": {
     "duration": 0.035291,
     "end_time": "2025-01-07T17:17:32.868377",
     "exception": false,
     "start_time": "2025-01-07T17:17:32.833086",
     "status": "completed"
    },
    "tags": []
   },
   "outputs": [
    {
     "data": {
      "text/plain": [
       "(10194, 21)"
      ]
     },
     "execution_count": 4,
     "metadata": {},
     "output_type": "execute_result"
    }
   ],
   "source": [
    "#total observations\n",
    "df.shape"
   ]
  },
  {
   "cell_type": "code",
   "execution_count": 5,
   "id": "74d93667",
   "metadata": {
    "execution": {
     "iopub.execute_input": "2025-01-07T17:17:32.920542Z",
     "iopub.status.busy": "2025-01-07T17:17:32.920140Z",
     "iopub.status.idle": "2025-01-07T17:17:32.927470Z",
     "shell.execute_reply": "2025-01-07T17:17:32.926207Z"
    },
    "papermill": {
     "duration": 0.035888,
     "end_time": "2025-01-07T17:17:32.929651",
     "exception": false,
     "start_time": "2025-01-07T17:17:32.893763",
     "status": "completed"
    },
    "tags": []
   },
   "outputs": [
    {
     "data": {
      "text/plain": [
       "Index(['Row ID', 'Order ID', 'Order Date', 'Ship Date', 'Ship Mode',\n",
       "       'Customer ID', 'Customer Name', 'Segment', 'Country/Region', 'City',\n",
       "       'State/Province', 'Postal Code', 'Region', 'Product ID', 'Category',\n",
       "       'Sub-Category', 'Product Name', 'Sales', 'Quantity', 'Discount',\n",
       "       'Profit'],\n",
       "      dtype='object')"
      ]
     },
     "execution_count": 5,
     "metadata": {},
     "output_type": "execute_result"
    }
   ],
   "source": [
    "df.columns"
   ]
  },
  {
   "cell_type": "code",
   "execution_count": 6,
   "id": "6ce6a8bb",
   "metadata": {
    "execution": {
     "iopub.execute_input": "2025-01-07T17:17:32.984757Z",
     "iopub.status.busy": "2025-01-07T17:17:32.984383Z",
     "iopub.status.idle": "2025-01-07T17:17:33.014459Z",
     "shell.execute_reply": "2025-01-07T17:17:33.013275Z"
    },
    "papermill": {
     "duration": 0.06102,
     "end_time": "2025-01-07T17:17:33.016706",
     "exception": false,
     "start_time": "2025-01-07T17:17:32.955686",
     "status": "completed"
    },
    "tags": []
   },
   "outputs": [
    {
     "name": "stdout",
     "output_type": "stream",
     "text": [
      "<class 'pandas.core.frame.DataFrame'>\n",
      "RangeIndex: 10194 entries, 0 to 10193\n",
      "Data columns (total 21 columns):\n",
      " #   Column          Non-Null Count  Dtype  \n",
      "---  ------          --------------  -----  \n",
      " 0   Row ID          10194 non-null  int64  \n",
      " 1   Order ID        10194 non-null  object \n",
      " 2   Order Date      10194 non-null  object \n",
      " 3   Ship Date       10194 non-null  object \n",
      " 4   Ship Mode       10194 non-null  object \n",
      " 5   Customer ID     10194 non-null  object \n",
      " 6   Customer Name   10194 non-null  object \n",
      " 7   Segment         10194 non-null  object \n",
      " 8   Country/Region  10194 non-null  object \n",
      " 9   City            10194 non-null  object \n",
      " 10  State/Province  10194 non-null  object \n",
      " 11  Postal Code     10194 non-null  object \n",
      " 12  Region          10194 non-null  object \n",
      " 13  Product ID      10194 non-null  object \n",
      " 14  Category        10194 non-null  object \n",
      " 15  Sub-Category    10194 non-null  object \n",
      " 16  Product Name    10194 non-null  object \n",
      " 17  Sales           10194 non-null  float64\n",
      " 18  Quantity        10194 non-null  int64  \n",
      " 19  Discount        10194 non-null  float64\n",
      " 20  Profit          10194 non-null  float64\n",
      "dtypes: float64(3), int64(2), object(16)\n",
      "memory usage: 1.6+ MB\n"
     ]
    }
   ],
   "source": [
    "#Summary\n",
    "df.info()"
   ]
  },
  {
   "cell_type": "markdown",
   "id": "2560f538",
   "metadata": {
    "papermill": {
     "duration": 0.024805,
     "end_time": "2025-01-07T17:17:33.067326",
     "exception": false,
     "start_time": "2025-01-07T17:17:33.042521",
     "status": "completed"
    },
    "tags": []
   },
   "source": [
    "\n",
    "**It is observed that data has no null value but data type for order and ship date has to be changed to datatime**\n"
   ]
  },
  {
   "cell_type": "code",
   "execution_count": 7,
   "id": "f9d03bc8",
   "metadata": {
    "execution": {
     "iopub.execute_input": "2025-01-07T17:17:33.120685Z",
     "iopub.status.busy": "2025-01-07T17:17:33.120328Z",
     "iopub.status.idle": "2025-01-07T17:17:33.147118Z",
     "shell.execute_reply": "2025-01-07T17:17:33.145980Z"
    },
    "papermill": {
     "duration": 0.056525,
     "end_time": "2025-01-07T17:17:33.149379",
     "exception": false,
     "start_time": "2025-01-07T17:17:33.092854",
     "status": "completed"
    },
    "tags": []
   },
   "outputs": [
    {
     "data": {
      "text/plain": [
       "Order Date    datetime64[ns]\n",
       "Ship Date     datetime64[ns]\n",
       "dtype: object"
      ]
     },
     "execution_count": 7,
     "metadata": {},
     "output_type": "execute_result"
    }
   ],
   "source": [
    "#Converting order and ship date to datetime with DD-MM-YYYY\n",
    "df['Order Date'] = pd.to_datetime(df['Order Date'],format='%d-%m-%Y')\n",
    "df['Ship Date'] = pd.to_datetime(df['Ship Date'],format='%d-%m-%Y')\n",
    "df[['Order Date','Ship Date']].dtypes"
   ]
  },
  {
   "cell_type": "markdown",
   "id": "b3ba347a",
   "metadata": {
    "papermill": {
     "duration": 0.025848,
     "end_time": "2025-01-07T17:17:33.200560",
     "exception": false,
     "start_time": "2025-01-07T17:17:33.174712",
     "status": "completed"
    },
    "tags": []
   },
   "source": [
    "# Adding key matrix"
   ]
  },
  {
   "cell_type": "markdown",
   "id": "5eb2f837",
   "metadata": {
    "papermill": {
     "duration": 0.025352,
     "end_time": "2025-01-07T17:17:33.251469",
     "exception": false,
     "start_time": "2025-01-07T17:17:33.226117",
     "status": "completed"
    },
    "tags": []
   },
   "source": [
    "**Based on the data it is observed that there is need to add some more features to the data:**\n",
    "1) Processing time in days (Ship date - order date)\n",
    "2) total cost and margin for each order"
   ]
  },
  {
   "cell_type": "code",
   "execution_count": 8,
   "id": "69823a8a",
   "metadata": {
    "execution": {
     "iopub.execute_input": "2025-01-07T17:17:33.305166Z",
     "iopub.status.busy": "2025-01-07T17:17:33.303807Z",
     "iopub.status.idle": "2025-01-07T17:17:33.328808Z",
     "shell.execute_reply": "2025-01-07T17:17:33.327707Z"
    },
    "papermill": {
     "duration": 0.054247,
     "end_time": "2025-01-07T17:17:33.331183",
     "exception": false,
     "start_time": "2025-01-07T17:17:33.276936",
     "status": "completed"
    },
    "tags": []
   },
   "outputs": [
    {
     "data": {
      "text/html": [
       "<div>\n",
       "<style scoped>\n",
       "    .dataframe tbody tr th:only-of-type {\n",
       "        vertical-align: middle;\n",
       "    }\n",
       "\n",
       "    .dataframe tbody tr th {\n",
       "        vertical-align: top;\n",
       "    }\n",
       "\n",
       "    .dataframe thead th {\n",
       "        text-align: right;\n",
       "    }\n",
       "</style>\n",
       "<table border=\"1\" class=\"dataframe\">\n",
       "  <thead>\n",
       "    <tr style=\"text-align: right;\">\n",
       "      <th></th>\n",
       "      <th>Row ID</th>\n",
       "      <th>Order ID</th>\n",
       "      <th>Order Date</th>\n",
       "      <th>Ship Date</th>\n",
       "      <th>Ship Mode</th>\n",
       "      <th>Customer ID</th>\n",
       "      <th>Customer Name</th>\n",
       "      <th>Segment</th>\n",
       "      <th>Country/Region</th>\n",
       "      <th>City</th>\n",
       "      <th>...</th>\n",
       "      <th>Region</th>\n",
       "      <th>Product ID</th>\n",
       "      <th>Category</th>\n",
       "      <th>Sub-Category</th>\n",
       "      <th>Product Name</th>\n",
       "      <th>Sales</th>\n",
       "      <th>Quantity</th>\n",
       "      <th>Discount</th>\n",
       "      <th>Profit</th>\n",
       "      <th>Pross time</th>\n",
       "    </tr>\n",
       "  </thead>\n",
       "  <tbody>\n",
       "    <tr>\n",
       "      <th>0</th>\n",
       "      <td>1</td>\n",
       "      <td>US-2021-103800</td>\n",
       "      <td>2021-01-03</td>\n",
       "      <td>2021-01-07</td>\n",
       "      <td>Standard Class</td>\n",
       "      <td>DP-13000</td>\n",
       "      <td>Darren Powers</td>\n",
       "      <td>Consumer</td>\n",
       "      <td>United States</td>\n",
       "      <td>Houston</td>\n",
       "      <td>...</td>\n",
       "      <td>Central</td>\n",
       "      <td>OFF-PA-10000174</td>\n",
       "      <td>Office Supplies</td>\n",
       "      <td>Paper</td>\n",
       "      <td>Message Book, Wirebound, Four 5 1/2\" X 4\" Form...</td>\n",
       "      <td>16.448</td>\n",
       "      <td>2</td>\n",
       "      <td>0.2</td>\n",
       "      <td>5.5512</td>\n",
       "      <td>4</td>\n",
       "    </tr>\n",
       "  </tbody>\n",
       "</table>\n",
       "<p>1 rows × 22 columns</p>\n",
       "</div>"
      ],
      "text/plain": [
       "   Row ID        Order ID Order Date  Ship Date       Ship Mode Customer ID  \\\n",
       "0       1  US-2021-103800 2021-01-03 2021-01-07  Standard Class    DP-13000   \n",
       "\n",
       "   Customer Name   Segment Country/Region     City  ...   Region  \\\n",
       "0  Darren Powers  Consumer  United States  Houston  ...  Central   \n",
       "\n",
       "        Product ID         Category Sub-Category  \\\n",
       "0  OFF-PA-10000174  Office Supplies        Paper   \n",
       "\n",
       "                                        Product Name   Sales Quantity  \\\n",
       "0  Message Book, Wirebound, Four 5 1/2\" X 4\" Form...  16.448        2   \n",
       "\n",
       "   Discount  Profit  Pross time  \n",
       "0       0.2  5.5512           4  \n",
       "\n",
       "[1 rows x 22 columns]"
      ]
     },
     "execution_count": 8,
     "metadata": {},
     "output_type": "execute_result"
    }
   ],
   "source": [
    "#Incorporating process time\n",
    "df['Pross time'] = (df['Ship Date']-df['Order Date']).dt.days\n",
    "df.head(1)"
   ]
  },
  {
   "cell_type": "code",
   "execution_count": 9,
   "id": "108628af",
   "metadata": {
    "execution": {
     "iopub.execute_input": "2025-01-07T17:17:33.384637Z",
     "iopub.status.busy": "2025-01-07T17:17:33.384250Z",
     "iopub.status.idle": "2025-01-07T17:17:33.410002Z",
     "shell.execute_reply": "2025-01-07T17:17:33.409048Z"
    },
    "papermill": {
     "duration": 0.054787,
     "end_time": "2025-01-07T17:17:33.411935",
     "exception": false,
     "start_time": "2025-01-07T17:17:33.357148",
     "status": "completed"
    },
    "tags": []
   },
   "outputs": [
    {
     "data": {
      "text/html": [
       "<div>\n",
       "<style scoped>\n",
       "    .dataframe tbody tr th:only-of-type {\n",
       "        vertical-align: middle;\n",
       "    }\n",
       "\n",
       "    .dataframe tbody tr th {\n",
       "        vertical-align: top;\n",
       "    }\n",
       "\n",
       "    .dataframe thead th {\n",
       "        text-align: right;\n",
       "    }\n",
       "</style>\n",
       "<table border=\"1\" class=\"dataframe\">\n",
       "  <thead>\n",
       "    <tr style=\"text-align: right;\">\n",
       "      <th></th>\n",
       "      <th>Row ID</th>\n",
       "      <th>Order ID</th>\n",
       "      <th>Order Date</th>\n",
       "      <th>Ship Date</th>\n",
       "      <th>Ship Mode</th>\n",
       "      <th>Customer ID</th>\n",
       "      <th>Customer Name</th>\n",
       "      <th>Segment</th>\n",
       "      <th>Country/Region</th>\n",
       "      <th>City</th>\n",
       "      <th>...</th>\n",
       "      <th>Category</th>\n",
       "      <th>Sub-Category</th>\n",
       "      <th>Product Name</th>\n",
       "      <th>Sales</th>\n",
       "      <th>Quantity</th>\n",
       "      <th>Discount</th>\n",
       "      <th>Profit</th>\n",
       "      <th>Pross time</th>\n",
       "      <th>Cost</th>\n",
       "      <th>Profit_m</th>\n",
       "    </tr>\n",
       "  </thead>\n",
       "  <tbody>\n",
       "    <tr>\n",
       "      <th>0</th>\n",
       "      <td>1</td>\n",
       "      <td>US-2021-103800</td>\n",
       "      <td>2021-01-03</td>\n",
       "      <td>2021-01-07</td>\n",
       "      <td>Standard Class</td>\n",
       "      <td>DP-13000</td>\n",
       "      <td>Darren Powers</td>\n",
       "      <td>Consumer</td>\n",
       "      <td>United States</td>\n",
       "      <td>Houston</td>\n",
       "      <td>...</td>\n",
       "      <td>Office Supplies</td>\n",
       "      <td>Paper</td>\n",
       "      <td>Message Book, Wirebound, Four 5 1/2\" X 4\" Form...</td>\n",
       "      <td>16.448</td>\n",
       "      <td>2</td>\n",
       "      <td>0.2</td>\n",
       "      <td>5.5512</td>\n",
       "      <td>4</td>\n",
       "      <td>10.8968</td>\n",
       "      <td>33.75</td>\n",
       "    </tr>\n",
       "    <tr>\n",
       "      <th>1</th>\n",
       "      <td>2</td>\n",
       "      <td>US-2021-112326</td>\n",
       "      <td>2021-01-04</td>\n",
       "      <td>2021-01-08</td>\n",
       "      <td>Standard Class</td>\n",
       "      <td>PO-19195</td>\n",
       "      <td>Phillina Ober</td>\n",
       "      <td>Home Office</td>\n",
       "      <td>United States</td>\n",
       "      <td>Naperville</td>\n",
       "      <td>...</td>\n",
       "      <td>Office Supplies</td>\n",
       "      <td>Binders</td>\n",
       "      <td>GBC Standard Plastic Binding Systems Combs</td>\n",
       "      <td>3.540</td>\n",
       "      <td>2</td>\n",
       "      <td>0.8</td>\n",
       "      <td>-5.4870</td>\n",
       "      <td>4</td>\n",
       "      <td>9.0270</td>\n",
       "      <td>-155.00</td>\n",
       "    </tr>\n",
       "    <tr>\n",
       "      <th>2</th>\n",
       "      <td>3</td>\n",
       "      <td>US-2021-112326</td>\n",
       "      <td>2021-01-04</td>\n",
       "      <td>2021-01-08</td>\n",
       "      <td>Standard Class</td>\n",
       "      <td>PO-19195</td>\n",
       "      <td>Phillina Ober</td>\n",
       "      <td>Home Office</td>\n",
       "      <td>United States</td>\n",
       "      <td>Naperville</td>\n",
       "      <td>...</td>\n",
       "      <td>Office Supplies</td>\n",
       "      <td>Labels</td>\n",
       "      <td>Avery 508</td>\n",
       "      <td>11.784</td>\n",
       "      <td>3</td>\n",
       "      <td>0.2</td>\n",
       "      <td>4.2717</td>\n",
       "      <td>4</td>\n",
       "      <td>7.5123</td>\n",
       "      <td>36.25</td>\n",
       "    </tr>\n",
       "    <tr>\n",
       "      <th>3</th>\n",
       "      <td>4</td>\n",
       "      <td>US-2021-112326</td>\n",
       "      <td>2021-01-04</td>\n",
       "      <td>2021-01-08</td>\n",
       "      <td>Standard Class</td>\n",
       "      <td>PO-19195</td>\n",
       "      <td>Phillina Ober</td>\n",
       "      <td>Home Office</td>\n",
       "      <td>United States</td>\n",
       "      <td>Naperville</td>\n",
       "      <td>...</td>\n",
       "      <td>Office Supplies</td>\n",
       "      <td>Storage</td>\n",
       "      <td>SAFCO Boltless Steel Shelving</td>\n",
       "      <td>272.736</td>\n",
       "      <td>3</td>\n",
       "      <td>0.2</td>\n",
       "      <td>-64.7748</td>\n",
       "      <td>4</td>\n",
       "      <td>337.5108</td>\n",
       "      <td>-23.75</td>\n",
       "    </tr>\n",
       "    <tr>\n",
       "      <th>4</th>\n",
       "      <td>5</td>\n",
       "      <td>US-2021-141817</td>\n",
       "      <td>2021-01-05</td>\n",
       "      <td>2021-01-12</td>\n",
       "      <td>Standard Class</td>\n",
       "      <td>MB-18085</td>\n",
       "      <td>Mick Brown</td>\n",
       "      <td>Consumer</td>\n",
       "      <td>United States</td>\n",
       "      <td>Philadelphia</td>\n",
       "      <td>...</td>\n",
       "      <td>Office Supplies</td>\n",
       "      <td>Art</td>\n",
       "      <td>Avery Hi-Liter EverBold Pen Style Fluorescent ...</td>\n",
       "      <td>19.536</td>\n",
       "      <td>3</td>\n",
       "      <td>0.2</td>\n",
       "      <td>4.8840</td>\n",
       "      <td>7</td>\n",
       "      <td>14.6520</td>\n",
       "      <td>25.00</td>\n",
       "    </tr>\n",
       "  </tbody>\n",
       "</table>\n",
       "<p>5 rows × 24 columns</p>\n",
       "</div>"
      ],
      "text/plain": [
       "   Row ID        Order ID Order Date  Ship Date       Ship Mode Customer ID  \\\n",
       "0       1  US-2021-103800 2021-01-03 2021-01-07  Standard Class    DP-13000   \n",
       "1       2  US-2021-112326 2021-01-04 2021-01-08  Standard Class    PO-19195   \n",
       "2       3  US-2021-112326 2021-01-04 2021-01-08  Standard Class    PO-19195   \n",
       "3       4  US-2021-112326 2021-01-04 2021-01-08  Standard Class    PO-19195   \n",
       "4       5  US-2021-141817 2021-01-05 2021-01-12  Standard Class    MB-18085   \n",
       "\n",
       "   Customer Name      Segment Country/Region          City  ...  \\\n",
       "0  Darren Powers     Consumer  United States       Houston  ...   \n",
       "1  Phillina Ober  Home Office  United States    Naperville  ...   \n",
       "2  Phillina Ober  Home Office  United States    Naperville  ...   \n",
       "3  Phillina Ober  Home Office  United States    Naperville  ...   \n",
       "4     Mick Brown     Consumer  United States  Philadelphia  ...   \n",
       "\n",
       "          Category Sub-Category  \\\n",
       "0  Office Supplies        Paper   \n",
       "1  Office Supplies      Binders   \n",
       "2  Office Supplies       Labels   \n",
       "3  Office Supplies      Storage   \n",
       "4  Office Supplies          Art   \n",
       "\n",
       "                                        Product Name    Sales Quantity  \\\n",
       "0  Message Book, Wirebound, Four 5 1/2\" X 4\" Form...   16.448        2   \n",
       "1         GBC Standard Plastic Binding Systems Combs    3.540        2   \n",
       "2                                          Avery 508   11.784        3   \n",
       "3                      SAFCO Boltless Steel Shelving  272.736        3   \n",
       "4  Avery Hi-Liter EverBold Pen Style Fluorescent ...   19.536        3   \n",
       "\n",
       "  Discount   Profit  Pross time      Cost  Profit_m  \n",
       "0      0.2   5.5512           4   10.8968     33.75  \n",
       "1      0.8  -5.4870           4    9.0270   -155.00  \n",
       "2      0.2   4.2717           4    7.5123     36.25  \n",
       "3      0.2 -64.7748           4  337.5108    -23.75  \n",
       "4      0.2   4.8840           7   14.6520     25.00  \n",
       "\n",
       "[5 rows x 24 columns]"
      ]
     },
     "execution_count": 9,
     "metadata": {},
     "output_type": "execute_result"
    }
   ],
   "source": [
    "#Cost\n",
    "df['Cost'] = df['Sales'] - df['Profit']\n",
    "\n",
    "#Profit margin\n",
    "df['Profit_m'] = round((df['Profit']/df['Sales']*100),2)\n",
    "\n",
    "df.head(5)"
   ]
  },
  {
   "cell_type": "code",
   "execution_count": 10,
   "id": "4acc4773",
   "metadata": {
    "execution": {
     "iopub.execute_input": "2025-01-07T17:17:33.466142Z",
     "iopub.status.busy": "2025-01-07T17:17:33.465437Z",
     "iopub.status.idle": "2025-01-07T17:17:33.484278Z",
     "shell.execute_reply": "2025-01-07T17:17:33.483245Z"
    },
    "papermill": {
     "duration": 0.048556,
     "end_time": "2025-01-07T17:17:33.486608",
     "exception": false,
     "start_time": "2025-01-07T17:17:33.438052",
     "status": "completed"
    },
    "tags": []
   },
   "outputs": [
    {
     "name": "stdout",
     "output_type": "stream",
     "text": [
      "<class 'pandas.core.frame.DataFrame'>\n",
      "RangeIndex: 10194 entries, 0 to 10193\n",
      "Data columns (total 24 columns):\n",
      " #   Column          Non-Null Count  Dtype         \n",
      "---  ------          --------------  -----         \n",
      " 0   Row ID          10194 non-null  int64         \n",
      " 1   Order ID        10194 non-null  object        \n",
      " 2   Order Date      10194 non-null  datetime64[ns]\n",
      " 3   Ship Date       10194 non-null  datetime64[ns]\n",
      " 4   Ship Mode       10194 non-null  object        \n",
      " 5   Customer ID     10194 non-null  object        \n",
      " 6   Customer Name   10194 non-null  object        \n",
      " 7   Segment         10194 non-null  object        \n",
      " 8   Country/Region  10194 non-null  object        \n",
      " 9   City            10194 non-null  object        \n",
      " 10  State/Province  10194 non-null  object        \n",
      " 11  Postal Code     10194 non-null  object        \n",
      " 12  Region          10194 non-null  object        \n",
      " 13  Product ID      10194 non-null  object        \n",
      " 14  Category        10194 non-null  object        \n",
      " 15  Sub-Category    10194 non-null  object        \n",
      " 16  Product Name    10194 non-null  object        \n",
      " 17  Sales           10194 non-null  float64       \n",
      " 18  Quantity        10194 non-null  int64         \n",
      " 19  Discount        10194 non-null  float64       \n",
      " 20  Profit          10194 non-null  float64       \n",
      " 21  Pross time      10194 non-null  int64         \n",
      " 22  Cost            10194 non-null  float64       \n",
      " 23  Profit_m        10194 non-null  float64       \n",
      "dtypes: datetime64[ns](2), float64(5), int64(3), object(14)\n",
      "memory usage: 1.9+ MB\n"
     ]
    }
   ],
   "source": [
    "df.info()"
   ]
  },
  {
   "cell_type": "markdown",
   "id": "98ae261a",
   "metadata": {
    "papermill": {
     "duration": 0.025844,
     "end_time": "2025-01-07T17:17:33.538641",
     "exception": false,
     "start_time": "2025-01-07T17:17:33.512797",
     "status": "completed"
    },
    "tags": []
   },
   "source": [
    "# Univariate analysis"
   ]
  },
  {
   "cell_type": "code",
   "execution_count": 11,
   "id": "ccd8ca5f",
   "metadata": {
    "execution": {
     "iopub.execute_input": "2025-01-07T17:17:33.591771Z",
     "iopub.status.busy": "2025-01-07T17:17:33.591387Z",
     "iopub.status.idle": "2025-01-07T17:17:33.616452Z",
     "shell.execute_reply": "2025-01-07T17:17:33.615339Z"
    },
    "papermill": {
     "duration": 0.054477,
     "end_time": "2025-01-07T17:17:33.618716",
     "exception": false,
     "start_time": "2025-01-07T17:17:33.564239",
     "status": "completed"
    },
    "tags": []
   },
   "outputs": [
    {
     "data": {
      "text/plain": [
       "Row ID            10194\n",
       "Order ID           5111\n",
       "Order Date         1242\n",
       "Ship Date          1338\n",
       "Ship Mode             4\n",
       "Customer ID         804\n",
       "Customer Name       800\n",
       "Segment               3\n",
       "Country/Region        2\n",
       "City                542\n",
       "State/Province       59\n",
       "Postal Code         654\n",
       "Region                4\n",
       "Product ID         1862\n",
       "Category              3\n",
       "Sub-Category         17\n",
       "Product Name       1849\n",
       "Sales              5837\n",
       "Quantity             14\n",
       "Discount             12\n",
       "Profit             7334\n",
       "Pross time           10\n",
       "Cost               6678\n",
       "Profit_m            313\n",
       "dtype: int64"
      ]
     },
     "execution_count": 11,
     "metadata": {},
     "output_type": "execute_result"
    }
   ],
   "source": [
    "#Count the unique values associated with all rows\n",
    "df.nunique()"
   ]
  },
  {
   "cell_type": "markdown",
   "id": "6789067c",
   "metadata": {
    "papermill": {
     "duration": 0.025685,
     "end_time": "2025-01-07T17:17:33.670597",
     "exception": false,
     "start_time": "2025-01-07T17:17:33.644912",
     "status": "completed"
    },
    "tags": []
   },
   "source": [
    "Key inferences:\n",
    "* Row ID is primary key\n",
    "* Order IDs are less then total rows because there may be multiple products associated with single order\n",
    "* There are 4 shiping modes available\n",
    "* There are 4 customers with same name\n",
    "* Total products are 1862 "
   ]
  },
  {
   "cell_type": "markdown",
   "id": "46969db7",
   "metadata": {
    "papermill": {
     "duration": 0.025653,
     "end_time": "2025-01-07T17:17:33.722355",
     "exception": false,
     "start_time": "2025-01-07T17:17:33.696702",
     "status": "completed"
    },
    "tags": []
   },
   "source": [
    "**Categorical feautures**"
   ]
  },
  {
   "cell_type": "code",
   "execution_count": 12,
   "id": "ba587b10",
   "metadata": {
    "execution": {
     "iopub.execute_input": "2025-01-07T17:17:33.776650Z",
     "iopub.status.busy": "2025-01-07T17:17:33.775711Z",
     "iopub.status.idle": "2025-01-07T17:17:33.783631Z",
     "shell.execute_reply": "2025-01-07T17:17:33.782429Z"
    },
    "papermill": {
     "duration": 0.037674,
     "end_time": "2025-01-07T17:17:33.786073",
     "exception": false,
     "start_time": "2025-01-07T17:17:33.748399",
     "status": "completed"
    },
    "tags": []
   },
   "outputs": [
    {
     "data": {
      "text/plain": [
       "array(['Standard Class', 'First Class', 'Second Class', 'Same Day'],\n",
       "      dtype=object)"
      ]
     },
     "execution_count": 12,
     "metadata": {},
     "output_type": "execute_result"
    }
   ],
   "source": [
    "df['Ship Mode'].unique()"
   ]
  },
  {
   "cell_type": "code",
   "execution_count": 13,
   "id": "9c05484b",
   "metadata": {
    "execution": {
     "iopub.execute_input": "2025-01-07T17:17:33.841028Z",
     "iopub.status.busy": "2025-01-07T17:17:33.840618Z",
     "iopub.status.idle": "2025-01-07T17:17:33.848968Z",
     "shell.execute_reply": "2025-01-07T17:17:33.847818Z"
    },
    "papermill": {
     "duration": 0.038518,
     "end_time": "2025-01-07T17:17:33.851176",
     "exception": false,
     "start_time": "2025-01-07T17:17:33.812658",
     "status": "completed"
    },
    "tags": []
   },
   "outputs": [
    {
     "data": {
      "text/plain": [
       "array(['Consumer', 'Home Office', 'Corporate'], dtype=object)"
      ]
     },
     "execution_count": 13,
     "metadata": {},
     "output_type": "execute_result"
    }
   ],
   "source": [
    "df['Segment'].unique()"
   ]
  },
  {
   "cell_type": "code",
   "execution_count": 14,
   "id": "54e8c41d",
   "metadata": {
    "execution": {
     "iopub.execute_input": "2025-01-07T17:17:33.964495Z",
     "iopub.status.busy": "2025-01-07T17:17:33.963950Z",
     "iopub.status.idle": "2025-01-07T17:17:33.973682Z",
     "shell.execute_reply": "2025-01-07T17:17:33.972397Z"
    },
    "papermill": {
     "duration": 0.098798,
     "end_time": "2025-01-07T17:17:33.976846",
     "exception": false,
     "start_time": "2025-01-07T17:17:33.878048",
     "status": "completed"
    },
    "tags": []
   },
   "outputs": [
    {
     "data": {
      "text/plain": [
       "array(['United States', 'Canada'], dtype=object)"
      ]
     },
     "execution_count": 14,
     "metadata": {},
     "output_type": "execute_result"
    }
   ],
   "source": [
    "df['Country/Region'].unique()"
   ]
  },
  {
   "cell_type": "code",
   "execution_count": 15,
   "id": "8fe3d32b",
   "metadata": {
    "execution": {
     "iopub.execute_input": "2025-01-07T17:17:34.040215Z",
     "iopub.status.busy": "2025-01-07T17:17:34.039773Z",
     "iopub.status.idle": "2025-01-07T17:17:34.047025Z",
     "shell.execute_reply": "2025-01-07T17:17:34.046038Z"
    },
    "papermill": {
     "duration": 0.038792,
     "end_time": "2025-01-07T17:17:34.049609",
     "exception": false,
     "start_time": "2025-01-07T17:17:34.010817",
     "status": "completed"
    },
    "tags": []
   },
   "outputs": [
    {
     "data": {
      "text/plain": [
       "array(['Central', 'East', 'South', 'West'], dtype=object)"
      ]
     },
     "execution_count": 15,
     "metadata": {},
     "output_type": "execute_result"
    }
   ],
   "source": [
    "df['Region'].unique()"
   ]
  },
  {
   "cell_type": "code",
   "execution_count": 16,
   "id": "5cdf1d60",
   "metadata": {
    "execution": {
     "iopub.execute_input": "2025-01-07T17:17:34.115596Z",
     "iopub.status.busy": "2025-01-07T17:17:34.115223Z",
     "iopub.status.idle": "2025-01-07T17:17:34.125768Z",
     "shell.execute_reply": "2025-01-07T17:17:34.124318Z"
    },
    "papermill": {
     "duration": 0.05165,
     "end_time": "2025-01-07T17:17:34.128981",
     "exception": false,
     "start_time": "2025-01-07T17:17:34.077331",
     "status": "completed"
    },
    "tags": []
   },
   "outputs": [
    {
     "data": {
      "text/plain": [
       "array(['Office Supplies', 'Furniture', 'Technology'], dtype=object)"
      ]
     },
     "execution_count": 16,
     "metadata": {},
     "output_type": "execute_result"
    }
   ],
   "source": [
    "df['Category'].unique()"
   ]
  },
  {
   "cell_type": "code",
   "execution_count": 17,
   "id": "a2224551",
   "metadata": {
    "execution": {
     "iopub.execute_input": "2025-01-07T17:17:34.215600Z",
     "iopub.status.busy": "2025-01-07T17:17:34.215112Z",
     "iopub.status.idle": "2025-01-07T17:17:34.222939Z",
     "shell.execute_reply": "2025-01-07T17:17:34.221942Z"
    },
    "papermill": {
     "duration": 0.051384,
     "end_time": "2025-01-07T17:17:34.225190",
     "exception": false,
     "start_time": "2025-01-07T17:17:34.173806",
     "status": "completed"
    },
    "tags": []
   },
   "outputs": [
    {
     "data": {
      "text/plain": [
       "array(['Paper', 'Binders', 'Labels', 'Storage', 'Art', 'Chairs',\n",
       "       'Fasteners', 'Phones', 'Furnishings', 'Accessories', 'Bookcases',\n",
       "       'Envelopes', 'Appliances', 'Tables', 'Supplies', 'Machines',\n",
       "       'Copiers'], dtype=object)"
      ]
     },
     "execution_count": 17,
     "metadata": {},
     "output_type": "execute_result"
    }
   ],
   "source": [
    "df['Sub-Category'].unique()"
   ]
  },
  {
   "cell_type": "markdown",
   "id": "83ff5039",
   "metadata": {
    "papermill": {
     "duration": 0.030414,
     "end_time": "2025-01-07T17:17:34.283445",
     "exception": false,
     "start_time": "2025-01-07T17:17:34.253031",
     "status": "completed"
    },
    "tags": []
   },
   "source": [
    "Key insights:\n",
    "* Ship mode - 'Standard Class', 'First Class', 'Second Class', 'Same Day'\n",
    "* Segment - Consumer', 'Home Office', 'Corporate'\n",
    "* Country - 'United States', 'Canada'\n",
    "* Region - 'Central', 'East', 'South', 'West'\n",
    "* Category - 'Office Supplies', 'Furniture', 'Technology'\n",
    "* Sub category - 'Paper', 'Binders', 'Labels', 'Storage', 'Art', 'Chairs',\r\n",
    "       'Fasteners', 'Phones', 'Furnishings', 'Accessories', 'Bookcases',\r\n",
    "       'Envelopes', 'Appliances', 'Tables', 'Supplies', 'Machines',\r\n",
    "       'Copiers"
   ]
  },
  {
   "cell_type": "code",
   "execution_count": 18,
   "id": "432a88ee",
   "metadata": {
    "execution": {
     "iopub.execute_input": "2025-01-07T17:17:34.344908Z",
     "iopub.status.busy": "2025-01-07T17:17:34.343755Z",
     "iopub.status.idle": "2025-01-07T17:17:34.352276Z",
     "shell.execute_reply": "2025-01-07T17:17:34.351304Z"
    },
    "papermill": {
     "duration": 0.03982,
     "end_time": "2025-01-07T17:17:34.354324",
     "exception": false,
     "start_time": "2025-01-07T17:17:34.314504",
     "status": "completed"
    },
    "tags": []
   },
   "outputs": [
    {
     "data": {
      "text/plain": [
       "10194"
      ]
     },
     "execution_count": 18,
     "metadata": {},
     "output_type": "execute_result"
    }
   ],
   "source": [
    "#Total orders\n",
    "df['Order ID'].count()"
   ]
  },
  {
   "cell_type": "code",
   "execution_count": 19,
   "id": "6a9926fb",
   "metadata": {
    "execution": {
     "iopub.execute_input": "2025-01-07T17:17:34.410860Z",
     "iopub.status.busy": "2025-01-07T17:17:34.409866Z",
     "iopub.status.idle": "2025-01-07T17:17:34.417194Z",
     "shell.execute_reply": "2025-01-07T17:17:34.416094Z"
    },
    "papermill": {
     "duration": 0.037831,
     "end_time": "2025-01-07T17:17:34.419475",
     "exception": false,
     "start_time": "2025-01-07T17:17:34.381644",
     "status": "completed"
    },
    "tags": []
   },
   "outputs": [
    {
     "data": {
      "text/plain": [
       "Timestamp('2021-01-03 00:00:00')"
      ]
     },
     "execution_count": 19,
     "metadata": {},
     "output_type": "execute_result"
    }
   ],
   "source": [
    "#First order date\n",
    "odmin = df['Order Date'].min()\n",
    "odmin"
   ]
  },
  {
   "cell_type": "code",
   "execution_count": 20,
   "id": "a039744c",
   "metadata": {
    "execution": {
     "iopub.execute_input": "2025-01-07T17:17:34.475527Z",
     "iopub.status.busy": "2025-01-07T17:17:34.474708Z",
     "iopub.status.idle": "2025-01-07T17:17:34.482702Z",
     "shell.execute_reply": "2025-01-07T17:17:34.481478Z"
    },
    "papermill": {
     "duration": 0.038298,
     "end_time": "2025-01-07T17:17:34.484763",
     "exception": false,
     "start_time": "2025-01-07T17:17:34.446465",
     "status": "completed"
    },
    "tags": []
   },
   "outputs": [
    {
     "data": {
      "text/plain": [
       "Timestamp('2024-12-30 00:00:00')"
      ]
     },
     "execution_count": 20,
     "metadata": {},
     "output_type": "execute_result"
    }
   ],
   "source": [
    "#Last order date\n",
    "odmax = df['Order Date'].max()\n",
    "odmax"
   ]
  },
  {
   "cell_type": "code",
   "execution_count": 21,
   "id": "d9969e2f",
   "metadata": {
    "execution": {
     "iopub.execute_input": "2025-01-07T17:17:34.540950Z",
     "iopub.status.busy": "2025-01-07T17:17:34.540080Z",
     "iopub.status.idle": "2025-01-07T17:17:34.547011Z",
     "shell.execute_reply": "2025-01-07T17:17:34.545868Z"
    },
    "papermill": {
     "duration": 0.037111,
     "end_time": "2025-01-07T17:17:34.549134",
     "exception": false,
     "start_time": "2025-01-07T17:17:34.512023",
     "status": "completed"
    },
    "tags": []
   },
   "outputs": [
    {
     "data": {
      "text/plain": [
       "3.9918"
      ]
     },
     "execution_count": 21,
     "metadata": {},
     "output_type": "execute_result"
    }
   ],
   "source": [
    "#Span\n",
    "odspan = (odmax-odmin).days/365\n",
    "round(odspan,4)"
   ]
  },
  {
   "cell_type": "code",
   "execution_count": 22,
   "id": "f06aac2d",
   "metadata": {
    "execution": {
     "iopub.execute_input": "2025-01-07T17:17:34.607944Z",
     "iopub.status.busy": "2025-01-07T17:17:34.607204Z",
     "iopub.status.idle": "2025-01-07T17:17:34.618991Z",
     "shell.execute_reply": "2025-01-07T17:17:34.617931Z"
    },
    "papermill": {
     "duration": 0.044112,
     "end_time": "2025-01-07T17:17:34.621072",
     "exception": false,
     "start_time": "2025-01-07T17:17:34.576960",
     "status": "completed"
    },
    "tags": []
   },
   "outputs": [
    {
     "data": {
      "text/plain": [
       "Year\n",
       "2021    2051\n",
       "2022    2130\n",
       "2023    2634\n",
       "2024    3379\n",
       "dtype: int64"
      ]
     },
     "execution_count": 22,
     "metadata": {},
     "output_type": "execute_result"
    }
   ],
   "source": [
    "# Year wise orders\n",
    "df['Year'] = df['Order Date'].dt.year\n",
    "yearwise_orders_change = df.groupby(\"Year\").size().pct_change()*100\n",
    "yearwise_orders = df.groupby(\"Year\").size()\n",
    "yearwise_orders"
   ]
  },
  {
   "cell_type": "code",
   "execution_count": 23,
   "id": "30e1a4eb",
   "metadata": {
    "execution": {
     "iopub.execute_input": "2025-01-07T17:17:34.677371Z",
     "iopub.status.busy": "2025-01-07T17:17:34.677003Z",
     "iopub.status.idle": "2025-01-07T17:17:34.684163Z",
     "shell.execute_reply": "2025-01-07T17:17:34.683072Z"
    },
    "papermill": {
     "duration": 0.037964,
     "end_time": "2025-01-07T17:17:34.686389",
     "exception": false,
     "start_time": "2025-01-07T17:17:34.648425",
     "status": "completed"
    },
    "tags": []
   },
   "outputs": [
    {
     "data": {
      "text/plain": [
       "2548.5"
      ]
     },
     "execution_count": 23,
     "metadata": {},
     "output_type": "execute_result"
    }
   ],
   "source": [
    "yearwise_orders.mean()"
   ]
  },
  {
   "cell_type": "code",
   "execution_count": 24,
   "id": "543947d1",
   "metadata": {
    "execution": {
     "iopub.execute_input": "2025-01-07T17:17:34.744125Z",
     "iopub.status.busy": "2025-01-07T17:17:34.742915Z",
     "iopub.status.idle": "2025-01-07T17:17:34.751135Z",
     "shell.execute_reply": "2025-01-07T17:17:34.750084Z"
    },
    "papermill": {
     "duration": 0.039179,
     "end_time": "2025-01-07T17:17:34.753289",
     "exception": false,
     "start_time": "2025-01-07T17:17:34.714110",
     "status": "completed"
    },
    "tags": []
   },
   "outputs": [
    {
     "data": {
      "text/plain": [
       "Year\n",
       "2021          NaN\n",
       "2022     3.851780\n",
       "2023    23.661972\n",
       "2024    28.283979\n",
       "dtype: float64"
      ]
     },
     "execution_count": 24,
     "metadata": {},
     "output_type": "execute_result"
    }
   ],
   "source": [
    "yearwise_orders_change"
   ]
  },
  {
   "cell_type": "markdown",
   "id": "faa83886",
   "metadata": {
    "papermill": {
     "duration": 0.027096,
     "end_time": "2025-01-07T17:17:34.808367",
     "exception": false,
     "start_time": "2025-01-07T17:17:34.781271",
     "status": "completed"
    },
    "tags": []
   },
   "source": [
    "Key insights-\n",
    "There is increse in orders from 2021 to 2024 with maximum of ~24% increase in year 2022 to 2023 with yearly average orders being 2549 orders"
   ]
  },
  {
   "cell_type": "code",
   "execution_count": 25,
   "id": "60c8c0b3",
   "metadata": {
    "execution": {
     "iopub.execute_input": "2025-01-07T17:17:34.864782Z",
     "iopub.status.busy": "2025-01-07T17:17:34.864424Z",
     "iopub.status.idle": "2025-01-07T17:17:34.877485Z",
     "shell.execute_reply": "2025-01-07T17:17:34.876447Z"
    },
    "papermill": {
     "duration": 0.044255,
     "end_time": "2025-01-07T17:17:34.880008",
     "exception": false,
     "start_time": "2025-01-07T17:17:34.835753",
     "status": "completed"
    },
    "tags": []
   },
   "outputs": [
    {
     "data": {
      "text/plain": [
       "Month\n",
       "1      404\n",
       "2      300\n",
       "3      711\n",
       "4      670\n",
       "5      758\n",
       "6      725\n",
       "7      718\n",
       "8      722\n",
       "9     1399\n",
       "10     843\n",
       "11    1474\n",
       "12    1470\n",
       "dtype: int64"
      ]
     },
     "execution_count": 25,
     "metadata": {},
     "output_type": "execute_result"
    }
   ],
   "source": [
    "# Month wise orders\n",
    "df['Month'] = df['Order Date'].dt.month\n",
    "monthwise_orders_change = df.groupby(\"Month\").size().pct_change()*100\n",
    "monthwise_orders = df.groupby(\"Month\").size()\n",
    "monthwise_orders"
   ]
  },
  {
   "cell_type": "markdown",
   "id": "7ef726f4",
   "metadata": {
    "papermill": {
     "duration": 0.027607,
     "end_time": "2025-01-07T17:17:34.935524",
     "exception": false,
     "start_time": "2025-01-07T17:17:34.907917",
     "status": "completed"
    },
    "tags": []
   },
   "source": [
    "monthwise_orders_change"
   ]
  },
  {
   "cell_type": "code",
   "execution_count": 26,
   "id": "8c5d9aa0",
   "metadata": {
    "execution": {
     "iopub.execute_input": "2025-01-07T17:17:34.994362Z",
     "iopub.status.busy": "2025-01-07T17:17:34.993942Z",
     "iopub.status.idle": "2025-01-07T17:17:35.001962Z",
     "shell.execute_reply": "2025-01-07T17:17:35.000808Z"
    },
    "papermill": {
     "duration": 0.040381,
     "end_time": "2025-01-07T17:17:35.004218",
     "exception": false,
     "start_time": "2025-01-07T17:17:34.963837",
     "status": "completed"
    },
    "tags": []
   },
   "outputs": [
    {
     "data": {
      "text/plain": [
       "Month\n",
       "1            NaN\n",
       "2     -25.742574\n",
       "3     137.000000\n",
       "4      -5.766526\n",
       "5      13.134328\n",
       "6      -4.353562\n",
       "7      -0.965517\n",
       "8       0.557103\n",
       "9      93.767313\n",
       "10    -39.742673\n",
       "11     74.851720\n",
       "12     -0.271370\n",
       "dtype: float64"
      ]
     },
     "execution_count": 26,
     "metadata": {},
     "output_type": "execute_result"
    }
   ],
   "source": [
    "monthwise_orders_change"
   ]
  },
  {
   "cell_type": "markdown",
   "id": "4703d39d",
   "metadata": {
    "papermill": {
     "duration": 0.027922,
     "end_time": "2025-01-07T17:17:35.060019",
     "exception": false,
     "start_time": "2025-01-07T17:17:35.032097",
     "status": "completed"
    },
    "tags": []
   },
   "source": [
    "Key insight:\n",
    "\n",
    "* Q3 seems to have highest orders with maximum orders in november and december\n",
    "* 137% increase in orders from 2nd to 3rd month"
   ]
  },
  {
   "cell_type": "code",
   "execution_count": 27,
   "id": "7b00809b",
   "metadata": {
    "execution": {
     "iopub.execute_input": "2025-01-07T17:17:35.117661Z",
     "iopub.status.busy": "2025-01-07T17:17:35.117202Z",
     "iopub.status.idle": "2025-01-07T17:17:35.127604Z",
     "shell.execute_reply": "2025-01-07T17:17:35.126337Z"
    },
    "papermill": {
     "duration": 0.041733,
     "end_time": "2025-01-07T17:17:35.129797",
     "exception": false,
     "start_time": "2025-01-07T17:17:35.088064",
     "status": "completed"
    },
    "tags": []
   },
   "outputs": [
    {
     "data": {
      "text/plain": [
       "Ship Mode\n",
       "First Class       1548\n",
       "Same Day           547\n",
       "Second Class      1979\n",
       "Standard Class    6120\n",
       "dtype: int64"
      ]
     },
     "execution_count": 27,
     "metadata": {},
     "output_type": "execute_result"
    }
   ],
   "source": [
    "#Shipmode\n",
    "ship_mode = df.groupby(\"Ship Mode\").size()\n",
    "ship_mode"
   ]
  },
  {
   "cell_type": "code",
   "execution_count": 28,
   "id": "3b4ab7d5",
   "metadata": {
    "execution": {
     "iopub.execute_input": "2025-01-07T17:17:35.188601Z",
     "iopub.status.busy": "2025-01-07T17:17:35.188231Z",
     "iopub.status.idle": "2025-01-07T17:17:35.198162Z",
     "shell.execute_reply": "2025-01-07T17:17:35.197064Z"
    },
    "papermill": {
     "duration": 0.042023,
     "end_time": "2025-01-07T17:17:35.200439",
     "exception": false,
     "start_time": "2025-01-07T17:17:35.158416",
     "status": "completed"
    },
    "tags": []
   },
   "outputs": [
    {
     "data": {
      "text/plain": [
       "Ship Mode\n",
       "First Class       1548\n",
       "Same Day           547\n",
       "Second Class      1979\n",
       "Standard Class    6120\n",
       "Name: Order ID, dtype: int64"
      ]
     },
     "execution_count": 28,
     "metadata": {},
     "output_type": "execute_result"
    }
   ],
   "source": [
    "df.groupby(\"Ship Mode\")['Order ID'].size()"
   ]
  },
  {
   "cell_type": "code",
   "execution_count": 29,
   "id": "2e441eed",
   "metadata": {
    "execution": {
     "iopub.execute_input": "2025-01-07T17:17:35.258458Z",
     "iopub.status.busy": "2025-01-07T17:17:35.258112Z",
     "iopub.status.idle": "2025-01-07T17:17:35.266908Z",
     "shell.execute_reply": "2025-01-07T17:17:35.265832Z"
    },
    "papermill": {
     "duration": 0.040525,
     "end_time": "2025-01-07T17:17:35.269186",
     "exception": false,
     "start_time": "2025-01-07T17:17:35.228661",
     "status": "completed"
    },
    "tags": []
   },
   "outputs": [
    {
     "data": {
      "text/plain": [
       "Ship Mode\n",
       "First Class       15.185403\n",
       "Same Day           5.365902\n",
       "Second Class      19.413380\n",
       "Standard Class    60.035315\n",
       "dtype: float64"
      ]
     },
     "execution_count": 29,
     "metadata": {},
     "output_type": "execute_result"
    }
   ],
   "source": [
    "ship_mode_proportion = (ship_mode / ship_mode.sum())*100\n",
    "ship_mode_proportion"
   ]
  },
  {
   "cell_type": "markdown",
   "id": "96d700f4",
   "metadata": {
    "papermill": {
     "duration": 0.027848,
     "end_time": "2025-01-07T17:17:35.325108",
     "exception": false,
     "start_time": "2025-01-07T17:17:35.297260",
     "status": "completed"
    },
    "tags": []
   },
   "source": [
    "60% of orders adopted Standard class ship mode and 5% orders adopted same day delivery"
   ]
  },
  {
   "cell_type": "code",
   "execution_count": 30,
   "id": "78276163",
   "metadata": {
    "execution": {
     "iopub.execute_input": "2025-01-07T17:17:35.382686Z",
     "iopub.status.busy": "2025-01-07T17:17:35.382276Z",
     "iopub.status.idle": "2025-01-07T17:17:35.396244Z",
     "shell.execute_reply": "2025-01-07T17:17:35.395241Z"
    },
    "papermill": {
     "duration": 0.04542,
     "end_time": "2025-01-07T17:17:35.398389",
     "exception": false,
     "start_time": "2025-01-07T17:17:35.352969",
     "status": "completed"
    },
    "tags": []
   },
   "outputs": [
    {
     "data": {
      "text/html": [
       "<div>\n",
       "<style scoped>\n",
       "    .dataframe tbody tr th:only-of-type {\n",
       "        vertical-align: middle;\n",
       "    }\n",
       "\n",
       "    .dataframe tbody tr th {\n",
       "        vertical-align: top;\n",
       "    }\n",
       "\n",
       "    .dataframe thead th {\n",
       "        text-align: right;\n",
       "    }\n",
       "</style>\n",
       "<table border=\"1\" class=\"dataframe\">\n",
       "  <thead>\n",
       "    <tr style=\"text-align: right;\">\n",
       "      <th></th>\n",
       "      <th>Customer ID</th>\n",
       "      <th>Order_count</th>\n",
       "    </tr>\n",
       "  </thead>\n",
       "  <tbody>\n",
       "    <tr>\n",
       "      <th>798</th>\n",
       "      <td>WB-21850</td>\n",
       "      <td>41</td>\n",
       "    </tr>\n",
       "    <tr>\n",
       "      <th>82</th>\n",
       "      <td>BF-11170</td>\n",
       "      <td>37</td>\n",
       "    </tr>\n",
       "    <tr>\n",
       "      <th>298</th>\n",
       "      <td>GG-14650</td>\n",
       "      <td>36</td>\n",
       "    </tr>\n",
       "    <tr>\n",
       "      <th>419</th>\n",
       "      <td>JW-15220</td>\n",
       "      <td>34</td>\n",
       "    </tr>\n",
       "    <tr>\n",
       "      <th>491</th>\n",
       "      <td>MA-17560</td>\n",
       "      <td>34</td>\n",
       "    </tr>\n",
       "    <tr>\n",
       "      <th>393</th>\n",
       "      <td>JL-15835</td>\n",
       "      <td>34</td>\n",
       "    </tr>\n",
       "    <tr>\n",
       "      <th>799</th>\n",
       "      <td>XP-21865</td>\n",
       "      <td>34</td>\n",
       "    </tr>\n",
       "    <tr>\n",
       "      <th>617</th>\n",
       "      <td>PP-18955</td>\n",
       "      <td>34</td>\n",
       "    </tr>\n",
       "    <tr>\n",
       "      <th>355</th>\n",
       "      <td>JD-15895</td>\n",
       "      <td>32</td>\n",
       "    </tr>\n",
       "    <tr>\n",
       "      <th>258</th>\n",
       "      <td>EH-13765</td>\n",
       "      <td>32</td>\n",
       "    </tr>\n",
       "  </tbody>\n",
       "</table>\n",
       "</div>"
      ],
      "text/plain": [
       "    Customer ID  Order_count\n",
       "798    WB-21850           41\n",
       "82     BF-11170           37\n",
       "298    GG-14650           36\n",
       "419    JW-15220           34\n",
       "491    MA-17560           34\n",
       "393    JL-15835           34\n",
       "799    XP-21865           34\n",
       "617    PP-18955           34\n",
       "355    JD-15895           32\n",
       "258    EH-13765           32"
      ]
     },
     "execution_count": 30,
     "metadata": {},
     "output_type": "execute_result"
    }
   ],
   "source": [
    "#Top 10 customers based on number of orders\n",
    "top_customers = df.groupby(\"Customer ID\").size().reset_index(name = \"Order_count\")\n",
    "top_customers = top_customers.sort_values(by = \"Order_count\", ascending = False).head(10)\n",
    "top_customers"
   ]
  },
  {
   "cell_type": "code",
   "execution_count": 31,
   "id": "c84c8f98",
   "metadata": {
    "execution": {
     "iopub.execute_input": "2025-01-07T17:17:35.455966Z",
     "iopub.status.busy": "2025-01-07T17:17:35.455552Z",
     "iopub.status.idle": "2025-01-07T17:17:35.469154Z",
     "shell.execute_reply": "2025-01-07T17:17:35.468059Z"
    },
    "papermill": {
     "duration": 0.045035,
     "end_time": "2025-01-07T17:17:35.471448",
     "exception": false,
     "start_time": "2025-01-07T17:17:35.426413",
     "status": "completed"
    },
    "tags": []
   },
   "outputs": [
    {
     "data": {
      "text/plain": [
       "count    804.000000\n",
       "mean      12.679104\n",
       "std        6.568843\n",
       "min        1.000000\n",
       "25%        8.000000\n",
       "50%       12.000000\n",
       "75%       16.000000\n",
       "max       41.000000\n",
       "dtype: float64"
      ]
     },
     "execution_count": 31,
     "metadata": {},
     "output_type": "execute_result"
    }
   ],
   "source": [
    "#Distirbution of customers based on orders\n",
    "\n",
    "cust_des = df.groupby(\"Customer ID\").size().describe()\n",
    "cust_des"
   ]
  },
  {
   "cell_type": "markdown",
   "id": "9a97cf25",
   "metadata": {
    "papermill": {
     "duration": 0.027713,
     "end_time": "2025-01-07T17:17:35.527798",
     "exception": false,
     "start_time": "2025-01-07T17:17:35.500085",
     "status": "completed"
    },
    "tags": []
   },
   "source": [
    "* 75% of the customers have ordered less than 16 times\n",
    "* Average orders per customer = 12.67\n",
    "* Max order done by a single customer =41"
   ]
  },
  {
   "cell_type": "code",
   "execution_count": 32,
   "id": "6a4bcef6",
   "metadata": {
    "execution": {
     "iopub.execute_input": "2025-01-07T17:17:35.585302Z",
     "iopub.status.busy": "2025-01-07T17:17:35.584925Z",
     "iopub.status.idle": "2025-01-07T17:17:35.596409Z",
     "shell.execute_reply": "2025-01-07T17:17:35.595438Z"
    },
    "papermill": {
     "duration": 0.042881,
     "end_time": "2025-01-07T17:17:35.598588",
     "exception": false,
     "start_time": "2025-01-07T17:17:35.555707",
     "status": "completed"
    },
    "tags": []
   },
   "outputs": [
    {
     "data": {
      "text/plain": [
       "Segment\n",
       "Consumer       0.518050\n",
       "Corporate      0.303119\n",
       "Home Office    0.178831\n",
       "dtype: float64"
      ]
     },
     "execution_count": 32,
     "metadata": {},
     "output_type": "execute_result"
    }
   ],
   "source": [
    "#Segments\n",
    "\n",
    "seg = df.groupby(\"Segment\").size()\n",
    "seg\n",
    "seg_proportion = df.groupby(\"Segment\").size()/df['Segment'].size\n",
    "seg_proportion"
   ]
  },
  {
   "cell_type": "code",
   "execution_count": 33,
   "id": "79e67bea",
   "metadata": {
    "execution": {
     "iopub.execute_input": "2025-01-07T17:17:35.657103Z",
     "iopub.status.busy": "2025-01-07T17:17:35.656036Z",
     "iopub.status.idle": "2025-01-07T17:17:35.663989Z",
     "shell.execute_reply": "2025-01-07T17:17:35.662959Z"
    },
    "papermill": {
     "duration": 0.039478,
     "end_time": "2025-01-07T17:17:35.666164",
     "exception": false,
     "start_time": "2025-01-07T17:17:35.626686",
     "status": "completed"
    },
    "tags": []
   },
   "outputs": [
    {
     "data": {
      "text/plain": [
       "Segment\n",
       "Consumer       5281\n",
       "Corporate      3090\n",
       "Home Office    1823\n",
       "dtype: int64"
      ]
     },
     "execution_count": 33,
     "metadata": {},
     "output_type": "execute_result"
    }
   ],
   "source": [
    "seg"
   ]
  },
  {
   "cell_type": "markdown",
   "id": "cdcbbf59",
   "metadata": {
    "papermill": {
     "duration": 0.027698,
     "end_time": "2025-01-07T17:17:35.722462",
     "exception": false,
     "start_time": "2025-01-07T17:17:35.694764",
     "status": "completed"
    },
    "tags": []
   },
   "source": [
    "Approx 52% of orders belong to Consumer segment"
   ]
  },
  {
   "cell_type": "code",
   "execution_count": 34,
   "id": "a22d1e7e",
   "metadata": {
    "execution": {
     "iopub.execute_input": "2025-01-07T17:17:35.781925Z",
     "iopub.status.busy": "2025-01-07T17:17:35.781539Z",
     "iopub.status.idle": "2025-01-07T17:17:35.792280Z",
     "shell.execute_reply": "2025-01-07T17:17:35.790898Z"
    },
    "papermill": {
     "duration": 0.042737,
     "end_time": "2025-01-07T17:17:35.794630",
     "exception": false,
     "start_time": "2025-01-07T17:17:35.751893",
     "status": "completed"
    },
    "tags": []
   },
   "outputs": [
    {
     "data": {
      "text/plain": [
       "Country/Region\n",
       "Canada           0.019619\n",
       "United States    0.980381\n",
       "dtype: float64"
      ]
     },
     "execution_count": 34,
     "metadata": {},
     "output_type": "execute_result"
    }
   ],
   "source": [
    "#Country/Region\n",
    "Country = df.groupby(\"Country/Region\").size()/df['Country/Region'].size\n",
    "Country"
   ]
  },
  {
   "cell_type": "code",
   "execution_count": 35,
   "id": "aadf3c67",
   "metadata": {
    "execution": {
     "iopub.execute_input": "2025-01-07T17:17:35.854047Z",
     "iopub.status.busy": "2025-01-07T17:17:35.853604Z",
     "iopub.status.idle": "2025-01-07T17:17:35.869235Z",
     "shell.execute_reply": "2025-01-07T17:17:35.868081Z"
    },
    "papermill": {
     "duration": 0.047541,
     "end_time": "2025-01-07T17:17:35.871452",
     "exception": false,
     "start_time": "2025-01-07T17:17:35.823911",
     "status": "completed"
    },
    "tags": []
   },
   "outputs": [
    {
     "data": {
      "text/html": [
       "<div>\n",
       "<style scoped>\n",
       "    .dataframe tbody tr th:only-of-type {\n",
       "        vertical-align: middle;\n",
       "    }\n",
       "\n",
       "    .dataframe tbody tr th {\n",
       "        vertical-align: top;\n",
       "    }\n",
       "\n",
       "    .dataframe thead th {\n",
       "        text-align: right;\n",
       "    }\n",
       "</style>\n",
       "<table border=\"1\" class=\"dataframe\">\n",
       "  <thead>\n",
       "    <tr style=\"text-align: right;\">\n",
       "      <th></th>\n",
       "      <th>City</th>\n",
       "      <th>Proportion</th>\n",
       "    </tr>\n",
       "  </thead>\n",
       "  <tbody>\n",
       "    <tr>\n",
       "      <th>335</th>\n",
       "      <td>New York City</td>\n",
       "      <td>8.975868</td>\n",
       "    </tr>\n",
       "    <tr>\n",
       "      <th>270</th>\n",
       "      <td>Los Angeles</td>\n",
       "      <td>7.327840</td>\n",
       "    </tr>\n",
       "    <tr>\n",
       "      <th>380</th>\n",
       "      <td>Philadelphia</td>\n",
       "      <td>5.267805</td>\n",
       "    </tr>\n",
       "    <tr>\n",
       "      <th>446</th>\n",
       "      <td>San Francisco</td>\n",
       "      <td>5.002943</td>\n",
       "    </tr>\n",
       "    <tr>\n",
       "      <th>460</th>\n",
       "      <td>Seattle</td>\n",
       "      <td>4.198548</td>\n",
       "    </tr>\n",
       "    <tr>\n",
       "      <th>211</th>\n",
       "      <td>Houston</td>\n",
       "      <td>3.698254</td>\n",
       "    </tr>\n",
       "    <tr>\n",
       "      <th>82</th>\n",
       "      <td>Chicago</td>\n",
       "      <td>3.080243</td>\n",
       "    </tr>\n",
       "    <tr>\n",
       "      <th>96</th>\n",
       "      <td>Columbus</td>\n",
       "      <td>2.177752</td>\n",
       "    </tr>\n",
       "    <tr>\n",
       "      <th>445</th>\n",
       "      <td>San Diego</td>\n",
       "      <td>1.667648</td>\n",
       "    </tr>\n",
       "    <tr>\n",
       "      <th>472</th>\n",
       "      <td>Springfield</td>\n",
       "      <td>1.598980</td>\n",
       "    </tr>\n",
       "  </tbody>\n",
       "</table>\n",
       "</div>"
      ],
      "text/plain": [
       "              City  Proportion\n",
       "335  New York City    8.975868\n",
       "270    Los Angeles    7.327840\n",
       "380   Philadelphia    5.267805\n",
       "446  San Francisco    5.002943\n",
       "460        Seattle    4.198548\n",
       "211        Houston    3.698254\n",
       "82         Chicago    3.080243\n",
       "96        Columbus    2.177752\n",
       "445      San Diego    1.667648\n",
       "472    Springfield    1.598980"
      ]
     },
     "execution_count": 35,
     "metadata": {},
     "output_type": "execute_result"
    }
   ],
   "source": [
    "#Top 10 Cities based on orders\n",
    "city_prop = (df.groupby(\"City\").size()/df['City'].size)*100\n",
    "city_prop_rein=city_prop.reset_index(name = \"Proportion\")\n",
    "city_prop_rein.sort_values(by = \"Proportion\",ascending = False ).head(10)"
   ]
  },
  {
   "cell_type": "code",
   "execution_count": 36,
   "id": "4bf62191",
   "metadata": {
    "execution": {
     "iopub.execute_input": "2025-01-07T17:17:35.930563Z",
     "iopub.status.busy": "2025-01-07T17:17:35.930194Z",
     "iopub.status.idle": "2025-01-07T17:17:35.945950Z",
     "shell.execute_reply": "2025-01-07T17:17:35.944621Z"
    },
    "papermill": {
     "duration": 0.048442,
     "end_time": "2025-01-07T17:17:35.948554",
     "exception": false,
     "start_time": "2025-01-07T17:17:35.900112",
     "status": "completed"
    },
    "tags": []
   },
   "outputs": [
    {
     "data": {
      "text/html": [
       "<div>\n",
       "<style scoped>\n",
       "    .dataframe tbody tr th:only-of-type {\n",
       "        vertical-align: middle;\n",
       "    }\n",
       "\n",
       "    .dataframe tbody tr th {\n",
       "        vertical-align: top;\n",
       "    }\n",
       "\n",
       "    .dataframe thead th {\n",
       "        text-align: right;\n",
       "    }\n",
       "</style>\n",
       "<table border=\"1\" class=\"dataframe\">\n",
       "  <thead>\n",
       "    <tr style=\"text-align: right;\">\n",
       "      <th></th>\n",
       "      <th>State/Province</th>\n",
       "      <th>Size</th>\n",
       "      <th>Prop</th>\n",
       "    </tr>\n",
       "  </thead>\n",
       "  <tbody>\n",
       "    <tr>\n",
       "      <th>5</th>\n",
       "      <td>California</td>\n",
       "      <td>2001</td>\n",
       "      <td>19.629194</td>\n",
       "    </tr>\n",
       "    <tr>\n",
       "      <th>34</th>\n",
       "      <td>New York</td>\n",
       "      <td>1128</td>\n",
       "      <td>11.065333</td>\n",
       "    </tr>\n",
       "    <tr>\n",
       "      <th>51</th>\n",
       "      <td>Texas</td>\n",
       "      <td>985</td>\n",
       "      <td>9.662547</td>\n",
       "    </tr>\n",
       "    <tr>\n",
       "      <th>43</th>\n",
       "      <td>Pennsylvania</td>\n",
       "      <td>587</td>\n",
       "      <td>5.758289</td>\n",
       "    </tr>\n",
       "    <tr>\n",
       "      <th>55</th>\n",
       "      <td>Washington</td>\n",
       "      <td>506</td>\n",
       "      <td>4.963704</td>\n",
       "    </tr>\n",
       "    <tr>\n",
       "      <th>13</th>\n",
       "      <td>Illinois</td>\n",
       "      <td>492</td>\n",
       "      <td>4.826368</td>\n",
       "    </tr>\n",
       "    <tr>\n",
       "      <th>39</th>\n",
       "      <td>Ohio</td>\n",
       "      <td>469</td>\n",
       "      <td>4.600746</td>\n",
       "    </tr>\n",
       "    <tr>\n",
       "      <th>10</th>\n",
       "      <td>Florida</td>\n",
       "      <td>383</td>\n",
       "      <td>3.757112</td>\n",
       "    </tr>\n",
       "    <tr>\n",
       "      <th>23</th>\n",
       "      <td>Michigan</td>\n",
       "      <td>255</td>\n",
       "      <td>2.501471</td>\n",
       "    </tr>\n",
       "    <tr>\n",
       "      <th>36</th>\n",
       "      <td>North Carolina</td>\n",
       "      <td>249</td>\n",
       "      <td>2.442613</td>\n",
       "    </tr>\n",
       "  </tbody>\n",
       "</table>\n",
       "</div>"
      ],
      "text/plain": [
       "    State/Province  Size       Prop\n",
       "5       California  2001  19.629194\n",
       "34        New York  1128  11.065333\n",
       "51           Texas   985   9.662547\n",
       "43    Pennsylvania   587   5.758289\n",
       "55      Washington   506   4.963704\n",
       "13        Illinois   492   4.826368\n",
       "39            Ohio   469   4.600746\n",
       "10         Florida   383   3.757112\n",
       "23        Michigan   255   2.501471\n",
       "36  North Carolina   249   2.442613"
      ]
     },
     "execution_count": 36,
     "metadata": {},
     "output_type": "execute_result"
    }
   ],
   "source": [
    "#Distribution of State/Province\n",
    "\n",
    "state = df.groupby(\"State/Province\").size().reset_index(name = \"Size\")\n",
    "state_sort = state.sort_values(by = 'Size', ascending = False).head(10)\n",
    "state_sort['Prop'] = (state_sort['Size']/state['Size'].sum())*100\n",
    "state_sort"
   ]
  },
  {
   "cell_type": "code",
   "execution_count": 37,
   "id": "9f34d624",
   "metadata": {
    "execution": {
     "iopub.execute_input": "2025-01-07T17:17:36.010110Z",
     "iopub.status.busy": "2025-01-07T17:17:36.009716Z",
     "iopub.status.idle": "2025-01-07T17:17:36.016968Z",
     "shell.execute_reply": "2025-01-07T17:17:36.015951Z"
    },
    "papermill": {
     "duration": 0.03996,
     "end_time": "2025-01-07T17:17:36.019262",
     "exception": false,
     "start_time": "2025-01-07T17:17:35.979302",
     "status": "completed"
    },
    "tags": []
   },
   "outputs": [
    {
     "data": {
      "text/plain": [
       "0.692073768883657"
      ]
     },
     "execution_count": 37,
     "metadata": {},
     "output_type": "execute_result"
    }
   ],
   "source": [
    "total = df['Row ID'].size\n",
    "top10 = state_sort['Size'].sum()/total\n",
    "top10"
   ]
  },
  {
   "cell_type": "markdown",
   "id": "d298af85",
   "metadata": {
    "papermill": {
     "duration": 0.028913,
     "end_time": "2025-01-07T17:17:36.077642",
     "exception": false,
     "start_time": "2025-01-07T17:17:36.048729",
     "status": "completed"
    },
    "tags": []
   },
   "source": [
    "Top 10 cities covers approx. 70% of orders"
   ]
  },
  {
   "cell_type": "code",
   "execution_count": 38,
   "id": "ca41054a",
   "metadata": {
    "execution": {
     "iopub.execute_input": "2025-01-07T17:17:36.138369Z",
     "iopub.status.busy": "2025-01-07T17:17:36.138022Z",
     "iopub.status.idle": "2025-01-07T17:17:36.149843Z",
     "shell.execute_reply": "2025-01-07T17:17:36.148933Z"
    },
    "papermill": {
     "duration": 0.045412,
     "end_time": "2025-01-07T17:17:36.152001",
     "exception": false,
     "start_time": "2025-01-07T17:17:36.106589",
     "status": "completed"
    },
    "tags": []
   },
   "outputs": [
    {
     "data": {
      "text/plain": [
       "count    654.000000\n",
       "mean      15.587156\n",
       "std       30.444550\n",
       "min        1.000000\n",
       "25%        3.000000\n",
       "50%        6.000000\n",
       "75%       14.000000\n",
       "max      263.000000\n",
       "dtype: float64"
      ]
     },
     "execution_count": 38,
     "metadata": {},
     "output_type": "execute_result"
    }
   ],
   "source": [
    "postal_code = df.groupby(\"Postal Code\").size().describe()\n",
    "postal_code"
   ]
  },
  {
   "cell_type": "markdown",
   "id": "4a5e65ba",
   "metadata": {
    "papermill": {
     "duration": 0.03103,
     "end_time": "2025-01-07T17:17:36.212136",
     "exception": false,
     "start_time": "2025-01-07T17:17:36.181106",
     "status": "completed"
    },
    "tags": []
   },
   "source": [
    "* On average there are 15 orders per postal code\n",
    "* 75% of the postal code have orders less than 14\n",
    "* There is a outlier wherein 263 orders where done from a single postal code"
   ]
  },
  {
   "cell_type": "code",
   "execution_count": 39,
   "id": "fe515908",
   "metadata": {
    "execution": {
     "iopub.execute_input": "2025-01-07T17:17:36.273298Z",
     "iopub.status.busy": "2025-01-07T17:17:36.272917Z",
     "iopub.status.idle": "2025-01-07T17:17:36.285333Z",
     "shell.execute_reply": "2025-01-07T17:17:36.284087Z"
    },
    "papermill": {
     "duration": 0.045943,
     "end_time": "2025-01-07T17:17:36.287783",
     "exception": false,
     "start_time": "2025-01-07T17:17:36.241840",
     "status": "completed"
    },
    "tags": []
   },
   "outputs": [
    {
     "data": {
      "text/plain": [
       "count       4.000000\n",
       "mean     2548.500000\n",
       "std       729.250986\n",
       "min      1620.000000\n",
       "25%      2156.250000\n",
       "50%      2660.500000\n",
       "75%      3052.750000\n",
       "max      3253.000000\n",
       "dtype: float64"
      ]
     },
     "execution_count": 39,
     "metadata": {},
     "output_type": "execute_result"
    }
   ],
   "source": [
    "#Region distribution\n",
    "\n",
    "region_dis = df.groupby(\"Region\").size().describe()\n",
    "region_dis"
   ]
  },
  {
   "cell_type": "markdown",
   "id": "13f53474",
   "metadata": {
    "papermill": {
     "duration": 0.029041,
     "end_time": "2025-01-07T17:17:36.346758",
     "exception": false,
     "start_time": "2025-01-07T17:17:36.317717",
     "status": "completed"
    },
    "tags": []
   },
   "source": [
    "Orders are equally distributed among all the regions"
   ]
  },
  {
   "cell_type": "code",
   "execution_count": 40,
   "id": "6cdf0fe9",
   "metadata": {
    "execution": {
     "iopub.execute_input": "2025-01-07T17:17:36.410103Z",
     "iopub.status.busy": "2025-01-07T17:17:36.409266Z",
     "iopub.status.idle": "2025-01-07T17:17:36.423244Z",
     "shell.execute_reply": "2025-01-07T17:17:36.422080Z"
    },
    "papermill": {
     "duration": 0.048771,
     "end_time": "2025-01-07T17:17:36.425549",
     "exception": false,
     "start_time": "2025-01-07T17:17:36.376778",
     "status": "completed"
    },
    "tags": []
   },
   "outputs": [
    {
     "data": {
      "text/plain": [
       "count    1849.00000\n",
       "mean        5.51325\n",
       "std         3.23719\n",
       "min         1.00000\n",
       "25%         4.00000\n",
       "50%         5.00000\n",
       "75%         7.00000\n",
       "max        50.00000\n",
       "dtype: float64"
      ]
     },
     "execution_count": 40,
     "metadata": {},
     "output_type": "execute_result"
    }
   ],
   "source": [
    "#Products\n",
    "\n",
    "product_dis = df.groupby(\"Product Name\").size()\n",
    "product_dis.describe()"
   ]
  },
  {
   "cell_type": "markdown",
   "id": "6db78c07",
   "metadata": {
    "papermill": {
     "duration": 0.029563,
     "end_time": "2025-01-07T17:17:36.485178",
     "exception": false,
     "start_time": "2025-01-07T17:17:36.455615",
     "status": "completed"
    },
    "tags": []
   },
   "source": [
    "* On average a product is ordered 5 times\n",
    "* 75% producst are ordered less than 7 times"
   ]
  },
  {
   "cell_type": "code",
   "execution_count": 41,
   "id": "89670edc",
   "metadata": {
    "execution": {
     "iopub.execute_input": "2025-01-07T17:17:36.545542Z",
     "iopub.status.busy": "2025-01-07T17:17:36.545199Z",
     "iopub.status.idle": "2025-01-07T17:17:36.553936Z",
     "shell.execute_reply": "2025-01-07T17:17:36.552728Z"
    },
    "papermill": {
     "duration": 0.041645,
     "end_time": "2025-01-07T17:17:36.556168",
     "exception": false,
     "start_time": "2025-01-07T17:17:36.514523",
     "status": "completed"
    },
    "tags": []
   },
   "outputs": [
    {
     "data": {
      "text/plain": [
       "Product Name\n",
       "Avery Non-Stick Binders       20\n",
       "Easy-staple paper             46\n",
       "KI Adjustable-Height Table    20\n",
       "Staple envelope               48\n",
       "Staples                       50\n",
       "dtype: int64"
      ]
     },
     "execution_count": 41,
     "metadata": {},
     "output_type": "execute_result"
    }
   ],
   "source": [
    "#The prouduct which were ordered more than 20 times\n",
    "\n",
    "max20 = product_dis[product_dis>=20]\n",
    "max20"
   ]
  },
  {
   "cell_type": "code",
   "execution_count": 42,
   "id": "9ee9fd59",
   "metadata": {
    "execution": {
     "iopub.execute_input": "2025-01-07T17:17:36.616996Z",
     "iopub.status.busy": "2025-01-07T17:17:36.616620Z",
     "iopub.status.idle": "2025-01-07T17:17:36.625561Z",
     "shell.execute_reply": "2025-01-07T17:17:36.624506Z"
    },
    "papermill": {
     "duration": 0.041386,
     "end_time": "2025-01-07T17:17:36.627625",
     "exception": false,
     "start_time": "2025-01-07T17:17:36.586239",
     "status": "completed"
    },
    "tags": []
   },
   "outputs": [
    {
     "data": {
      "text/plain": [
       "array(['Executive Impressions 13\" Clairmont Wall Clock',\n",
       "       'Eldon Image Series Desk Accessories, Burgundy'], dtype=object)"
      ]
     },
     "execution_count": 42,
     "metadata": {},
     "output_type": "execute_result"
    }
   ],
   "source": [
    "df.loc[df['Product ID'] == \"FUR-FU-10004270\" , 'Product Name'].unique()"
   ]
  },
  {
   "cell_type": "markdown",
   "id": "eac24096",
   "metadata": {
    "papermill": {
     "duration": 0.029353,
     "end_time": "2025-01-07T17:17:36.686576",
     "exception": false,
     "start_time": "2025-01-07T17:17:36.657223",
     "status": "completed"
    },
    "tags": []
   },
   "source": [
    "Furniture products have order count of 20"
   ]
  },
  {
   "cell_type": "code",
   "execution_count": 43,
   "id": "613000b4",
   "metadata": {
    "execution": {
     "iopub.execute_input": "2025-01-07T17:17:36.747902Z",
     "iopub.status.busy": "2025-01-07T17:17:36.747104Z",
     "iopub.status.idle": "2025-01-07T17:17:36.756964Z",
     "shell.execute_reply": "2025-01-07T17:17:36.755832Z"
    },
    "papermill": {
     "duration": 0.043089,
     "end_time": "2025-01-07T17:17:36.759224",
     "exception": false,
     "start_time": "2025-01-07T17:17:36.716135",
     "status": "completed"
    },
    "tags": []
   },
   "outputs": [
    {
     "data": {
      "text/plain": [
       "Category\n",
       "Furniture          21.591132\n",
       "Office Supplies    60.113792\n",
       "Technology         18.295076\n",
       "dtype: float64"
      ]
     },
     "execution_count": 43,
     "metadata": {},
     "output_type": "execute_result"
    }
   ],
   "source": [
    "#Category\n",
    "\n",
    "category_dis = (df.groupby(\"Category\").size()/df['Category'].size)*100\n",
    "category_dis\n"
   ]
  },
  {
   "cell_type": "markdown",
   "id": "c430c1d7",
   "metadata": {
    "papermill": {
     "duration": 0.030037,
     "end_time": "2025-01-07T17:17:36.819399",
     "exception": false,
     "start_time": "2025-01-07T17:17:36.789362",
     "status": "completed"
    },
    "tags": []
   },
   "source": [
    "**60% orders belongs to office supplies category**"
   ]
  },
  {
   "cell_type": "code",
   "execution_count": 44,
   "id": "3ac1a019",
   "metadata": {
    "execution": {
     "iopub.execute_input": "2025-01-07T17:17:36.881109Z",
     "iopub.status.busy": "2025-01-07T17:17:36.880379Z",
     "iopub.status.idle": "2025-01-07T17:17:36.890685Z",
     "shell.execute_reply": "2025-01-07T17:17:36.889504Z"
    },
    "papermill": {
     "duration": 0.043871,
     "end_time": "2025-01-07T17:17:36.892829",
     "exception": false,
     "start_time": "2025-01-07T17:17:36.848958",
     "status": "completed"
    },
    "tags": []
   },
   "outputs": [
    {
     "data": {
      "text/plain": [
       "Sub-Category\n",
       "Accessories     775\n",
       "Appliances      474\n",
       "Art             821\n",
       "Binders        1548\n",
       "Bookcases       232\n",
       "Chairs          634\n",
       "Copiers          70\n",
       "Envelopes       256\n",
       "Fasteners       229\n",
       "Furnishings    1009\n",
       "Labels          368\n",
       "Machines        117\n",
       "Paper          1384\n",
       "Phones          903\n",
       "Storage         856\n",
       "Supplies        192\n",
       "Tables          326\n",
       "dtype: int64"
      ]
     },
     "execution_count": 44,
     "metadata": {},
     "output_type": "execute_result"
    }
   ],
   "source": [
    "#Sub category\n",
    "\n",
    "subcat = df.groupby(\"Sub-Category\").size()\n",
    "subcat"
   ]
  },
  {
   "cell_type": "code",
   "execution_count": 45,
   "id": "44aa3687",
   "metadata": {
    "execution": {
     "iopub.execute_input": "2025-01-07T17:17:36.954283Z",
     "iopub.status.busy": "2025-01-07T17:17:36.953912Z",
     "iopub.status.idle": "2025-01-07T17:17:36.965324Z",
     "shell.execute_reply": "2025-01-07T17:17:36.964279Z"
    },
    "papermill": {
     "duration": 0.044299,
     "end_time": "2025-01-07T17:17:36.967545",
     "exception": false,
     "start_time": "2025-01-07T17:17:36.923246",
     "status": "completed"
    },
    "tags": []
   },
   "outputs": [
    {
     "data": {
      "text/plain": [
       "count      17.000000\n",
       "mean      599.647059\n",
       "std       442.679052\n",
       "min        70.000000\n",
       "25%       232.000000\n",
       "50%       474.000000\n",
       "75%       856.000000\n",
       "max      1548.000000\n",
       "dtype: float64"
      ]
     },
     "execution_count": 45,
     "metadata": {},
     "output_type": "execute_result"
    }
   ],
   "source": [
    "df.groupby(\"Sub-Category\").size().describe()"
   ]
  },
  {
   "cell_type": "markdown",
   "id": "ede2e8ea",
   "metadata": {
    "papermill": {
     "duration": 0.029817,
     "end_time": "2025-01-07T17:17:37.029059",
     "exception": false,
     "start_time": "2025-01-07T17:17:36.999242",
     "status": "completed"
    },
    "tags": []
   },
   "source": [
    "* Sub categorywise on average there are 600 orders \n",
    "* 75% of the subcategories have less than 856 orders\n",
    "* Maximum orders under any sub category are 1548"
   ]
  },
  {
   "cell_type": "code",
   "execution_count": 46,
   "id": "1be6b4c7",
   "metadata": {
    "execution": {
     "iopub.execute_input": "2025-01-07T17:17:37.092053Z",
     "iopub.status.busy": "2025-01-07T17:17:37.091611Z",
     "iopub.status.idle": "2025-01-07T17:17:37.101484Z",
     "shell.execute_reply": "2025-01-07T17:17:37.100417Z"
    },
    "papermill": {
     "duration": 0.044121,
     "end_time": "2025-01-07T17:17:37.103981",
     "exception": false,
     "start_time": "2025-01-07T17:17:37.059860",
     "status": "completed"
    },
    "tags": []
   },
   "outputs": [
    {
     "data": {
      "text/plain": [
       "Sub-Category\n",
       "Copiers          70\n",
       "Machines        117\n",
       "Supplies        192\n",
       "Fasteners       229\n",
       "Bookcases       232\n",
       "Envelopes       256\n",
       "Tables          326\n",
       "Labels          368\n",
       "Appliances      474\n",
       "Chairs          634\n",
       "Accessories     775\n",
       "Art             821\n",
       "Storage         856\n",
       "Phones          903\n",
       "Furnishings    1009\n",
       "Paper          1384\n",
       "Binders        1548\n",
       "dtype: int64"
      ]
     },
     "execution_count": 46,
     "metadata": {},
     "output_type": "execute_result"
    }
   ],
   "source": [
    "df.groupby(\"Sub-Category\").size().sort_values()"
   ]
  },
  {
   "cell_type": "code",
   "execution_count": 47,
   "id": "15cb7dac",
   "metadata": {
    "execution": {
     "iopub.execute_input": "2025-01-07T17:17:37.167151Z",
     "iopub.status.busy": "2025-01-07T17:17:37.166718Z",
     "iopub.status.idle": "2025-01-07T17:17:37.178066Z",
     "shell.execute_reply": "2025-01-07T17:17:37.177027Z"
    },
    "papermill": {
     "duration": 0.046062,
     "end_time": "2025-01-07T17:17:37.180112",
     "exception": false,
     "start_time": "2025-01-07T17:17:37.134050",
     "status": "completed"
    },
    "tags": []
   },
   "outputs": [
    {
     "data": {
      "text/plain": [
       "count    10194.000000\n",
       "mean       228.225854\n",
       "std        619.906839\n",
       "min          0.444000\n",
       "25%         17.220000\n",
       "50%         53.910000\n",
       "75%        209.500000\n",
       "max      22638.480000\n",
       "Name: Sales, dtype: float64"
      ]
     },
     "execution_count": 47,
     "metadata": {},
     "output_type": "execute_result"
    }
   ],
   "source": [
    "#Sales\n",
    "\n",
    "df['Sales'].describe()"
   ]
  },
  {
   "cell_type": "code",
   "execution_count": 48,
   "id": "cc131148",
   "metadata": {
    "execution": {
     "iopub.execute_input": "2025-01-07T17:17:37.242917Z",
     "iopub.status.busy": "2025-01-07T17:17:37.241782Z",
     "iopub.status.idle": "2025-01-07T17:17:37.250106Z",
     "shell.execute_reply": "2025-01-07T17:17:37.248971Z"
    },
    "papermill": {
     "duration": 0.042246,
     "end_time": "2025-01-07T17:17:37.252676",
     "exception": false,
     "start_time": "2025-01-07T17:17:37.210430",
     "status": "completed"
    },
    "tags": []
   },
   "outputs": [
    {
     "data": {
      "text/plain": [
       "23.265343542999997"
      ]
     },
     "execution_count": 48,
     "metadata": {},
     "output_type": "execute_result"
    }
   ],
   "source": [
    "df['Sales'].sum()/100000"
   ]
  },
  {
   "cell_type": "markdown",
   "id": "4721bac9",
   "metadata": {
    "papermill": {
     "duration": 0.029943,
     "end_time": "2025-01-07T17:17:37.313994",
     "exception": false,
     "start_time": "2025-01-07T17:17:37.284051",
     "status": "completed"
    },
    "tags": []
   },
   "source": [
    "* Total sales is 23.26 Mn\n",
    "* Average sales is 228 \n",
    "* 75% of the orders have sales less then 209.5\n",
    "* Max sales is 22638.48\n"
   ]
  },
  {
   "cell_type": "code",
   "execution_count": 49,
   "id": "698774a1",
   "metadata": {
    "execution": {
     "iopub.execute_input": "2025-01-07T17:17:37.376481Z",
     "iopub.status.busy": "2025-01-07T17:17:37.376128Z",
     "iopub.status.idle": "2025-01-07T17:17:37.387902Z",
     "shell.execute_reply": "2025-01-07T17:17:37.386704Z"
    },
    "papermill": {
     "duration": 0.04617,
     "end_time": "2025-01-07T17:17:37.390461",
     "exception": false,
     "start_time": "2025-01-07T17:17:37.344291",
     "status": "completed"
    },
    "tags": []
   },
   "outputs": [
    {
     "data": {
      "text/plain": [
       "count    10194.000000\n",
       "mean         0.155385\n",
       "std          0.206249\n",
       "min          0.000000\n",
       "25%          0.000000\n",
       "50%          0.200000\n",
       "75%          0.200000\n",
       "max          0.800000\n",
       "Name: Discount, dtype: float64"
      ]
     },
     "execution_count": 49,
     "metadata": {},
     "output_type": "execute_result"
    }
   ],
   "source": [
    "#Discount\n",
    "\n",
    "df['Discount'].describe()"
   ]
  },
  {
   "cell_type": "markdown",
   "id": "d02e0751",
   "metadata": {
    "papermill": {
     "duration": 0.030011,
     "end_time": "2025-01-07T17:17:37.451522",
     "exception": false,
     "start_time": "2025-01-07T17:17:37.421511",
     "status": "completed"
    },
    "tags": []
   },
   "source": [
    "* On average 15% discouts were offered\n",
    "* 75% of orders offered discount of 20%\n",
    "* Maximum discount offered was 80%"
   ]
  },
  {
   "cell_type": "code",
   "execution_count": 50,
   "id": "507ea473",
   "metadata": {
    "execution": {
     "iopub.execute_input": "2025-01-07T17:17:37.514056Z",
     "iopub.status.busy": "2025-01-07T17:17:37.513226Z",
     "iopub.status.idle": "2025-01-07T17:17:37.523838Z",
     "shell.execute_reply": "2025-01-07T17:17:37.522666Z"
    },
    "papermill": {
     "duration": 0.044178,
     "end_time": "2025-01-07T17:17:37.526095",
     "exception": false,
     "start_time": "2025-01-07T17:17:37.481917",
     "status": "completed"
    },
    "tags": []
   },
   "outputs": [
    {
     "data": {
      "text/plain": [
       "count    10194.000000\n",
       "mean        28.673417\n",
       "std        232.465115\n",
       "min      -6599.978000\n",
       "25%          1.760800\n",
       "50%          8.690000\n",
       "75%         29.297925\n",
       "max       8399.976000\n",
       "Name: Profit, dtype: float64"
      ]
     },
     "execution_count": 50,
     "metadata": {},
     "output_type": "execute_result"
    }
   ],
   "source": [
    "df['Profit'].describe()"
   ]
  },
  {
   "cell_type": "code",
   "execution_count": 51,
   "id": "602e18fe",
   "metadata": {
    "execution": {
     "iopub.execute_input": "2025-01-07T17:17:37.588732Z",
     "iopub.status.busy": "2025-01-07T17:17:37.588365Z",
     "iopub.status.idle": "2025-01-07T17:17:37.595782Z",
     "shell.execute_reply": "2025-01-07T17:17:37.594838Z"
    },
    "papermill": {
     "duration": 0.041477,
     "end_time": "2025-01-07T17:17:37.598096",
     "exception": false,
     "start_time": "2025-01-07T17:17:37.556619",
     "status": "completed"
    },
    "tags": []
   },
   "outputs": [
    {
     "data": {
      "text/plain": [
       "2.9229681460000005"
      ]
     },
     "execution_count": 51,
     "metadata": {},
     "output_type": "execute_result"
    }
   ],
   "source": [
    "df['Profit'].sum()/1e5"
   ]
  },
  {
   "cell_type": "code",
   "execution_count": 52,
   "id": "5db13449",
   "metadata": {
    "execution": {
     "iopub.execute_input": "2025-01-07T17:17:37.661170Z",
     "iopub.status.busy": "2025-01-07T17:17:37.660786Z",
     "iopub.status.idle": "2025-01-07T17:17:37.668724Z",
     "shell.execute_reply": "2025-01-07T17:17:37.667713Z"
    },
    "papermill": {
     "duration": 0.042183,
     "end_time": "2025-01-07T17:17:37.670759",
     "exception": false,
     "start_time": "2025-01-07T17:17:37.628576",
     "status": "completed"
    },
    "tags": []
   },
   "outputs": [
    {
     "data": {
      "text/plain": [
       "12.56361480584908"
      ]
     },
     "execution_count": 52,
     "metadata": {},
     "output_type": "execute_result"
    }
   ],
   "source": [
    "(df['Profit'].sum()/1e5)/(df['Sales'].sum()/100000)*100"
   ]
  },
  {
   "cell_type": "markdown",
   "id": "7fe978f8",
   "metadata": {
    "papermill": {
     "duration": 0.030617,
     "end_time": "2025-01-07T17:17:37.732466",
     "exception": false,
     "start_time": "2025-01-07T17:17:37.701849",
     "status": "completed"
    },
    "tags": []
   },
   "source": [
    "* Average profit is 28.67\n",
    "* Max profit is 8400\n",
    "* Max loss is 6600\n",
    "* 75% of the orders fetched profit of 30"
   ]
  },
  {
   "cell_type": "code",
   "execution_count": 53,
   "id": "af5941b8",
   "metadata": {
    "execution": {
     "iopub.execute_input": "2025-01-07T17:17:37.796413Z",
     "iopub.status.busy": "2025-01-07T17:17:37.796036Z",
     "iopub.status.idle": "2025-01-07T17:17:37.807951Z",
     "shell.execute_reply": "2025-01-07T17:17:37.806868Z"
    },
    "papermill": {
     "duration": 0.046245,
     "end_time": "2025-01-07T17:17:37.810308",
     "exception": false,
     "start_time": "2025-01-07T17:17:37.764063",
     "status": "completed"
    },
    "tags": []
   },
   "outputs": [
    {
     "data": {
      "text/plain": [
       "count    10194.000000\n",
       "mean         3.961840\n",
       "std          1.744106\n",
       "min          0.000000\n",
       "25%          3.000000\n",
       "50%          4.000000\n",
       "75%          5.000000\n",
       "max         11.000000\n",
       "Name: Pross time, dtype: float64"
      ]
     },
     "execution_count": 53,
     "metadata": {},
     "output_type": "execute_result"
    }
   ],
   "source": [
    "df['Pross time'].describe()"
   ]
  },
  {
   "cell_type": "markdown",
   "id": "0e31d8d9",
   "metadata": {
    "papermill": {
     "duration": 0.032232,
     "end_time": "2025-01-07T17:17:37.873561",
     "exception": false,
     "start_time": "2025-01-07T17:17:37.841329",
     "status": "completed"
    },
    "tags": []
   },
   "source": [
    "* Average process time is 3.96 days\n",
    "* 75% orders have been processed with process time of 5 days\n",
    "* Maximum process time is 11 days "
   ]
  },
  {
   "cell_type": "code",
   "execution_count": 54,
   "id": "5265d6e4",
   "metadata": {
    "execution": {
     "iopub.execute_input": "2025-01-07T17:17:37.937755Z",
     "iopub.status.busy": "2025-01-07T17:17:37.937286Z",
     "iopub.status.idle": "2025-01-07T17:17:37.948425Z",
     "shell.execute_reply": "2025-01-07T17:17:37.947408Z"
    },
    "papermill": {
     "duration": 0.04578,
     "end_time": "2025-01-07T17:17:37.950933",
     "exception": false,
     "start_time": "2025-01-07T17:17:37.905153",
     "status": "completed"
    },
    "tags": []
   },
   "outputs": [
    {
     "data": {
      "text/plain": [
       "count    10194.000000\n",
       "mean        12.221775\n",
       "std         46.488991\n",
       "min       -275.000000\n",
       "25%          7.500000\n",
       "50%         27.000000\n",
       "75%         36.250000\n",
       "max         50.000000\n",
       "Name: Profit_m, dtype: float64"
      ]
     },
     "execution_count": 54,
     "metadata": {},
     "output_type": "execute_result"
    }
   ],
   "source": [
    "df['Profit_m'].describe()"
   ]
  },
  {
   "cell_type": "markdown",
   "id": "bd4b86db",
   "metadata": {
    "papermill": {
     "duration": 0.030535,
     "end_time": "2025-01-07T17:17:38.014203",
     "exception": false,
     "start_time": "2025-01-07T17:17:37.983668",
     "status": "completed"
    },
    "tags": []
   },
   "source": [
    "* Average profit of 12\n",
    "* Max profit of 50\n",
    "* Max loss of 275\n",
    "* 75% of the orders have fetched profit of 36"
   ]
  },
  {
   "cell_type": "markdown",
   "id": "a5ff4c1d",
   "metadata": {
    "papermill": {
     "duration": 0.030596,
     "end_time": "2025-01-07T17:17:38.075576",
     "exception": false,
     "start_time": "2025-01-07T17:17:38.044980",
     "status": "completed"
    },
    "tags": []
   },
   "source": [
    "# Multi variate analysis"
   ]
  },
  {
   "cell_type": "code",
   "execution_count": 55,
   "id": "7433f7e2",
   "metadata": {
    "execution": {
     "iopub.execute_input": "2025-01-07T17:17:38.139864Z",
     "iopub.status.busy": "2025-01-07T17:17:38.139478Z",
     "iopub.status.idle": "2025-01-07T17:17:38.161423Z",
     "shell.execute_reply": "2025-01-07T17:17:38.159964Z"
    },
    "papermill": {
     "duration": 0.057788,
     "end_time": "2025-01-07T17:17:38.164282",
     "exception": false,
     "start_time": "2025-01-07T17:17:38.106494",
     "status": "completed"
    },
    "tags": []
   },
   "outputs": [
    {
     "name": "stdout",
     "output_type": "stream",
     "text": [
      "<class 'pandas.core.frame.DataFrame'>\n",
      "RangeIndex: 10194 entries, 0 to 10193\n",
      "Data columns (total 26 columns):\n",
      " #   Column          Non-Null Count  Dtype         \n",
      "---  ------          --------------  -----         \n",
      " 0   Row ID          10194 non-null  int64         \n",
      " 1   Order ID        10194 non-null  object        \n",
      " 2   Order Date      10194 non-null  datetime64[ns]\n",
      " 3   Ship Date       10194 non-null  datetime64[ns]\n",
      " 4   Ship Mode       10194 non-null  object        \n",
      " 5   Customer ID     10194 non-null  object        \n",
      " 6   Customer Name   10194 non-null  object        \n",
      " 7   Segment         10194 non-null  object        \n",
      " 8   Country/Region  10194 non-null  object        \n",
      " 9   City            10194 non-null  object        \n",
      " 10  State/Province  10194 non-null  object        \n",
      " 11  Postal Code     10194 non-null  object        \n",
      " 12  Region          10194 non-null  object        \n",
      " 13  Product ID      10194 non-null  object        \n",
      " 14  Category        10194 non-null  object        \n",
      " 15  Sub-Category    10194 non-null  object        \n",
      " 16  Product Name    10194 non-null  object        \n",
      " 17  Sales           10194 non-null  float64       \n",
      " 18  Quantity        10194 non-null  int64         \n",
      " 19  Discount        10194 non-null  float64       \n",
      " 20  Profit          10194 non-null  float64       \n",
      " 21  Pross time      10194 non-null  int64         \n",
      " 22  Cost            10194 non-null  float64       \n",
      " 23  Profit_m        10194 non-null  float64       \n",
      " 24  Year            10194 non-null  int32         \n",
      " 25  Month           10194 non-null  int32         \n",
      "dtypes: datetime64[ns](2), float64(5), int32(2), int64(3), object(14)\n",
      "memory usage: 1.9+ MB\n"
     ]
    }
   ],
   "source": [
    "df.info()"
   ]
  },
  {
   "cell_type": "markdown",
   "id": "2912ef4b",
   "metadata": {
    "papermill": {
     "duration": 0.03075,
     "end_time": "2025-01-07T17:17:38.228846",
     "exception": false,
     "start_time": "2025-01-07T17:17:38.198096",
     "status": "completed"
    },
    "tags": []
   },
   "source": [
    "**Sales analysis**\n",
    "\n",
    "* Categorywise and sub category wise total sales\n",
    "* Constrywise region wise total sales\n",
    "* Yearwise monthwise total sales\n",
    "* Cities contributing to 80% of sales"
   ]
  },
  {
   "cell_type": "code",
   "execution_count": 56,
   "id": "e7f9db50",
   "metadata": {
    "execution": {
     "iopub.execute_input": "2025-01-07T17:17:38.293096Z",
     "iopub.status.busy": "2025-01-07T17:17:38.292701Z",
     "iopub.status.idle": "2025-01-07T17:17:38.314225Z",
     "shell.execute_reply": "2025-01-07T17:17:38.312939Z"
    },
    "papermill": {
     "duration": 0.05641,
     "end_time": "2025-01-07T17:17:38.316487",
     "exception": false,
     "start_time": "2025-01-07T17:17:38.260077",
     "status": "completed"
    },
    "tags": []
   },
   "outputs": [
    {
     "data": {
      "text/html": [
       "<div>\n",
       "<style scoped>\n",
       "    .dataframe tbody tr th:only-of-type {\n",
       "        vertical-align: middle;\n",
       "    }\n",
       "\n",
       "    .dataframe tbody tr th {\n",
       "        vertical-align: top;\n",
       "    }\n",
       "\n",
       "    .dataframe thead th {\n",
       "        text-align: right;\n",
       "    }\n",
       "</style>\n",
       "<table border=\"1\" class=\"dataframe\">\n",
       "  <thead>\n",
       "    <tr style=\"text-align: right;\">\n",
       "      <th></th>\n",
       "      <th>Category</th>\n",
       "      <th>Sub-Category</th>\n",
       "      <th>Sales</th>\n",
       "    </tr>\n",
       "  </thead>\n",
       "  <tbody>\n",
       "    <tr>\n",
       "      <th>3</th>\n",
       "      <td>Furniture</td>\n",
       "      <td>Tables</td>\n",
       "      <td>208020.182</td>\n",
       "    </tr>\n",
       "    <tr>\n",
       "      <th>12</th>\n",
       "      <td>Office Supplies</td>\n",
       "      <td>Supplies</td>\n",
       "      <td>46725.498</td>\n",
       "    </tr>\n",
       "    <tr>\n",
       "      <th>16</th>\n",
       "      <td>Technology</td>\n",
       "      <td>Phones</td>\n",
       "      <td>331842.640</td>\n",
       "    </tr>\n",
       "  </tbody>\n",
       "</table>\n",
       "</div>"
      ],
      "text/plain": [
       "           Category Sub-Category       Sales\n",
       "3         Furniture       Tables  208020.182\n",
       "12  Office Supplies     Supplies   46725.498\n",
       "16       Technology       Phones  331842.640"
      ]
     },
     "execution_count": 56,
     "metadata": {},
     "output_type": "execute_result"
    }
   ],
   "source": [
    "#Categorywise and sub category wise total sales\n",
    "\n",
    "Total_sales_cat = df.groupby(['Category','Sub-Category'])['Sales'].sum().reset_index()\n",
    "\n",
    "Total_sales_cat = Total_sales_cat.sort_values(by=['Category','Sub-Category','Sales'], ascending = [True,False,False])\n",
    "\n",
    "Total_sales_cat.groupby(\"Category\").head(1)"
   ]
  },
  {
   "cell_type": "markdown",
   "id": "ae41f46b",
   "metadata": {
    "papermill": {
     "duration": 0.030868,
     "end_time": "2025-01-07T17:17:38.378857",
     "exception": false,
     "start_time": "2025-01-07T17:17:38.347989",
     "status": "completed"
    },
    "tags": []
   },
   "source": []
  },
  {
   "cell_type": "code",
   "execution_count": 57,
   "id": "9f03c459",
   "metadata": {
    "execution": {
     "iopub.execute_input": "2025-01-07T17:17:38.442703Z",
     "iopub.status.busy": "2025-01-07T17:17:38.442322Z",
     "iopub.status.idle": "2025-01-07T17:17:38.458644Z",
     "shell.execute_reply": "2025-01-07T17:17:38.457647Z"
    },
    "papermill": {
     "duration": 0.050634,
     "end_time": "2025-01-07T17:17:38.460727",
     "exception": false,
     "start_time": "2025-01-07T17:17:38.410093",
     "status": "completed"
    },
    "tags": []
   },
   "outputs": [
    {
     "data": {
      "text/html": [
       "<div>\n",
       "<style scoped>\n",
       "    .dataframe tbody tr th:only-of-type {\n",
       "        vertical-align: middle;\n",
       "    }\n",
       "\n",
       "    .dataframe tbody tr th {\n",
       "        vertical-align: top;\n",
       "    }\n",
       "\n",
       "    .dataframe thead th {\n",
       "        text-align: right;\n",
       "    }\n",
       "</style>\n",
       "<table border=\"1\" class=\"dataframe\">\n",
       "  <thead>\n",
       "    <tr style=\"text-align: right;\">\n",
       "      <th></th>\n",
       "      <th>Country/Region</th>\n",
       "      <th>Region</th>\n",
       "      <th>Sales</th>\n",
       "    </tr>\n",
       "  </thead>\n",
       "  <tbody>\n",
       "    <tr>\n",
       "      <th>2</th>\n",
       "      <td>Canada</td>\n",
       "      <td>West</td>\n",
       "      <td>14355.7840</td>\n",
       "    </tr>\n",
       "    <tr>\n",
       "      <th>1</th>\n",
       "      <td>Canada</td>\n",
       "      <td>East</td>\n",
       "      <td>13046.9280</td>\n",
       "    </tr>\n",
       "    <tr>\n",
       "      <th>0</th>\n",
       "      <td>Canada</td>\n",
       "      <td>Central</td>\n",
       "      <td>1930.7820</td>\n",
       "    </tr>\n",
       "    <tr>\n",
       "      <th>6</th>\n",
       "      <td>United States</td>\n",
       "      <td>West</td>\n",
       "      <td>725457.8245</td>\n",
       "    </tr>\n",
       "    <tr>\n",
       "      <th>5</th>\n",
       "      <td>United States</td>\n",
       "      <td>South</td>\n",
       "      <td>391721.9050</td>\n",
       "    </tr>\n",
       "    <tr>\n",
       "      <th>4</th>\n",
       "      <td>United States</td>\n",
       "      <td>East</td>\n",
       "      <td>678781.2400</td>\n",
       "    </tr>\n",
       "    <tr>\n",
       "      <th>3</th>\n",
       "      <td>United States</td>\n",
       "      <td>Central</td>\n",
       "      <td>501239.8908</td>\n",
       "    </tr>\n",
       "  </tbody>\n",
       "</table>\n",
       "</div>"
      ],
      "text/plain": [
       "  Country/Region   Region        Sales\n",
       "2         Canada     West   14355.7840\n",
       "1         Canada     East   13046.9280\n",
       "0         Canada  Central    1930.7820\n",
       "6  United States     West  725457.8245\n",
       "5  United States    South  391721.9050\n",
       "4  United States     East  678781.2400\n",
       "3  United States  Central  501239.8908"
      ]
     },
     "execution_count": 57,
     "metadata": {},
     "output_type": "execute_result"
    }
   ],
   "source": [
    "#Constrywise region wise total sales\n",
    "\n",
    "sales_countrywise = df.groupby(['Country/Region','Region'])['Sales'].sum().reset_index()\n",
    "sales_countrywise.sort_values(by = ['Country/Region','Region','Sales'], ascending = [True,False,False])"
   ]
  },
  {
   "cell_type": "code",
   "execution_count": 58,
   "id": "09fe99b1",
   "metadata": {
    "execution": {
     "iopub.execute_input": "2025-01-07T17:17:38.524597Z",
     "iopub.status.busy": "2025-01-07T17:17:38.524210Z",
     "iopub.status.idle": "2025-01-07T17:17:38.540677Z",
     "shell.execute_reply": "2025-01-07T17:17:38.539702Z"
    },
    "papermill": {
     "duration": 0.051041,
     "end_time": "2025-01-07T17:17:38.543014",
     "exception": false,
     "start_time": "2025-01-07T17:17:38.491973",
     "status": "completed"
    },
    "tags": []
   },
   "outputs": [
    {
     "data": {
      "text/html": [
       "<div>\n",
       "<style scoped>\n",
       "    .dataframe tbody tr th:only-of-type {\n",
       "        vertical-align: middle;\n",
       "    }\n",
       "\n",
       "    .dataframe tbody tr th {\n",
       "        vertical-align: top;\n",
       "    }\n",
       "\n",
       "    .dataframe thead th {\n",
       "        text-align: right;\n",
       "    }\n",
       "</style>\n",
       "<table border=\"1\" class=\"dataframe\">\n",
       "  <thead>\n",
       "    <tr style=\"text-align: right;\">\n",
       "      <th></th>\n",
       "      <th>Year</th>\n",
       "      <th>Month</th>\n",
       "      <th>Sales</th>\n",
       "    </tr>\n",
       "  </thead>\n",
       "  <tbody>\n",
       "    <tr>\n",
       "      <th>0</th>\n",
       "      <td>2021</td>\n",
       "      <td>1</td>\n",
       "      <td>14518.0550</td>\n",
       "    </tr>\n",
       "    <tr>\n",
       "      <th>1</th>\n",
       "      <td>2021</td>\n",
       "      <td>2</td>\n",
       "      <td>4519.8920</td>\n",
       "    </tr>\n",
       "    <tr>\n",
       "      <th>2</th>\n",
       "      <td>2021</td>\n",
       "      <td>3</td>\n",
       "      <td>56933.9090</td>\n",
       "    </tr>\n",
       "    <tr>\n",
       "      <th>3</th>\n",
       "      <td>2021</td>\n",
       "      <td>4</td>\n",
       "      <td>28295.3450</td>\n",
       "    </tr>\n",
       "    <tr>\n",
       "      <th>4</th>\n",
       "      <td>2021</td>\n",
       "      <td>5</td>\n",
       "      <td>26319.7670</td>\n",
       "    </tr>\n",
       "    <tr>\n",
       "      <th>5</th>\n",
       "      <td>2021</td>\n",
       "      <td>6</td>\n",
       "      <td>34669.4796</td>\n",
       "    </tr>\n",
       "    <tr>\n",
       "      <th>6</th>\n",
       "      <td>2021</td>\n",
       "      <td>7</td>\n",
       "      <td>33946.3930</td>\n",
       "    </tr>\n",
       "    <tr>\n",
       "      <th>7</th>\n",
       "      <td>2021</td>\n",
       "      <td>8</td>\n",
       "      <td>28918.3385</td>\n",
       "    </tr>\n",
       "    <tr>\n",
       "      <th>8</th>\n",
       "      <td>2021</td>\n",
       "      <td>9</td>\n",
       "      <td>82670.4288</td>\n",
       "    </tr>\n",
       "    <tr>\n",
       "      <th>9</th>\n",
       "      <td>2021</td>\n",
       "      <td>10</td>\n",
       "      <td>32413.3390</td>\n",
       "    </tr>\n",
       "    <tr>\n",
       "      <th>10</th>\n",
       "      <td>2021</td>\n",
       "      <td>11</td>\n",
       "      <td>78826.9567</td>\n",
       "    </tr>\n",
       "    <tr>\n",
       "      <th>11</th>\n",
       "      <td>2021</td>\n",
       "      <td>12</td>\n",
       "      <td>72008.3085</td>\n",
       "    </tr>\n",
       "    <tr>\n",
       "      <th>12</th>\n",
       "      <td>2022</td>\n",
       "      <td>1</td>\n",
       "      <td>18461.9156</td>\n",
       "    </tr>\n",
       "    <tr>\n",
       "      <th>13</th>\n",
       "      <td>2022</td>\n",
       "      <td>2</td>\n",
       "      <td>11951.4110</td>\n",
       "    </tr>\n",
       "    <tr>\n",
       "      <th>14</th>\n",
       "      <td>2022</td>\n",
       "      <td>3</td>\n",
       "      <td>39978.6280</td>\n",
       "    </tr>\n",
       "    <tr>\n",
       "      <th>15</th>\n",
       "      <td>2022</td>\n",
       "      <td>4</td>\n",
       "      <td>34195.2085</td>\n",
       "    </tr>\n",
       "    <tr>\n",
       "      <th>16</th>\n",
       "      <td>2022</td>\n",
       "      <td>5</td>\n",
       "      <td>30246.9465</td>\n",
       "    </tr>\n",
       "    <tr>\n",
       "      <th>17</th>\n",
       "      <td>2022</td>\n",
       "      <td>6</td>\n",
       "      <td>24797.2920</td>\n",
       "    </tr>\n",
       "    <tr>\n",
       "      <th>18</th>\n",
       "      <td>2022</td>\n",
       "      <td>7</td>\n",
       "      <td>28765.3250</td>\n",
       "    </tr>\n",
       "    <tr>\n",
       "      <th>19</th>\n",
       "      <td>2022</td>\n",
       "      <td>8</td>\n",
       "      <td>37057.0042</td>\n",
       "    </tr>\n",
       "    <tr>\n",
       "      <th>20</th>\n",
       "      <td>2022</td>\n",
       "      <td>9</td>\n",
       "      <td>64627.0460</td>\n",
       "    </tr>\n",
       "    <tr>\n",
       "      <th>21</th>\n",
       "      <td>2022</td>\n",
       "      <td>10</td>\n",
       "      <td>31407.1335</td>\n",
       "    </tr>\n",
       "    <tr>\n",
       "      <th>22</th>\n",
       "      <td>2022</td>\n",
       "      <td>11</td>\n",
       "      <td>75972.5635</td>\n",
       "    </tr>\n",
       "    <tr>\n",
       "      <th>23</th>\n",
       "      <td>2022</td>\n",
       "      <td>12</td>\n",
       "      <td>75532.5572</td>\n",
       "    </tr>\n",
       "    <tr>\n",
       "      <th>24</th>\n",
       "      <td>2023</td>\n",
       "      <td>1</td>\n",
       "      <td>18830.3310</td>\n",
       "    </tr>\n",
       "    <tr>\n",
       "      <th>25</th>\n",
       "      <td>2023</td>\n",
       "      <td>2</td>\n",
       "      <td>22978.8150</td>\n",
       "    </tr>\n",
       "    <tr>\n",
       "      <th>26</th>\n",
       "      <td>2023</td>\n",
       "      <td>3</td>\n",
       "      <td>53031.0690</td>\n",
       "    </tr>\n",
       "    <tr>\n",
       "      <th>27</th>\n",
       "      <td>2023</td>\n",
       "      <td>4</td>\n",
       "      <td>38829.1590</td>\n",
       "    </tr>\n",
       "    <tr>\n",
       "      <th>28</th>\n",
       "      <td>2023</td>\n",
       "      <td>5</td>\n",
       "      <td>57042.8380</td>\n",
       "    </tr>\n",
       "    <tr>\n",
       "      <th>29</th>\n",
       "      <td>2023</td>\n",
       "      <td>6</td>\n",
       "      <td>40937.1480</td>\n",
       "    </tr>\n",
       "    <tr>\n",
       "      <th>30</th>\n",
       "      <td>2023</td>\n",
       "      <td>7</td>\n",
       "      <td>40300.4990</td>\n",
       "    </tr>\n",
       "    <tr>\n",
       "      <th>31</th>\n",
       "      <td>2023</td>\n",
       "      <td>8</td>\n",
       "      <td>31716.8143</td>\n",
       "    </tr>\n",
       "    <tr>\n",
       "      <th>32</th>\n",
       "      <td>2023</td>\n",
       "      <td>9</td>\n",
       "      <td>73521.6629</td>\n",
       "    </tr>\n",
       "    <tr>\n",
       "      <th>33</th>\n",
       "      <td>2023</td>\n",
       "      <td>10</td>\n",
       "      <td>59831.0010</td>\n",
       "    </tr>\n",
       "    <tr>\n",
       "      <th>34</th>\n",
       "      <td>2023</td>\n",
       "      <td>11</td>\n",
       "      <td>79411.9658</td>\n",
       "    </tr>\n",
       "    <tr>\n",
       "      <th>35</th>\n",
       "      <td>2023</td>\n",
       "      <td>12</td>\n",
       "      <td>97502.2770</td>\n",
       "    </tr>\n",
       "    <tr>\n",
       "      <th>36</th>\n",
       "      <td>2024</td>\n",
       "      <td>1</td>\n",
       "      <td>44259.2140</td>\n",
       "    </tr>\n",
       "    <tr>\n",
       "      <th>37</th>\n",
       "      <td>2024</td>\n",
       "      <td>2</td>\n",
       "      <td>20301.1334</td>\n",
       "    </tr>\n",
       "    <tr>\n",
       "      <th>38</th>\n",
       "      <td>2024</td>\n",
       "      <td>3</td>\n",
       "      <td>60728.4808</td>\n",
       "    </tr>\n",
       "    <tr>\n",
       "      <th>39</th>\n",
       "      <td>2024</td>\n",
       "      <td>4</td>\n",
       "      <td>36779.0361</td>\n",
       "    </tr>\n",
       "    <tr>\n",
       "      <th>40</th>\n",
       "      <td>2024</td>\n",
       "      <td>5</td>\n",
       "      <td>45155.4822</td>\n",
       "    </tr>\n",
       "    <tr>\n",
       "      <th>41</th>\n",
       "      <td>2024</td>\n",
       "      <td>6</td>\n",
       "      <td>53056.0777</td>\n",
       "    </tr>\n",
       "    <tr>\n",
       "      <th>42</th>\n",
       "      <td>2024</td>\n",
       "      <td>7</td>\n",
       "      <td>45989.4960</td>\n",
       "    </tr>\n",
       "    <tr>\n",
       "      <th>43</th>\n",
       "      <td>2024</td>\n",
       "      <td>8</td>\n",
       "      <td>64129.7580</td>\n",
       "    </tr>\n",
       "    <tr>\n",
       "      <th>44</th>\n",
       "      <td>2024</td>\n",
       "      <td>9</td>\n",
       "      <td>88064.5320</td>\n",
       "    </tr>\n",
       "    <tr>\n",
       "      <th>45</th>\n",
       "      <td>2024</td>\n",
       "      <td>10</td>\n",
       "      <td>83474.7832</td>\n",
       "    </tr>\n",
       "    <tr>\n",
       "      <th>46</th>\n",
       "      <td>2024</td>\n",
       "      <td>11</td>\n",
       "      <td>118454.5050</td>\n",
       "    </tr>\n",
       "    <tr>\n",
       "      <th>47</th>\n",
       "      <td>2024</td>\n",
       "      <td>12</td>\n",
       "      <td>85175.0328</td>\n",
       "    </tr>\n",
       "  </tbody>\n",
       "</table>\n",
       "</div>"
      ],
      "text/plain": [
       "    Year  Month        Sales\n",
       "0   2021      1   14518.0550\n",
       "1   2021      2    4519.8920\n",
       "2   2021      3   56933.9090\n",
       "3   2021      4   28295.3450\n",
       "4   2021      5   26319.7670\n",
       "5   2021      6   34669.4796\n",
       "6   2021      7   33946.3930\n",
       "7   2021      8   28918.3385\n",
       "8   2021      9   82670.4288\n",
       "9   2021     10   32413.3390\n",
       "10  2021     11   78826.9567\n",
       "11  2021     12   72008.3085\n",
       "12  2022      1   18461.9156\n",
       "13  2022      2   11951.4110\n",
       "14  2022      3   39978.6280\n",
       "15  2022      4   34195.2085\n",
       "16  2022      5   30246.9465\n",
       "17  2022      6   24797.2920\n",
       "18  2022      7   28765.3250\n",
       "19  2022      8   37057.0042\n",
       "20  2022      9   64627.0460\n",
       "21  2022     10   31407.1335\n",
       "22  2022     11   75972.5635\n",
       "23  2022     12   75532.5572\n",
       "24  2023      1   18830.3310\n",
       "25  2023      2   22978.8150\n",
       "26  2023      3   53031.0690\n",
       "27  2023      4   38829.1590\n",
       "28  2023      5   57042.8380\n",
       "29  2023      6   40937.1480\n",
       "30  2023      7   40300.4990\n",
       "31  2023      8   31716.8143\n",
       "32  2023      9   73521.6629\n",
       "33  2023     10   59831.0010\n",
       "34  2023     11   79411.9658\n",
       "35  2023     12   97502.2770\n",
       "36  2024      1   44259.2140\n",
       "37  2024      2   20301.1334\n",
       "38  2024      3   60728.4808\n",
       "39  2024      4   36779.0361\n",
       "40  2024      5   45155.4822\n",
       "41  2024      6   53056.0777\n",
       "42  2024      7   45989.4960\n",
       "43  2024      8   64129.7580\n",
       "44  2024      9   88064.5320\n",
       "45  2024     10   83474.7832\n",
       "46  2024     11  118454.5050\n",
       "47  2024     12   85175.0328"
      ]
     },
     "execution_count": 58,
     "metadata": {},
     "output_type": "execute_result"
    }
   ],
   "source": [
    "#Yearwise monthwise total sales\n",
    "\n",
    "sales_yearwise = df.groupby(['Year','Month'])['Sales'].sum().reset_index()\n",
    "sales_yearwise"
   ]
  },
  {
   "cell_type": "code",
   "execution_count": 59,
   "id": "0e003d74",
   "metadata": {
    "execution": {
     "iopub.execute_input": "2025-01-07T17:17:38.608225Z",
     "iopub.status.busy": "2025-01-07T17:17:38.607800Z",
     "iopub.status.idle": "2025-01-07T17:17:38.624557Z",
     "shell.execute_reply": "2025-01-07T17:17:38.623492Z"
    },
    "papermill": {
     "duration": 0.052099,
     "end_time": "2025-01-07T17:17:38.627062",
     "exception": false,
     "start_time": "2025-01-07T17:17:38.574963",
     "status": "completed"
    },
    "tags": []
   },
   "outputs": [
    {
     "data": {
      "text/html": [
       "<div>\n",
       "<style scoped>\n",
       "    .dataframe tbody tr th:only-of-type {\n",
       "        vertical-align: middle;\n",
       "    }\n",
       "\n",
       "    .dataframe tbody tr th {\n",
       "        vertical-align: top;\n",
       "    }\n",
       "\n",
       "    .dataframe thead th {\n",
       "        text-align: right;\n",
       "    }\n",
       "</style>\n",
       "<table border=\"1\" class=\"dataframe\">\n",
       "  <thead>\n",
       "    <tr style=\"text-align: right;\">\n",
       "      <th></th>\n",
       "      <th>Year</th>\n",
       "      <th>Sales</th>\n",
       "      <th>Change</th>\n",
       "    </tr>\n",
       "  </thead>\n",
       "  <tbody>\n",
       "    <tr>\n",
       "      <th>0</th>\n",
       "      <td>2021</td>\n",
       "      <td>4.940402</td>\n",
       "      <td>NaN</td>\n",
       "    </tr>\n",
       "    <tr>\n",
       "      <th>1</th>\n",
       "      <td>2022</td>\n",
       "      <td>4.729930</td>\n",
       "      <td>-4.260216</td>\n",
       "    </tr>\n",
       "    <tr>\n",
       "      <th>2</th>\n",
       "      <td>2023</td>\n",
       "      <td>6.139336</td>\n",
       "      <td>29.797595</td>\n",
       "    </tr>\n",
       "    <tr>\n",
       "      <th>3</th>\n",
       "      <td>2024</td>\n",
       "      <td>7.455675</td>\n",
       "      <td>21.441074</td>\n",
       "    </tr>\n",
       "  </tbody>\n",
       "</table>\n",
       "</div>"
      ],
      "text/plain": [
       "   Year     Sales     Change\n",
       "0  2021  4.940402        NaN\n",
       "1  2022  4.729930  -4.260216\n",
       "2  2023  6.139336  29.797595\n",
       "3  2024  7.455675  21.441074"
      ]
     },
     "execution_count": 59,
     "metadata": {},
     "output_type": "execute_result"
    }
   ],
   "source": [
    "#Yearwise sales\n",
    "yearsales = (df.groupby(\"Year\")['Sales'].sum()/1e5).reset_index()\n",
    "yearsales['Change'] = yearsales['Sales'].pct_change()*100\n",
    "yearsales"
   ]
  },
  {
   "cell_type": "code",
   "execution_count": 60,
   "id": "fb012e18",
   "metadata": {
    "execution": {
     "iopub.execute_input": "2025-01-07T17:17:38.693190Z",
     "iopub.status.busy": "2025-01-07T17:17:38.692763Z",
     "iopub.status.idle": "2025-01-07T17:17:38.719077Z",
     "shell.execute_reply": "2025-01-07T17:17:38.717971Z"
    },
    "papermill": {
     "duration": 0.061645,
     "end_time": "2025-01-07T17:17:38.721118",
     "exception": false,
     "start_time": "2025-01-07T17:17:38.659473",
     "status": "completed"
    },
    "tags": []
   },
   "outputs": [
    {
     "data": {
      "text/html": [
       "<div>\n",
       "<style scoped>\n",
       "    .dataframe tbody tr th:only-of-type {\n",
       "        vertical-align: middle;\n",
       "    }\n",
       "\n",
       "    .dataframe tbody tr th {\n",
       "        vertical-align: top;\n",
       "    }\n",
       "\n",
       "    .dataframe thead th {\n",
       "        text-align: right;\n",
       "    }\n",
       "</style>\n",
       "<table border=\"1\" class=\"dataframe\">\n",
       "  <thead>\n",
       "    <tr style=\"text-align: right;\">\n",
       "      <th></th>\n",
       "      <th>Year</th>\n",
       "      <th>Month</th>\n",
       "    </tr>\n",
       "  </thead>\n",
       "  <tbody>\n",
       "    <tr>\n",
       "      <th>0</th>\n",
       "      <td>2021</td>\n",
       "      <td>9</td>\n",
       "    </tr>\n",
       "    <tr>\n",
       "      <th>1</th>\n",
       "      <td>2021</td>\n",
       "      <td>11</td>\n",
       "    </tr>\n",
       "    <tr>\n",
       "      <th>2</th>\n",
       "      <td>2021</td>\n",
       "      <td>12</td>\n",
       "    </tr>\n",
       "    <tr>\n",
       "      <th>3</th>\n",
       "      <td>2021</td>\n",
       "      <td>3</td>\n",
       "    </tr>\n",
       "    <tr>\n",
       "      <th>4</th>\n",
       "      <td>2021</td>\n",
       "      <td>6</td>\n",
       "    </tr>\n",
       "    <tr>\n",
       "      <th>5</th>\n",
       "      <td>2021</td>\n",
       "      <td>7</td>\n",
       "    </tr>\n",
       "    <tr>\n",
       "      <th>6</th>\n",
       "      <td>2021</td>\n",
       "      <td>10</td>\n",
       "    </tr>\n",
       "    <tr>\n",
       "      <th>12</th>\n",
       "      <td>2022</td>\n",
       "      <td>11</td>\n",
       "    </tr>\n",
       "    <tr>\n",
       "      <th>13</th>\n",
       "      <td>2022</td>\n",
       "      <td>12</td>\n",
       "    </tr>\n",
       "    <tr>\n",
       "      <th>14</th>\n",
       "      <td>2022</td>\n",
       "      <td>9</td>\n",
       "    </tr>\n",
       "    <tr>\n",
       "      <th>15</th>\n",
       "      <td>2022</td>\n",
       "      <td>3</td>\n",
       "    </tr>\n",
       "    <tr>\n",
       "      <th>16</th>\n",
       "      <td>2022</td>\n",
       "      <td>8</td>\n",
       "    </tr>\n",
       "    <tr>\n",
       "      <th>17</th>\n",
       "      <td>2022</td>\n",
       "      <td>4</td>\n",
       "    </tr>\n",
       "    <tr>\n",
       "      <th>18</th>\n",
       "      <td>2022</td>\n",
       "      <td>10</td>\n",
       "    </tr>\n",
       "    <tr>\n",
       "      <th>24</th>\n",
       "      <td>2023</td>\n",
       "      <td>12</td>\n",
       "    </tr>\n",
       "    <tr>\n",
       "      <th>25</th>\n",
       "      <td>2023</td>\n",
       "      <td>11</td>\n",
       "    </tr>\n",
       "    <tr>\n",
       "      <th>26</th>\n",
       "      <td>2023</td>\n",
       "      <td>9</td>\n",
       "    </tr>\n",
       "    <tr>\n",
       "      <th>27</th>\n",
       "      <td>2023</td>\n",
       "      <td>10</td>\n",
       "    </tr>\n",
       "    <tr>\n",
       "      <th>28</th>\n",
       "      <td>2023</td>\n",
       "      <td>5</td>\n",
       "    </tr>\n",
       "    <tr>\n",
       "      <th>29</th>\n",
       "      <td>2023</td>\n",
       "      <td>3</td>\n",
       "    </tr>\n",
       "    <tr>\n",
       "      <th>30</th>\n",
       "      <td>2023</td>\n",
       "      <td>6</td>\n",
       "    </tr>\n",
       "    <tr>\n",
       "      <th>36</th>\n",
       "      <td>2024</td>\n",
       "      <td>11</td>\n",
       "    </tr>\n",
       "    <tr>\n",
       "      <th>37</th>\n",
       "      <td>2024</td>\n",
       "      <td>9</td>\n",
       "    </tr>\n",
       "    <tr>\n",
       "      <th>38</th>\n",
       "      <td>2024</td>\n",
       "      <td>12</td>\n",
       "    </tr>\n",
       "    <tr>\n",
       "      <th>39</th>\n",
       "      <td>2024</td>\n",
       "      <td>10</td>\n",
       "    </tr>\n",
       "    <tr>\n",
       "      <th>40</th>\n",
       "      <td>2024</td>\n",
       "      <td>8</td>\n",
       "    </tr>\n",
       "    <tr>\n",
       "      <th>41</th>\n",
       "      <td>2024</td>\n",
       "      <td>3</td>\n",
       "    </tr>\n",
       "    <tr>\n",
       "      <th>42</th>\n",
       "      <td>2024</td>\n",
       "      <td>6</td>\n",
       "    </tr>\n",
       "  </tbody>\n",
       "</table>\n",
       "</div>"
      ],
      "text/plain": [
       "    Year  Month\n",
       "0   2021      9\n",
       "1   2021     11\n",
       "2   2021     12\n",
       "3   2021      3\n",
       "4   2021      6\n",
       "5   2021      7\n",
       "6   2021     10\n",
       "12  2022     11\n",
       "13  2022     12\n",
       "14  2022      9\n",
       "15  2022      3\n",
       "16  2022      8\n",
       "17  2022      4\n",
       "18  2022     10\n",
       "24  2023     12\n",
       "25  2023     11\n",
       "26  2023      9\n",
       "27  2023     10\n",
       "28  2023      5\n",
       "29  2023      3\n",
       "30  2023      6\n",
       "36  2024     11\n",
       "37  2024      9\n",
       "38  2024     12\n",
       "39  2024     10\n",
       "40  2024      8\n",
       "41  2024      3\n",
       "42  2024      6"
      ]
     },
     "execution_count": 60,
     "metadata": {},
     "output_type": "execute_result"
    }
   ],
   "source": [
    "#Year wise 80% of sales comes in which month\n",
    "yearmonthsales = df.groupby(['Year','Month'])['Sales'].sum().reset_index()\n",
    "yearmonthsales = yearmonthsales.sort_values(by = ['Year','Sales'],ascending = [True,False])\n",
    "\n",
    "overall = pd.merge(yearmonthsales, yearsales, on = \"Year\", how = \"inner\")\n",
    "\n",
    "overall['Contribution'] = (overall['Sales_x']/1e5)/overall['Sales_y']*100\n",
    "\n",
    "overall['Cumulative'] = overall.groupby(\"Year\")['Contribution'].cumsum()\n",
    "\n",
    "overall[overall['Cumulative']<= 80][['Year','Month']]\n"
   ]
  },
  {
   "cell_type": "code",
   "execution_count": 61,
   "id": "76b6afb6",
   "metadata": {
    "execution": {
     "iopub.execute_input": "2025-01-07T17:17:38.787714Z",
     "iopub.status.busy": "2025-01-07T17:17:38.787370Z",
     "iopub.status.idle": "2025-01-07T17:17:38.805330Z",
     "shell.execute_reply": "2025-01-07T17:17:38.804259Z"
    },
    "papermill": {
     "duration": 0.05414,
     "end_time": "2025-01-07T17:17:38.807493",
     "exception": false,
     "start_time": "2025-01-07T17:17:38.753353",
     "status": "completed"
    },
    "tags": []
   },
   "outputs": [
    {
     "data": {
      "text/html": [
       "<div>\n",
       "<style scoped>\n",
       "    .dataframe tbody tr th:only-of-type {\n",
       "        vertical-align: middle;\n",
       "    }\n",
       "\n",
       "    .dataframe tbody tr th {\n",
       "        vertical-align: top;\n",
       "    }\n",
       "\n",
       "    .dataframe thead th {\n",
       "        text-align: right;\n",
       "    }\n",
       "</style>\n",
       "<table border=\"1\" class=\"dataframe\">\n",
       "  <thead>\n",
       "    <tr style=\"text-align: right;\">\n",
       "      <th></th>\n",
       "      <th>City</th>\n",
       "      <th>Sales</th>\n",
       "      <th>Cumulative_prop</th>\n",
       "    </tr>\n",
       "  </thead>\n",
       "  <tbody>\n",
       "    <tr>\n",
       "      <th>335</th>\n",
       "      <td>New York City</td>\n",
       "      <td>256368.1610</td>\n",
       "      <td>11.019316</td>\n",
       "    </tr>\n",
       "    <tr>\n",
       "      <th>270</th>\n",
       "      <td>Los Angeles</td>\n",
       "      <td>175851.3410</td>\n",
       "      <td>18.577826</td>\n",
       "    </tr>\n",
       "    <tr>\n",
       "      <th>460</th>\n",
       "      <td>Seattle</td>\n",
       "      <td>119540.7420</td>\n",
       "      <td>23.715972</td>\n",
       "    </tr>\n",
       "    <tr>\n",
       "      <th>446</th>\n",
       "      <td>San Francisco</td>\n",
       "      <td>112669.0920</td>\n",
       "      <td>28.558759</td>\n",
       "    </tr>\n",
       "    <tr>\n",
       "      <th>380</th>\n",
       "      <td>Philadelphia</td>\n",
       "      <td>109077.0130</td>\n",
       "      <td>33.247149</td>\n",
       "    </tr>\n",
       "    <tr>\n",
       "      <th>...</th>\n",
       "      <td>...</td>\n",
       "      <td>...</td>\n",
       "      <td>...</td>\n",
       "    </tr>\n",
       "    <tr>\n",
       "      <th>428</th>\n",
       "      <td>Round Rock</td>\n",
       "      <td>4854.0528</td>\n",
       "      <td>79.110809</td>\n",
       "    </tr>\n",
       "    <tr>\n",
       "      <th>273</th>\n",
       "      <td>Lowell</td>\n",
       "      <td>4837.9300</td>\n",
       "      <td>79.318754</td>\n",
       "    </tr>\n",
       "    <tr>\n",
       "      <th>221</th>\n",
       "      <td>Jamestown</td>\n",
       "      <td>4708.7900</td>\n",
       "      <td>79.521149</td>\n",
       "    </tr>\n",
       "    <tr>\n",
       "      <th>178</th>\n",
       "      <td>Great Falls</td>\n",
       "      <td>4605.5800</td>\n",
       "      <td>79.719108</td>\n",
       "    </tr>\n",
       "    <tr>\n",
       "      <th>384</th>\n",
       "      <td>Plainfield</td>\n",
       "      <td>4526.8500</td>\n",
       "      <td>79.913683</td>\n",
       "    </tr>\n",
       "  </tbody>\n",
       "</table>\n",
       "<p>89 rows × 3 columns</p>\n",
       "</div>"
      ],
      "text/plain": [
       "              City        Sales  Cumulative_prop\n",
       "335  New York City  256368.1610        11.019316\n",
       "270    Los Angeles  175851.3410        18.577826\n",
       "460        Seattle  119540.7420        23.715972\n",
       "446  San Francisco  112669.0920        28.558759\n",
       "380   Philadelphia  109077.0130        33.247149\n",
       "..             ...          ...              ...\n",
       "428     Round Rock    4854.0528        79.110809\n",
       "273         Lowell    4837.9300        79.318754\n",
       "221      Jamestown    4708.7900        79.521149\n",
       "178    Great Falls    4605.5800        79.719108\n",
       "384     Plainfield    4526.8500        79.913683\n",
       "\n",
       "[89 rows x 3 columns]"
      ]
     },
     "execution_count": 61,
     "metadata": {},
     "output_type": "execute_result"
    }
   ],
   "source": [
    "#Cities contributing to 80% of total sales\n",
    "\n",
    "city_80 = df.groupby(\"City\")['Sales'].sum().reset_index()\n",
    "city_80_sorted = city_80.sort_values(by = ['Sales'],ascending = False)\n",
    "\n",
    "city_80_sorted['Cumulative_prop'] = (city_80_sorted['Sales'].cumsum()/city_80_sorted['Sales'].sum())*100\n",
    "\n",
    "city_top80 = city_80_sorted[city_80_sorted['Cumulative_prop']<=80]\n",
    "city_top80"
   ]
  },
  {
   "cell_type": "markdown",
   "id": "9fe14912",
   "metadata": {
    "papermill": {
     "duration": 0.031816,
     "end_time": "2025-01-07T17:17:38.871726",
     "exception": false,
     "start_time": "2025-01-07T17:17:38.839910",
     "status": "completed"
    },
    "tags": []
   },
   "source": [
    "There are 89 Cities out of 542 which brings 80% of sales "
   ]
  },
  {
   "cell_type": "markdown",
   "id": "e0b0b94c",
   "metadata": {
    "papermill": {
     "duration": 0.03211,
     "end_time": "2025-01-07T17:17:38.935926",
     "exception": false,
     "start_time": "2025-01-07T17:17:38.903816",
     "status": "completed"
    },
    "tags": []
   },
   "source": [
    "**Profitabilty and sales**"
   ]
  },
  {
   "cell_type": "code",
   "execution_count": 62,
   "id": "ad8c0599",
   "metadata": {
    "execution": {
     "iopub.execute_input": "2025-01-07T17:17:39.003367Z",
     "iopub.status.busy": "2025-01-07T17:17:39.002957Z",
     "iopub.status.idle": "2025-01-07T17:17:39.021698Z",
     "shell.execute_reply": "2025-01-07T17:17:39.020431Z"
    },
    "papermill": {
     "duration": 0.055923,
     "end_time": "2025-01-07T17:17:39.024021",
     "exception": false,
     "start_time": "2025-01-07T17:17:38.968098",
     "status": "completed"
    },
    "tags": []
   },
   "outputs": [
    {
     "data": {
      "text/html": [
       "<div>\n",
       "<style scoped>\n",
       "    .dataframe tbody tr th:only-of-type {\n",
       "        vertical-align: middle;\n",
       "    }\n",
       "\n",
       "    .dataframe tbody tr th {\n",
       "        vertical-align: top;\n",
       "    }\n",
       "\n",
       "    .dataframe thead th {\n",
       "        text-align: right;\n",
       "    }\n",
       "</style>\n",
       "<table border=\"1\" class=\"dataframe\">\n",
       "  <thead>\n",
       "    <tr style=\"text-align: right;\">\n",
       "      <th></th>\n",
       "      <th>Region</th>\n",
       "      <th>Category</th>\n",
       "      <th>Profit</th>\n",
       "      <th>Sales</th>\n",
       "    </tr>\n",
       "  </thead>\n",
       "  <tbody>\n",
       "    <tr>\n",
       "      <th>2</th>\n",
       "      <td>Central</td>\n",
       "      <td>Technology</td>\n",
       "      <td>33697.4320</td>\n",
       "      <td>170416.312</td>\n",
       "    </tr>\n",
       "    <tr>\n",
       "      <th>5</th>\n",
       "      <td>East</td>\n",
       "      <td>Technology</td>\n",
       "      <td>48441.7758</td>\n",
       "      <td>267938.071</td>\n",
       "    </tr>\n",
       "    <tr>\n",
       "      <th>8</th>\n",
       "      <td>South</td>\n",
       "      <td>Technology</td>\n",
       "      <td>19991.8314</td>\n",
       "      <td>148771.908</td>\n",
       "    </tr>\n",
       "    <tr>\n",
       "      <th>10</th>\n",
       "      <td>West</td>\n",
       "      <td>Office Supplies</td>\n",
       "      <td>54070.2292</td>\n",
       "      <td>226366.891</td>\n",
       "    </tr>\n",
       "  </tbody>\n",
       "</table>\n",
       "</div>"
      ],
      "text/plain": [
       "     Region         Category      Profit       Sales\n",
       "2   Central       Technology  33697.4320  170416.312\n",
       "5      East       Technology  48441.7758  267938.071\n",
       "8     South       Technology  19991.8314  148771.908\n",
       "10     West  Office Supplies  54070.2292  226366.891"
      ]
     },
     "execution_count": 62,
     "metadata": {},
     "output_type": "execute_result"
    }
   ],
   "source": [
    "#Profitable categories across regions\n",
    "\n",
    "top_prof = df.groupby(['Region','Category'])[['Profit','Sales']].sum().reset_index()\n",
    "top_prof_sort = top_prof.sort_values(by = ['Region','Profit'], ascending = [True, False] )\n",
    "top_prof_sort.groupby(\"Region\").head(1)"
   ]
  },
  {
   "cell_type": "code",
   "execution_count": 63,
   "id": "aa67a4d5",
   "metadata": {
    "execution": {
     "iopub.execute_input": "2025-01-07T17:17:39.091696Z",
     "iopub.status.busy": "2025-01-07T17:17:39.091275Z",
     "iopub.status.idle": "2025-01-07T17:17:39.102724Z",
     "shell.execute_reply": "2025-01-07T17:17:39.101768Z"
    },
    "papermill": {
     "duration": 0.048273,
     "end_time": "2025-01-07T17:17:39.104913",
     "exception": false,
     "start_time": "2025-01-07T17:17:39.056640",
     "status": "completed"
    },
    "tags": []
   },
   "outputs": [
    {
     "data": {
      "text/html": [
       "<div>\n",
       "<style scoped>\n",
       "    .dataframe tbody tr th:only-of-type {\n",
       "        vertical-align: middle;\n",
       "    }\n",
       "\n",
       "    .dataframe tbody tr th {\n",
       "        vertical-align: top;\n",
       "    }\n",
       "\n",
       "    .dataframe thead th {\n",
       "        text-align: right;\n",
       "    }\n",
       "</style>\n",
       "<table border=\"1\" class=\"dataframe\">\n",
       "  <thead>\n",
       "    <tr style=\"text-align: right;\">\n",
       "      <th></th>\n",
       "      <th>Region</th>\n",
       "      <th>Category</th>\n",
       "      <th>Profit</th>\n",
       "      <th>Sales</th>\n",
       "    </tr>\n",
       "  </thead>\n",
       "  <tbody>\n",
       "    <tr>\n",
       "      <th>10</th>\n",
       "      <td>West</td>\n",
       "      <td>Office Supplies</td>\n",
       "      <td>54070.2292</td>\n",
       "      <td>226366.891</td>\n",
       "    </tr>\n",
       "  </tbody>\n",
       "</table>\n",
       "</div>"
      ],
      "text/plain": [
       "   Region         Category      Profit       Sales\n",
       "10   West  Office Supplies  54070.2292  226366.891"
      ]
     },
     "execution_count": 63,
     "metadata": {},
     "output_type": "execute_result"
    }
   ],
   "source": [
    "#Most profitable region and category\n",
    "\n",
    "top_prof_sort[top_prof_sort['Profit'] == top_prof_sort['Profit'].max()]"
   ]
  },
  {
   "cell_type": "code",
   "execution_count": 64,
   "id": "4faf9052",
   "metadata": {
    "execution": {
     "iopub.execute_input": "2025-01-07T17:17:39.172095Z",
     "iopub.status.busy": "2025-01-07T17:17:39.171677Z",
     "iopub.status.idle": "2025-01-07T17:17:39.185044Z",
     "shell.execute_reply": "2025-01-07T17:17:39.183906Z"
    },
    "papermill": {
     "duration": 0.050128,
     "end_time": "2025-01-07T17:17:39.187177",
     "exception": false,
     "start_time": "2025-01-07T17:17:39.137049",
     "status": "completed"
    },
    "tags": []
   },
   "outputs": [
    {
     "data": {
      "text/html": [
       "<div>\n",
       "<style scoped>\n",
       "    .dataframe tbody tr th:only-of-type {\n",
       "        vertical-align: middle;\n",
       "    }\n",
       "\n",
       "    .dataframe tbody tr th {\n",
       "        vertical-align: top;\n",
       "    }\n",
       "\n",
       "    .dataframe thead th {\n",
       "        text-align: right;\n",
       "    }\n",
       "</style>\n",
       "<table border=\"1\" class=\"dataframe\">\n",
       "  <thead>\n",
       "    <tr style=\"text-align: right;\">\n",
       "      <th></th>\n",
       "      <th>Region</th>\n",
       "      <th>Category</th>\n",
       "      <th>Profit</th>\n",
       "      <th>Sales</th>\n",
       "    </tr>\n",
       "  </thead>\n",
       "  <tbody>\n",
       "    <tr>\n",
       "      <th>2</th>\n",
       "      <td>Central</td>\n",
       "      <td>Technology</td>\n",
       "      <td>33697.4320</td>\n",
       "      <td>170416.312</td>\n",
       "    </tr>\n",
       "    <tr>\n",
       "      <th>5</th>\n",
       "      <td>East</td>\n",
       "      <td>Technology</td>\n",
       "      <td>48441.7758</td>\n",
       "      <td>267938.071</td>\n",
       "    </tr>\n",
       "    <tr>\n",
       "      <th>8</th>\n",
       "      <td>South</td>\n",
       "      <td>Technology</td>\n",
       "      <td>19991.8314</td>\n",
       "      <td>148771.908</td>\n",
       "    </tr>\n",
       "    <tr>\n",
       "      <th>10</th>\n",
       "      <td>West</td>\n",
       "      <td>Office Supplies</td>\n",
       "      <td>54070.2292</td>\n",
       "      <td>226366.891</td>\n",
       "    </tr>\n",
       "  </tbody>\n",
       "</table>\n",
       "</div>"
      ],
      "text/plain": [
       "     Region         Category      Profit       Sales\n",
       "2   Central       Technology  33697.4320  170416.312\n",
       "5      East       Technology  48441.7758  267938.071\n",
       "8     South       Technology  19991.8314  148771.908\n",
       "10     West  Office Supplies  54070.2292  226366.891"
      ]
     },
     "execution_count": 64,
     "metadata": {},
     "output_type": "execute_result"
    }
   ],
   "source": [
    "# the top profitable category for each Region\n",
    "top_categories = top_prof_sort.groupby('Region').head(1)\n",
    "top_categories"
   ]
  },
  {
   "cell_type": "code",
   "execution_count": 65,
   "id": "6bbbd47c",
   "metadata": {
    "execution": {
     "iopub.execute_input": "2025-01-07T17:17:39.257145Z",
     "iopub.status.busy": "2025-01-07T17:17:39.256742Z",
     "iopub.status.idle": "2025-01-07T17:17:39.270911Z",
     "shell.execute_reply": "2025-01-07T17:17:39.269753Z"
    },
    "papermill": {
     "duration": 0.049901,
     "end_time": "2025-01-07T17:17:39.272804",
     "exception": false,
     "start_time": "2025-01-07T17:17:39.222903",
     "status": "completed"
    },
    "tags": []
   },
   "outputs": [
    {
     "name": "stderr",
     "output_type": "stream",
     "text": [
      "/tmp/ipykernel_17/2050625361.py:3: SettingWithCopyWarning: \n",
      "A value is trying to be set on a copy of a slice from a DataFrame.\n",
      "Try using .loc[row_indexer,col_indexer] = value instead\n",
      "\n",
      "See the caveats in the documentation: https://pandas.pydata.org/pandas-docs/stable/user_guide/indexing.html#returning-a-view-versus-a-copy\n",
      "  top_categories.loc[:,'Sales prop'] = (top_categories['Sales'] / df['Sales'].sum())*100\n"
     ]
    },
    {
     "data": {
      "text/html": [
       "<div>\n",
       "<style scoped>\n",
       "    .dataframe tbody tr th:only-of-type {\n",
       "        vertical-align: middle;\n",
       "    }\n",
       "\n",
       "    .dataframe tbody tr th {\n",
       "        vertical-align: top;\n",
       "    }\n",
       "\n",
       "    .dataframe thead th {\n",
       "        text-align: right;\n",
       "    }\n",
       "</style>\n",
       "<table border=\"1\" class=\"dataframe\">\n",
       "  <thead>\n",
       "    <tr style=\"text-align: right;\">\n",
       "      <th></th>\n",
       "      <th>Region</th>\n",
       "      <th>Category</th>\n",
       "      <th>Profit</th>\n",
       "      <th>Sales</th>\n",
       "      <th>Sales prop</th>\n",
       "    </tr>\n",
       "  </thead>\n",
       "  <tbody>\n",
       "    <tr>\n",
       "      <th>2</th>\n",
       "      <td>Central</td>\n",
       "      <td>Technology</td>\n",
       "      <td>33697.4320</td>\n",
       "      <td>170416.312</td>\n",
       "      <td>7.324900</td>\n",
       "    </tr>\n",
       "    <tr>\n",
       "      <th>5</th>\n",
       "      <td>East</td>\n",
       "      <td>Technology</td>\n",
       "      <td>48441.7758</td>\n",
       "      <td>267938.071</td>\n",
       "      <td>11.516618</td>\n",
       "    </tr>\n",
       "    <tr>\n",
       "      <th>8</th>\n",
       "      <td>South</td>\n",
       "      <td>Technology</td>\n",
       "      <td>19991.8314</td>\n",
       "      <td>148771.908</td>\n",
       "      <td>6.394572</td>\n",
       "    </tr>\n",
       "    <tr>\n",
       "      <th>10</th>\n",
       "      <td>West</td>\n",
       "      <td>Office Supplies</td>\n",
       "      <td>54070.2292</td>\n",
       "      <td>226366.891</td>\n",
       "      <td>9.729789</td>\n",
       "    </tr>\n",
       "  </tbody>\n",
       "</table>\n",
       "</div>"
      ],
      "text/plain": [
       "     Region         Category      Profit       Sales  Sales prop\n",
       "2   Central       Technology  33697.4320  170416.312    7.324900\n",
       "5      East       Technology  48441.7758  267938.071   11.516618\n",
       "8     South       Technology  19991.8314  148771.908    6.394572\n",
       "10     West  Office Supplies  54070.2292  226366.891    9.729789"
      ]
     },
     "execution_count": 65,
     "metadata": {},
     "output_type": "execute_result"
    }
   ],
   "source": [
    "#What % of  sales comes from these profitable categories \n",
    "\n",
    "top_categories.loc[:,'Sales prop'] = (top_categories['Sales'] / df['Sales'].sum())*100\n",
    "top_categories"
   ]
  },
  {
   "cell_type": "code",
   "execution_count": 66,
   "id": "68e52aa7",
   "metadata": {
    "execution": {
     "iopub.execute_input": "2025-01-07T17:17:39.341311Z",
     "iopub.status.busy": "2025-01-07T17:17:39.340952Z",
     "iopub.status.idle": "2025-01-07T17:17:39.348713Z",
     "shell.execute_reply": "2025-01-07T17:17:39.347412Z"
    },
    "papermill": {
     "duration": 0.043915,
     "end_time": "2025-01-07T17:17:39.350950",
     "exception": false,
     "start_time": "2025-01-07T17:17:39.307035",
     "status": "completed"
    },
    "tags": []
   },
   "outputs": [
    {
     "data": {
      "text/plain": [
       "34.96587877571923"
      ]
     },
     "execution_count": 66,
     "metadata": {},
     "output_type": "execute_result"
    }
   ],
   "source": [
    "top_categories['Sales prop'].sum()"
   ]
  },
  {
   "cell_type": "code",
   "execution_count": 67,
   "id": "6fa79342",
   "metadata": {
    "execution": {
     "iopub.execute_input": "2025-01-07T17:17:39.419194Z",
     "iopub.status.busy": "2025-01-07T17:17:39.418294Z",
     "iopub.status.idle": "2025-01-07T17:17:39.431326Z",
     "shell.execute_reply": "2025-01-07T17:17:39.430312Z"
    },
    "papermill": {
     "duration": 0.049165,
     "end_time": "2025-01-07T17:17:39.433360",
     "exception": false,
     "start_time": "2025-01-07T17:17:39.384195",
     "status": "completed"
    },
    "tags": []
   },
   "outputs": [
    {
     "data": {
      "text/html": [
       "<div>\n",
       "<style scoped>\n",
       "    .dataframe tbody tr th:only-of-type {\n",
       "        vertical-align: middle;\n",
       "    }\n",
       "\n",
       "    .dataframe tbody tr th {\n",
       "        vertical-align: top;\n",
       "    }\n",
       "\n",
       "    .dataframe thead th {\n",
       "        text-align: right;\n",
       "    }\n",
       "</style>\n",
       "<table border=\"1\" class=\"dataframe\">\n",
       "  <thead>\n",
       "    <tr style=\"text-align: right;\">\n",
       "      <th></th>\n",
       "      <th>Region</th>\n",
       "      <th>Category</th>\n",
       "      <th>Profit</th>\n",
       "      <th>Sales</th>\n",
       "    </tr>\n",
       "  </thead>\n",
       "  <tbody>\n",
       "    <tr>\n",
       "      <th>2</th>\n",
       "      <td>Central</td>\n",
       "      <td>Technology</td>\n",
       "      <td>33697.4320</td>\n",
       "      <td>170416.312</td>\n",
       "    </tr>\n",
       "    <tr>\n",
       "      <th>1</th>\n",
       "      <td>Central</td>\n",
       "      <td>Office Supplies</td>\n",
       "      <td>8970.0817</td>\n",
       "      <td>168216.709</td>\n",
       "    </tr>\n",
       "    <tr>\n",
       "      <th>5</th>\n",
       "      <td>East</td>\n",
       "      <td>Technology</td>\n",
       "      <td>48441.7758</td>\n",
       "      <td>267938.071</td>\n",
       "    </tr>\n",
       "    <tr>\n",
       "      <th>4</th>\n",
       "      <td>East</td>\n",
       "      <td>Office Supplies</td>\n",
       "      <td>42996.7397</td>\n",
       "      <td>211658.401</td>\n",
       "    </tr>\n",
       "    <tr>\n",
       "      <th>8</th>\n",
       "      <td>South</td>\n",
       "      <td>Technology</td>\n",
       "      <td>19991.8314</td>\n",
       "      <td>148771.908</td>\n",
       "    </tr>\n",
       "    <tr>\n",
       "      <th>7</th>\n",
       "      <td>South</td>\n",
       "      <td>Office Supplies</td>\n",
       "      <td>19986.3928</td>\n",
       "      <td>125651.313</td>\n",
       "    </tr>\n",
       "    <tr>\n",
       "      <th>10</th>\n",
       "      <td>West</td>\n",
       "      <td>Office Supplies</td>\n",
       "      <td>54070.2292</td>\n",
       "      <td>226366.891</td>\n",
       "    </tr>\n",
       "    <tr>\n",
       "      <th>11</th>\n",
       "      <td>West</td>\n",
       "      <td>Technology</td>\n",
       "      <td>44412.3364</td>\n",
       "      <td>252766.988</td>\n",
       "    </tr>\n",
       "  </tbody>\n",
       "</table>\n",
       "</div>"
      ],
      "text/plain": [
       "     Region         Category      Profit       Sales\n",
       "2   Central       Technology  33697.4320  170416.312\n",
       "1   Central  Office Supplies   8970.0817  168216.709\n",
       "5      East       Technology  48441.7758  267938.071\n",
       "4      East  Office Supplies  42996.7397  211658.401\n",
       "8     South       Technology  19991.8314  148771.908\n",
       "7     South  Office Supplies  19986.3928  125651.313\n",
       "10     West  Office Supplies  54070.2292  226366.891\n",
       "11     West       Technology  44412.3364  252766.988"
      ]
     },
     "execution_count": 67,
     "metadata": {},
     "output_type": "execute_result"
    }
   ],
   "source": [
    "top_prof_sort.groupby('Region').head(2)"
   ]
  },
  {
   "cell_type": "markdown",
   "id": "f3d807da",
   "metadata": {
    "papermill": {
     "duration": 0.032675,
     "end_time": "2025-01-07T17:17:39.499009",
     "exception": false,
     "start_time": "2025-01-07T17:17:39.466334",
     "status": "completed"
    },
    "tags": []
   },
   "source": [
    "* These categories fetch 35% of total sales and are most profitable\n",
    "* Technology and office supplies are the category leaders across regions\n"
   ]
  },
  {
   "cell_type": "code",
   "execution_count": 68,
   "id": "bd04f73e",
   "metadata": {
    "execution": {
     "iopub.execute_input": "2025-01-07T17:17:39.567940Z",
     "iopub.status.busy": "2025-01-07T17:17:39.567119Z",
     "iopub.status.idle": "2025-01-07T17:17:39.578589Z",
     "shell.execute_reply": "2025-01-07T17:17:39.577493Z"
    },
    "papermill": {
     "duration": 0.049022,
     "end_time": "2025-01-07T17:17:39.581114",
     "exception": false,
     "start_time": "2025-01-07T17:17:39.532092",
     "status": "completed"
    },
    "tags": []
   },
   "outputs": [],
   "source": [
    "#Sub categories covering 80% sales among Technology and office supply categories\n",
    "\n",
    "subcat_sales = df.groupby(['Category','Sub-Category'])['Sales'].sum().reset_index()\n",
    "cat_sales = df.groupby(\"Category\")['Sales'].sum().reset_index()"
   ]
  },
  {
   "cell_type": "code",
   "execution_count": 69,
   "id": "9a49d591",
   "metadata": {
    "execution": {
     "iopub.execute_input": "2025-01-07T17:17:39.703068Z",
     "iopub.status.busy": "2025-01-07T17:17:39.702021Z",
     "iopub.status.idle": "2025-01-07T17:17:39.713472Z",
     "shell.execute_reply": "2025-01-07T17:17:39.712471Z"
    },
    "papermill": {
     "duration": 0.100847,
     "end_time": "2025-01-07T17:17:39.715618",
     "exception": false,
     "start_time": "2025-01-07T17:17:39.614771",
     "status": "completed"
    },
    "tags": []
   },
   "outputs": [
    {
     "data": {
      "text/html": [
       "<div>\n",
       "<style scoped>\n",
       "    .dataframe tbody tr th:only-of-type {\n",
       "        vertical-align: middle;\n",
       "    }\n",
       "\n",
       "    .dataframe tbody tr th {\n",
       "        vertical-align: top;\n",
       "    }\n",
       "\n",
       "    .dataframe thead th {\n",
       "        text-align: right;\n",
       "    }\n",
       "</style>\n",
       "<table border=\"1\" class=\"dataframe\">\n",
       "  <thead>\n",
       "    <tr style=\"text-align: right;\">\n",
       "      <th></th>\n",
       "      <th>Category</th>\n",
       "      <th>Sub-Category</th>\n",
       "      <th>Sales</th>\n",
       "    </tr>\n",
       "  </thead>\n",
       "  <tbody>\n",
       "    <tr>\n",
       "      <th>0</th>\n",
       "      <td>Furniture</td>\n",
       "      <td>Bookcases</td>\n",
       "      <td>115361.2043</td>\n",
       "    </tr>\n",
       "    <tr>\n",
       "      <th>1</th>\n",
       "      <td>Furniture</td>\n",
       "      <td>Chairs</td>\n",
       "      <td>335768.2490</td>\n",
       "    </tr>\n",
       "    <tr>\n",
       "      <th>2</th>\n",
       "      <td>Furniture</td>\n",
       "      <td>Furnishings</td>\n",
       "      <td>95598.1260</td>\n",
       "    </tr>\n",
       "    <tr>\n",
       "      <th>3</th>\n",
       "      <td>Furniture</td>\n",
       "      <td>Tables</td>\n",
       "      <td>208020.1820</td>\n",
       "    </tr>\n",
       "    <tr>\n",
       "      <th>4</th>\n",
       "      <td>Office Supplies</td>\n",
       "      <td>Appliances</td>\n",
       "      <td>108213.1850</td>\n",
       "    </tr>\n",
       "    <tr>\n",
       "      <th>5</th>\n",
       "      <td>Office Supplies</td>\n",
       "      <td>Art</td>\n",
       "      <td>27659.0140</td>\n",
       "    </tr>\n",
       "    <tr>\n",
       "      <th>6</th>\n",
       "      <td>Office Supplies</td>\n",
       "      <td>Binders</td>\n",
       "      <td>207354.8810</td>\n",
       "    </tr>\n",
       "    <tr>\n",
       "      <th>7</th>\n",
       "      <td>Office Supplies</td>\n",
       "      <td>Envelopes</td>\n",
       "      <td>16528.3620</td>\n",
       "    </tr>\n",
       "    <tr>\n",
       "      <th>8</th>\n",
       "      <td>Office Supplies</td>\n",
       "      <td>Fasteners</td>\n",
       "      <td>8532.2400</td>\n",
       "    </tr>\n",
       "    <tr>\n",
       "      <th>9</th>\n",
       "      <td>Office Supplies</td>\n",
       "      <td>Labels</td>\n",
       "      <td>12695.0420</td>\n",
       "    </tr>\n",
       "    <tr>\n",
       "      <th>10</th>\n",
       "      <td>Office Supplies</td>\n",
       "      <td>Paper</td>\n",
       "      <td>79540.5380</td>\n",
       "    </tr>\n",
       "    <tr>\n",
       "      <th>11</th>\n",
       "      <td>Office Supplies</td>\n",
       "      <td>Storage</td>\n",
       "      <td>224644.5540</td>\n",
       "    </tr>\n",
       "    <tr>\n",
       "      <th>12</th>\n",
       "      <td>Office Supplies</td>\n",
       "      <td>Supplies</td>\n",
       "      <td>46725.4980</td>\n",
       "    </tr>\n",
       "    <tr>\n",
       "      <th>13</th>\n",
       "      <td>Technology</td>\n",
       "      <td>Accessories</td>\n",
       "      <td>167380.3180</td>\n",
       "    </tr>\n",
       "    <tr>\n",
       "      <th>14</th>\n",
       "      <td>Technology</td>\n",
       "      <td>Copiers</td>\n",
       "      <td>150745.2900</td>\n",
       "    </tr>\n",
       "    <tr>\n",
       "      <th>15</th>\n",
       "      <td>Technology</td>\n",
       "      <td>Machines</td>\n",
       "      <td>189925.0310</td>\n",
       "    </tr>\n",
       "    <tr>\n",
       "      <th>16</th>\n",
       "      <td>Technology</td>\n",
       "      <td>Phones</td>\n",
       "      <td>331842.6400</td>\n",
       "    </tr>\n",
       "  </tbody>\n",
       "</table>\n",
       "</div>"
      ],
      "text/plain": [
       "           Category Sub-Category        Sales\n",
       "0         Furniture    Bookcases  115361.2043\n",
       "1         Furniture       Chairs  335768.2490\n",
       "2         Furniture  Furnishings   95598.1260\n",
       "3         Furniture       Tables  208020.1820\n",
       "4   Office Supplies   Appliances  108213.1850\n",
       "5   Office Supplies          Art   27659.0140\n",
       "6   Office Supplies      Binders  207354.8810\n",
       "7   Office Supplies    Envelopes   16528.3620\n",
       "8   Office Supplies    Fasteners    8532.2400\n",
       "9   Office Supplies       Labels   12695.0420\n",
       "10  Office Supplies        Paper   79540.5380\n",
       "11  Office Supplies      Storage  224644.5540\n",
       "12  Office Supplies     Supplies   46725.4980\n",
       "13       Technology  Accessories  167380.3180\n",
       "14       Technology      Copiers  150745.2900\n",
       "15       Technology     Machines  189925.0310\n",
       "16       Technology       Phones  331842.6400"
      ]
     },
     "execution_count": 69,
     "metadata": {},
     "output_type": "execute_result"
    }
   ],
   "source": [
    "subcat_sales"
   ]
  },
  {
   "cell_type": "code",
   "execution_count": 70,
   "id": "d678b622",
   "metadata": {
    "execution": {
     "iopub.execute_input": "2025-01-07T17:17:39.784960Z",
     "iopub.status.busy": "2025-01-07T17:17:39.784538Z",
     "iopub.status.idle": "2025-01-07T17:17:39.793949Z",
     "shell.execute_reply": "2025-01-07T17:17:39.792968Z"
    },
    "papermill": {
     "duration": 0.046967,
     "end_time": "2025-01-07T17:17:39.795994",
     "exception": false,
     "start_time": "2025-01-07T17:17:39.749027",
     "status": "completed"
    },
    "tags": []
   },
   "outputs": [
    {
     "data": {
      "text/html": [
       "<div>\n",
       "<style scoped>\n",
       "    .dataframe tbody tr th:only-of-type {\n",
       "        vertical-align: middle;\n",
       "    }\n",
       "\n",
       "    .dataframe tbody tr th {\n",
       "        vertical-align: top;\n",
       "    }\n",
       "\n",
       "    .dataframe thead th {\n",
       "        text-align: right;\n",
       "    }\n",
       "</style>\n",
       "<table border=\"1\" class=\"dataframe\">\n",
       "  <thead>\n",
       "    <tr style=\"text-align: right;\">\n",
       "      <th></th>\n",
       "      <th>Category</th>\n",
       "      <th>Sales</th>\n",
       "    </tr>\n",
       "  </thead>\n",
       "  <tbody>\n",
       "    <tr>\n",
       "      <th>0</th>\n",
       "      <td>Furniture</td>\n",
       "      <td>754747.7613</td>\n",
       "    </tr>\n",
       "    <tr>\n",
       "      <th>1</th>\n",
       "      <td>Office Supplies</td>\n",
       "      <td>731893.3140</td>\n",
       "    </tr>\n",
       "    <tr>\n",
       "      <th>2</th>\n",
       "      <td>Technology</td>\n",
       "      <td>839893.2790</td>\n",
       "    </tr>\n",
       "  </tbody>\n",
       "</table>\n",
       "</div>"
      ],
      "text/plain": [
       "          Category        Sales\n",
       "0        Furniture  754747.7613\n",
       "1  Office Supplies  731893.3140\n",
       "2       Technology  839893.2790"
      ]
     },
     "execution_count": 70,
     "metadata": {},
     "output_type": "execute_result"
    }
   ],
   "source": [
    "cat_sales"
   ]
  },
  {
   "cell_type": "code",
   "execution_count": 71,
   "id": "24dc571f",
   "metadata": {
    "execution": {
     "iopub.execute_input": "2025-01-07T17:17:39.865172Z",
     "iopub.status.busy": "2025-01-07T17:17:39.864248Z",
     "iopub.status.idle": "2025-01-07T17:17:39.882961Z",
     "shell.execute_reply": "2025-01-07T17:17:39.881949Z"
    },
    "papermill": {
     "duration": 0.055713,
     "end_time": "2025-01-07T17:17:39.885207",
     "exception": false,
     "start_time": "2025-01-07T17:17:39.829494",
     "status": "completed"
    },
    "tags": []
   },
   "outputs": [
    {
     "data": {
      "text/html": [
       "<div>\n",
       "<style scoped>\n",
       "    .dataframe tbody tr th:only-of-type {\n",
       "        vertical-align: middle;\n",
       "    }\n",
       "\n",
       "    .dataframe tbody tr th {\n",
       "        vertical-align: top;\n",
       "    }\n",
       "\n",
       "    .dataframe thead th {\n",
       "        text-align: right;\n",
       "    }\n",
       "</style>\n",
       "<table border=\"1\" class=\"dataframe\">\n",
       "  <thead>\n",
       "    <tr style=\"text-align: right;\">\n",
       "      <th></th>\n",
       "      <th>Category</th>\n",
       "      <th>Sub-Category</th>\n",
       "      <th>Sales_x</th>\n",
       "      <th>Sales_y</th>\n",
       "    </tr>\n",
       "  </thead>\n",
       "  <tbody>\n",
       "    <tr>\n",
       "      <th>1</th>\n",
       "      <td>Furniture</td>\n",
       "      <td>Chairs</td>\n",
       "      <td>335768.249</td>\n",
       "      <td>754747.7613</td>\n",
       "    </tr>\n",
       "    <tr>\n",
       "      <th>11</th>\n",
       "      <td>Office Supplies</td>\n",
       "      <td>Storage</td>\n",
       "      <td>224644.554</td>\n",
       "      <td>731893.3140</td>\n",
       "    </tr>\n",
       "    <tr>\n",
       "      <th>16</th>\n",
       "      <td>Technology</td>\n",
       "      <td>Phones</td>\n",
       "      <td>331842.640</td>\n",
       "      <td>839893.2790</td>\n",
       "    </tr>\n",
       "  </tbody>\n",
       "</table>\n",
       "</div>"
      ],
      "text/plain": [
       "           Category Sub-Category     Sales_x      Sales_y\n",
       "1         Furniture       Chairs  335768.249  754747.7613\n",
       "11  Office Supplies      Storage  224644.554  731893.3140\n",
       "16       Technology       Phones  331842.640  839893.2790"
      ]
     },
     "execution_count": 71,
     "metadata": {},
     "output_type": "execute_result"
    }
   ],
   "source": [
    "merged = pd.merge(subcat_sales,cat_sales, on = \"Category\", how = \"inner\")\n",
    "merged_sorted = merged.sort_values(by = ['Category','Sales_x'], ascending = [True,False])\n",
    "merged_sorted.groupby(\"Category\").head(1)"
   ]
  },
  {
   "cell_type": "code",
   "execution_count": 72,
   "id": "6163ef75",
   "metadata": {
    "execution": {
     "iopub.execute_input": "2025-01-07T17:17:39.955054Z",
     "iopub.status.busy": "2025-01-07T17:17:39.954147Z",
     "iopub.status.idle": "2025-01-07T17:17:39.968718Z",
     "shell.execute_reply": "2025-01-07T17:17:39.967708Z"
    },
    "papermill": {
     "duration": 0.051833,
     "end_time": "2025-01-07T17:17:39.971043",
     "exception": false,
     "start_time": "2025-01-07T17:17:39.919210",
     "status": "completed"
    },
    "tags": []
   },
   "outputs": [
    {
     "data": {
      "text/html": [
       "<div>\n",
       "<style scoped>\n",
       "    .dataframe tbody tr th:only-of-type {\n",
       "        vertical-align: middle;\n",
       "    }\n",
       "\n",
       "    .dataframe tbody tr th {\n",
       "        vertical-align: top;\n",
       "    }\n",
       "\n",
       "    .dataframe thead th {\n",
       "        text-align: right;\n",
       "    }\n",
       "</style>\n",
       "<table border=\"1\" class=\"dataframe\">\n",
       "  <thead>\n",
       "    <tr style=\"text-align: right;\">\n",
       "      <th></th>\n",
       "      <th>Category</th>\n",
       "      <th>Sub-Category</th>\n",
       "      <th>Sales_x</th>\n",
       "      <th>Sales_y</th>\n",
       "      <th>Props</th>\n",
       "    </tr>\n",
       "  </thead>\n",
       "  <tbody>\n",
       "    <tr>\n",
       "      <th>1</th>\n",
       "      <td>Furniture</td>\n",
       "      <td>Chairs</td>\n",
       "      <td>335768.2490</td>\n",
       "      <td>754747.7613</td>\n",
       "      <td>44.487479</td>\n",
       "    </tr>\n",
       "    <tr>\n",
       "      <th>3</th>\n",
       "      <td>Furniture</td>\n",
       "      <td>Tables</td>\n",
       "      <td>208020.1820</td>\n",
       "      <td>754747.7613</td>\n",
       "      <td>27.561550</td>\n",
       "    </tr>\n",
       "    <tr>\n",
       "      <th>0</th>\n",
       "      <td>Furniture</td>\n",
       "      <td>Bookcases</td>\n",
       "      <td>115361.2043</td>\n",
       "      <td>754747.7613</td>\n",
       "      <td>15.284736</td>\n",
       "    </tr>\n",
       "    <tr>\n",
       "      <th>2</th>\n",
       "      <td>Furniture</td>\n",
       "      <td>Furnishings</td>\n",
       "      <td>95598.1260</td>\n",
       "      <td>754747.7613</td>\n",
       "      <td>12.666235</td>\n",
       "    </tr>\n",
       "    <tr>\n",
       "      <th>11</th>\n",
       "      <td>Office Supplies</td>\n",
       "      <td>Storage</td>\n",
       "      <td>224644.5540</td>\n",
       "      <td>731893.3140</td>\n",
       "      <td>30.693620</td>\n",
       "    </tr>\n",
       "    <tr>\n",
       "      <th>6</th>\n",
       "      <td>Office Supplies</td>\n",
       "      <td>Binders</td>\n",
       "      <td>207354.8810</td>\n",
       "      <td>731893.3140</td>\n",
       "      <td>28.331299</td>\n",
       "    </tr>\n",
       "    <tr>\n",
       "      <th>4</th>\n",
       "      <td>Office Supplies</td>\n",
       "      <td>Appliances</td>\n",
       "      <td>108213.1850</td>\n",
       "      <td>731893.3140</td>\n",
       "      <td>14.785377</td>\n",
       "    </tr>\n",
       "    <tr>\n",
       "      <th>10</th>\n",
       "      <td>Office Supplies</td>\n",
       "      <td>Paper</td>\n",
       "      <td>79540.5380</td>\n",
       "      <td>731893.3140</td>\n",
       "      <td>10.867778</td>\n",
       "    </tr>\n",
       "    <tr>\n",
       "      <th>12</th>\n",
       "      <td>Office Supplies</td>\n",
       "      <td>Supplies</td>\n",
       "      <td>46725.4980</td>\n",
       "      <td>731893.3140</td>\n",
       "      <td>6.384195</td>\n",
       "    </tr>\n",
       "    <tr>\n",
       "      <th>5</th>\n",
       "      <td>Office Supplies</td>\n",
       "      <td>Art</td>\n",
       "      <td>27659.0140</td>\n",
       "      <td>731893.3140</td>\n",
       "      <td>3.779105</td>\n",
       "    </tr>\n",
       "    <tr>\n",
       "      <th>7</th>\n",
       "      <td>Office Supplies</td>\n",
       "      <td>Envelopes</td>\n",
       "      <td>16528.3620</td>\n",
       "      <td>731893.3140</td>\n",
       "      <td>2.258302</td>\n",
       "    </tr>\n",
       "    <tr>\n",
       "      <th>9</th>\n",
       "      <td>Office Supplies</td>\n",
       "      <td>Labels</td>\n",
       "      <td>12695.0420</td>\n",
       "      <td>731893.3140</td>\n",
       "      <td>1.734548</td>\n",
       "    </tr>\n",
       "    <tr>\n",
       "      <th>8</th>\n",
       "      <td>Office Supplies</td>\n",
       "      <td>Fasteners</td>\n",
       "      <td>8532.2400</td>\n",
       "      <td>731893.3140</td>\n",
       "      <td>1.165776</td>\n",
       "    </tr>\n",
       "    <tr>\n",
       "      <th>16</th>\n",
       "      <td>Technology</td>\n",
       "      <td>Phones</td>\n",
       "      <td>331842.6400</td>\n",
       "      <td>839893.2790</td>\n",
       "      <td>39.510096</td>\n",
       "    </tr>\n",
       "    <tr>\n",
       "      <th>15</th>\n",
       "      <td>Technology</td>\n",
       "      <td>Machines</td>\n",
       "      <td>189925.0310</td>\n",
       "      <td>839893.2790</td>\n",
       "      <td>22.612996</td>\n",
       "    </tr>\n",
       "    <tr>\n",
       "      <th>13</th>\n",
       "      <td>Technology</td>\n",
       "      <td>Accessories</td>\n",
       "      <td>167380.3180</td>\n",
       "      <td>839893.2790</td>\n",
       "      <td>19.928760</td>\n",
       "    </tr>\n",
       "    <tr>\n",
       "      <th>14</th>\n",
       "      <td>Technology</td>\n",
       "      <td>Copiers</td>\n",
       "      <td>150745.2900</td>\n",
       "      <td>839893.2790</td>\n",
       "      <td>17.948148</td>\n",
       "    </tr>\n",
       "  </tbody>\n",
       "</table>\n",
       "</div>"
      ],
      "text/plain": [
       "           Category Sub-Category      Sales_x      Sales_y      Props\n",
       "1         Furniture       Chairs  335768.2490  754747.7613  44.487479\n",
       "3         Furniture       Tables  208020.1820  754747.7613  27.561550\n",
       "0         Furniture    Bookcases  115361.2043  754747.7613  15.284736\n",
       "2         Furniture  Furnishings   95598.1260  754747.7613  12.666235\n",
       "11  Office Supplies      Storage  224644.5540  731893.3140  30.693620\n",
       "6   Office Supplies      Binders  207354.8810  731893.3140  28.331299\n",
       "4   Office Supplies   Appliances  108213.1850  731893.3140  14.785377\n",
       "10  Office Supplies        Paper   79540.5380  731893.3140  10.867778\n",
       "12  Office Supplies     Supplies   46725.4980  731893.3140   6.384195\n",
       "5   Office Supplies          Art   27659.0140  731893.3140   3.779105\n",
       "7   Office Supplies    Envelopes   16528.3620  731893.3140   2.258302\n",
       "9   Office Supplies       Labels   12695.0420  731893.3140   1.734548\n",
       "8   Office Supplies    Fasteners    8532.2400  731893.3140   1.165776\n",
       "16       Technology       Phones  331842.6400  839893.2790  39.510096\n",
       "15       Technology     Machines  189925.0310  839893.2790  22.612996\n",
       "13       Technology  Accessories  167380.3180  839893.2790  19.928760\n",
       "14       Technology      Copiers  150745.2900  839893.2790  17.948148"
      ]
     },
     "execution_count": 72,
     "metadata": {},
     "output_type": "execute_result"
    }
   ],
   "source": [
    "merged_sorted['Props'] = merged_sorted['Sales_x']/merged_sorted['Sales_y']*100\n",
    "merged_sorted"
   ]
  },
  {
   "cell_type": "code",
   "execution_count": 73,
   "id": "b8561d51",
   "metadata": {
    "execution": {
     "iopub.execute_input": "2025-01-07T17:17:40.041830Z",
     "iopub.status.busy": "2025-01-07T17:17:40.041342Z",
     "iopub.status.idle": "2025-01-07T17:17:40.057442Z",
     "shell.execute_reply": "2025-01-07T17:17:40.056296Z"
    },
    "papermill": {
     "duration": 0.053309,
     "end_time": "2025-01-07T17:17:40.059651",
     "exception": false,
     "start_time": "2025-01-07T17:17:40.006342",
     "status": "completed"
    },
    "tags": []
   },
   "outputs": [
    {
     "data": {
      "text/html": [
       "<div>\n",
       "<style scoped>\n",
       "    .dataframe tbody tr th:only-of-type {\n",
       "        vertical-align: middle;\n",
       "    }\n",
       "\n",
       "    .dataframe tbody tr th {\n",
       "        vertical-align: top;\n",
       "    }\n",
       "\n",
       "    .dataframe thead th {\n",
       "        text-align: right;\n",
       "    }\n",
       "</style>\n",
       "<table border=\"1\" class=\"dataframe\">\n",
       "  <thead>\n",
       "    <tr style=\"text-align: right;\">\n",
       "      <th></th>\n",
       "      <th>Category</th>\n",
       "      <th>Sub-Category</th>\n",
       "      <th>Sales</th>\n",
       "    </tr>\n",
       "  </thead>\n",
       "  <tbody>\n",
       "    <tr>\n",
       "      <th>11</th>\n",
       "      <td>Office Supplies</td>\n",
       "      <td>Storage</td>\n",
       "      <td>224644.554</td>\n",
       "    </tr>\n",
       "    <tr>\n",
       "      <th>6</th>\n",
       "      <td>Office Supplies</td>\n",
       "      <td>Binders</td>\n",
       "      <td>207354.881</td>\n",
       "    </tr>\n",
       "    <tr>\n",
       "      <th>4</th>\n",
       "      <td>Office Supplies</td>\n",
       "      <td>Appliances</td>\n",
       "      <td>108213.185</td>\n",
       "    </tr>\n",
       "    <tr>\n",
       "      <th>10</th>\n",
       "      <td>Office Supplies</td>\n",
       "      <td>Paper</td>\n",
       "      <td>79540.538</td>\n",
       "    </tr>\n",
       "    <tr>\n",
       "      <th>12</th>\n",
       "      <td>Office Supplies</td>\n",
       "      <td>Supplies</td>\n",
       "      <td>46725.498</td>\n",
       "    </tr>\n",
       "    <tr>\n",
       "      <th>5</th>\n",
       "      <td>Office Supplies</td>\n",
       "      <td>Art</td>\n",
       "      <td>27659.014</td>\n",
       "    </tr>\n",
       "    <tr>\n",
       "      <th>7</th>\n",
       "      <td>Office Supplies</td>\n",
       "      <td>Envelopes</td>\n",
       "      <td>16528.362</td>\n",
       "    </tr>\n",
       "    <tr>\n",
       "      <th>9</th>\n",
       "      <td>Office Supplies</td>\n",
       "      <td>Labels</td>\n",
       "      <td>12695.042</td>\n",
       "    </tr>\n",
       "    <tr>\n",
       "      <th>8</th>\n",
       "      <td>Office Supplies</td>\n",
       "      <td>Fasteners</td>\n",
       "      <td>8532.240</td>\n",
       "    </tr>\n",
       "    <tr>\n",
       "      <th>16</th>\n",
       "      <td>Technology</td>\n",
       "      <td>Phones</td>\n",
       "      <td>331842.640</td>\n",
       "    </tr>\n",
       "    <tr>\n",
       "      <th>15</th>\n",
       "      <td>Technology</td>\n",
       "      <td>Machines</td>\n",
       "      <td>189925.031</td>\n",
       "    </tr>\n",
       "    <tr>\n",
       "      <th>13</th>\n",
       "      <td>Technology</td>\n",
       "      <td>Accessories</td>\n",
       "      <td>167380.318</td>\n",
       "    </tr>\n",
       "    <tr>\n",
       "      <th>14</th>\n",
       "      <td>Technology</td>\n",
       "      <td>Copiers</td>\n",
       "      <td>150745.290</td>\n",
       "    </tr>\n",
       "  </tbody>\n",
       "</table>\n",
       "</div>"
      ],
      "text/plain": [
       "           Category Sub-Category       Sales\n",
       "11  Office Supplies      Storage  224644.554\n",
       "6   Office Supplies      Binders  207354.881\n",
       "4   Office Supplies   Appliances  108213.185\n",
       "10  Office Supplies        Paper   79540.538\n",
       "12  Office Supplies     Supplies   46725.498\n",
       "5   Office Supplies          Art   27659.014\n",
       "7   Office Supplies    Envelopes   16528.362\n",
       "9   Office Supplies       Labels   12695.042\n",
       "8   Office Supplies    Fasteners    8532.240\n",
       "16       Technology       Phones  331842.640\n",
       "15       Technology     Machines  189925.031\n",
       "13       Technology  Accessories  167380.318\n",
       "14       Technology      Copiers  150745.290"
      ]
     },
     "execution_count": 73,
     "metadata": {},
     "output_type": "execute_result"
    }
   ],
   "source": [
    "merged_sorted[merged_sorted['Category'].isin(['Office Supplies', 'Technology'])][['Category', 'Sub-Category', 'Sales_x']].rename(columns = {'Sales_x':'Sales'})\n"
   ]
  },
  {
   "cell_type": "markdown",
   "id": "17612e00",
   "metadata": {
    "papermill": {
     "duration": 0.033768,
     "end_time": "2025-01-07T17:17:40.127853",
     "exception": false,
     "start_time": "2025-01-07T17:17:40.094085",
     "status": "completed"
    },
    "tags": []
   },
   "source": [
    "These are the top selling sub categories\n",
    "* Chair table bookcases\n",
    "* Storage binders appliances papers\n",
    "* Phones machines assesories "
   ]
  },
  {
   "cell_type": "code",
   "execution_count": 74,
   "id": "47d2c3e3",
   "metadata": {
    "execution": {
     "iopub.execute_input": "2025-01-07T17:17:40.199092Z",
     "iopub.status.busy": "2025-01-07T17:17:40.198646Z",
     "iopub.status.idle": "2025-01-07T17:17:40.216144Z",
     "shell.execute_reply": "2025-01-07T17:17:40.214973Z"
    },
    "papermill": {
     "duration": 0.055962,
     "end_time": "2025-01-07T17:17:40.218419",
     "exception": false,
     "start_time": "2025-01-07T17:17:40.162457",
     "status": "completed"
    },
    "tags": []
   },
   "outputs": [
    {
     "data": {
      "text/html": [
       "<div>\n",
       "<style scoped>\n",
       "    .dataframe tbody tr th:only-of-type {\n",
       "        vertical-align: middle;\n",
       "    }\n",
       "\n",
       "    .dataframe tbody tr th {\n",
       "        vertical-align: top;\n",
       "    }\n",
       "\n",
       "    .dataframe thead th {\n",
       "        text-align: right;\n",
       "    }\n",
       "</style>\n",
       "<table border=\"1\" class=\"dataframe\">\n",
       "  <thead>\n",
       "    <tr style=\"text-align: right;\">\n",
       "      <th></th>\n",
       "      <th>Sub-Category</th>\n",
       "      <th>Overall Profit margin</th>\n",
       "    </tr>\n",
       "  </thead>\n",
       "  <tbody>\n",
       "    <tr>\n",
       "      <th>10</th>\n",
       "      <td>Labels</td>\n",
       "      <td>78.244474</td>\n",
       "    </tr>\n",
       "    <tr>\n",
       "      <th>12</th>\n",
       "      <td>Paper</td>\n",
       "      <td>76.642793</td>\n",
       "    </tr>\n",
       "    <tr>\n",
       "      <th>7</th>\n",
       "      <td>Envelopes</td>\n",
       "      <td>73.247145</td>\n",
       "    </tr>\n",
       "    <tr>\n",
       "      <th>6</th>\n",
       "      <td>Copiers</td>\n",
       "      <td>59.263745</td>\n",
       "    </tr>\n",
       "    <tr>\n",
       "      <th>8</th>\n",
       "      <td>Fasteners</td>\n",
       "      <td>39.790192</td>\n",
       "    </tr>\n",
       "    <tr>\n",
       "      <th>0</th>\n",
       "      <td>Accessories</td>\n",
       "      <td>33.430648</td>\n",
       "    </tr>\n",
       "    <tr>\n",
       "      <th>2</th>\n",
       "      <td>Art</td>\n",
       "      <td>31.673112</td>\n",
       "    </tr>\n",
       "  </tbody>\n",
       "</table>\n",
       "</div>"
      ],
      "text/plain": [
       "   Sub-Category  Overall Profit margin\n",
       "10       Labels              78.244474\n",
       "12        Paper              76.642793\n",
       "7     Envelopes              73.247145\n",
       "6       Copiers              59.263745\n",
       "8     Fasteners              39.790192\n",
       "0   Accessories              33.430648\n",
       "2           Art              31.673112"
      ]
     },
     "execution_count": 74,
     "metadata": {},
     "output_type": "execute_result"
    }
   ],
   "source": [
    "#Sub categories which have achieved overall margins greater than 30%\n",
    "\n",
    "sub_cost = df.groupby(\"Sub-Category\")['Cost'].sum()\n",
    "sub_sale = df.groupby(\"Sub-Category\")['Sales'].sum()\n",
    "\n",
    "profit_margin = (sub_sale/sub_cost-1)*100\n",
    "\n",
    "pm = profit_margin.reset_index()\n",
    "pm.rename(columns={0: 'Overall Profit margin'}, inplace=True)\n",
    "pm_sorted = pm.sort_values(by = \"Overall Profit margin\", ascending = False)\n",
    "pm_sorted\n",
    "\n",
    "pm_sorted[pm_sorted['Overall Profit margin']>=30]"
   ]
  },
  {
   "cell_type": "code",
   "execution_count": 75,
   "id": "fb7129f6",
   "metadata": {
    "execution": {
     "iopub.execute_input": "2025-01-07T17:17:40.289299Z",
     "iopub.status.busy": "2025-01-07T17:17:40.288847Z",
     "iopub.status.idle": "2025-01-07T17:17:40.316465Z",
     "shell.execute_reply": "2025-01-07T17:17:40.315433Z"
    },
    "papermill": {
     "duration": 0.065434,
     "end_time": "2025-01-07T17:17:40.318808",
     "exception": false,
     "start_time": "2025-01-07T17:17:40.253374",
     "status": "completed"
    },
    "tags": []
   },
   "outputs": [
    {
     "data": {
      "text/html": [
       "<div>\n",
       "<style scoped>\n",
       "    .dataframe tbody tr th:only-of-type {\n",
       "        vertical-align: middle;\n",
       "    }\n",
       "\n",
       "    .dataframe tbody tr th {\n",
       "        vertical-align: top;\n",
       "    }\n",
       "\n",
       "    .dataframe thead th {\n",
       "        text-align: right;\n",
       "    }\n",
       "</style>\n",
       "<table border=\"1\" class=\"dataframe\">\n",
       "  <thead>\n",
       "    <tr style=\"text-align: right;\">\n",
       "      <th></th>\n",
       "      <th>Sub-Category</th>\n",
       "      <th>Top sales region</th>\n",
       "      <th>Top sales</th>\n",
       "      <th>Bottom sales region</th>\n",
       "      <th>Bottom sales</th>\n",
       "    </tr>\n",
       "  </thead>\n",
       "  <tbody>\n",
       "    <tr>\n",
       "      <th>0</th>\n",
       "      <td>Accessories</td>\n",
       "      <td>West</td>\n",
       "      <td>61114.116</td>\n",
       "      <td>South</td>\n",
       "      <td>27276.754</td>\n",
       "    </tr>\n",
       "    <tr>\n",
       "      <th>1</th>\n",
       "      <td>Appliances</td>\n",
       "      <td>East</td>\n",
       "      <td>34789.866</td>\n",
       "      <td>South</td>\n",
       "      <td>19525.326</td>\n",
       "    </tr>\n",
       "    <tr>\n",
       "      <th>2</th>\n",
       "      <td>Art</td>\n",
       "      <td>West</td>\n",
       "      <td>9320.456</td>\n",
       "      <td>South</td>\n",
       "      <td>4655.622</td>\n",
       "    </tr>\n",
       "    <tr>\n",
       "      <th>3</th>\n",
       "      <td>Binders</td>\n",
       "      <td>Central</td>\n",
       "      <td>58060.790</td>\n",
       "      <td>South</td>\n",
       "      <td>37030.341</td>\n",
       "    </tr>\n",
       "    <tr>\n",
       "      <th>4</th>\n",
       "      <td>Bookcases</td>\n",
       "      <td>East</td>\n",
       "      <td>43963.922</td>\n",
       "      <td>South</td>\n",
       "      <td>10899.362</td>\n",
       "    </tr>\n",
       "    <tr>\n",
       "      <th>5</th>\n",
       "      <td>Chairs</td>\n",
       "      <td>West</td>\n",
       "      <td>107134.978</td>\n",
       "      <td>South</td>\n",
       "      <td>45176.446</td>\n",
       "    </tr>\n",
       "    <tr>\n",
       "      <th>6</th>\n",
       "      <td>Copiers</td>\n",
       "      <td>East</td>\n",
       "      <td>54436.722</td>\n",
       "      <td>South</td>\n",
       "      <td>9299.756</td>\n",
       "    </tr>\n",
       "    <tr>\n",
       "      <th>7</th>\n",
       "      <td>Envelopes</td>\n",
       "      <td>Central</td>\n",
       "      <td>4636.872</td>\n",
       "      <td>South</td>\n",
       "      <td>3345.556</td>\n",
       "    </tr>\n",
       "    <tr>\n",
       "      <th>8</th>\n",
       "      <td>Fasteners</td>\n",
       "      <td>West</td>\n",
       "      <td>6138.076</td>\n",
       "      <td>South</td>\n",
       "      <td>503.316</td>\n",
       "    </tr>\n",
       "    <tr>\n",
       "      <th>9</th>\n",
       "      <td>Furnishings</td>\n",
       "      <td>West</td>\n",
       "      <td>32181.136</td>\n",
       "      <td>Central</td>\n",
       "      <td>15284.362</td>\n",
       "    </tr>\n",
       "    <tr>\n",
       "      <th>10</th>\n",
       "      <td>Labels</td>\n",
       "      <td>West</td>\n",
       "      <td>5078.726</td>\n",
       "      <td>South</td>\n",
       "      <td>2353.180</td>\n",
       "    </tr>\n",
       "    <tr>\n",
       "      <th>11</th>\n",
       "      <td>Machines</td>\n",
       "      <td>East</td>\n",
       "      <td>66106.165</td>\n",
       "      <td>Central</td>\n",
       "      <td>26797.384</td>\n",
       "    </tr>\n",
       "    <tr>\n",
       "      <th>12</th>\n",
       "      <td>Paper</td>\n",
       "      <td>West</td>\n",
       "      <td>26722.526</td>\n",
       "      <td>South</td>\n",
       "      <td>14150.984</td>\n",
       "    </tr>\n",
       "    <tr>\n",
       "      <th>13</th>\n",
       "      <td>Phones</td>\n",
       "      <td>East</td>\n",
       "      <td>102361.812</td>\n",
       "      <td>South</td>\n",
       "      <td>58304.438</td>\n",
       "    </tr>\n",
       "    <tr>\n",
       "      <th>14</th>\n",
       "      <td>Storage</td>\n",
       "      <td>East</td>\n",
       "      <td>72360.744</td>\n",
       "      <td>South</td>\n",
       "      <td>35768.060</td>\n",
       "    </tr>\n",
       "    <tr>\n",
       "      <th>15</th>\n",
       "      <td>Supplies</td>\n",
       "      <td>West</td>\n",
       "      <td>18127.122</td>\n",
       "      <td>South</td>\n",
       "      <td>8318.928</td>\n",
       "    </tr>\n",
       "    <tr>\n",
       "      <th>16</th>\n",
       "      <td>Tables</td>\n",
       "      <td>West</td>\n",
       "      <td>85022.872</td>\n",
       "      <td>Central</td>\n",
       "      <td>39154.971</td>\n",
       "    </tr>\n",
       "  </tbody>\n",
       "</table>\n",
       "</div>"
      ],
      "text/plain": [
       "   Sub-Category Top sales region   Top sales Bottom sales region  Bottom sales\n",
       "0   Accessories             West   61114.116               South     27276.754\n",
       "1    Appliances             East   34789.866               South     19525.326\n",
       "2           Art             West    9320.456               South      4655.622\n",
       "3       Binders          Central   58060.790               South     37030.341\n",
       "4     Bookcases             East   43963.922               South     10899.362\n",
       "5        Chairs             West  107134.978               South     45176.446\n",
       "6       Copiers             East   54436.722               South      9299.756\n",
       "7     Envelopes          Central    4636.872               South      3345.556\n",
       "8     Fasteners             West    6138.076               South       503.316\n",
       "9   Furnishings             West   32181.136             Central     15284.362\n",
       "10       Labels             West    5078.726               South      2353.180\n",
       "11     Machines             East   66106.165             Central     26797.384\n",
       "12        Paper             West   26722.526               South     14150.984\n",
       "13       Phones             East  102361.812               South     58304.438\n",
       "14      Storage             East   72360.744               South     35768.060\n",
       "15     Supplies             West   18127.122               South      8318.928\n",
       "16       Tables             West   85022.872             Central     39154.971"
      ]
     },
     "execution_count": 75,
     "metadata": {},
     "output_type": "execute_result"
    }
   ],
   "source": [
    "#Sub category wise top and bottom region in terms of sales\n",
    "\n",
    "sub_topbot = df.groupby(['Sub-Category','Region'])['Sales'].sum().reset_index()\n",
    "\n",
    "sub_topbot_sort = sub_topbot.sort_values(by = ['Sub-Category','Sales'], ascending = [True, False])\n",
    "\n",
    "sub_top = sub_topbot_sort.groupby(\"Sub-Category\").head(1).reset_index()\n",
    "sub_bot = sub_topbot_sort.groupby(\"Sub-Category\").tail(1).reset_index()\n",
    "\n",
    "subcat_region = pd.merge(sub_top,sub_bot, on = \"Sub-Category\", how = \"inner\")\n",
    "subcat_region[['Sub-Category','Region_x','Sales_x','Region_y','Sales_y']].rename(columns = {\"Region_x\":\"Top sales region\",\"Region_y\":\"Bottom sales region\",\"Sales_x\":\"Top sales\",\"Sales_y\":\"Bottom sales\"})"
   ]
  },
  {
   "cell_type": "markdown",
   "id": "c3ef0db5",
   "metadata": {
    "papermill": {
     "duration": 0.034474,
     "end_time": "2025-01-07T17:17:40.388118",
     "exception": false,
     "start_time": "2025-01-07T17:17:40.353644",
     "status": "completed"
    },
    "tags": []
   },
   "source": [
    "* Most and least preferred Shipmode among all the sub categories\n",
    "* Shipmodewise average processing time\n",
    "* Average order value\n",
    "* Sub categorywise average processing time\n",
    "* First and latest order date for each category \n",
    "* Sub categories where average profit is more that half of the max profit in that sub category"
   ]
  },
  {
   "cell_type": "code",
   "execution_count": 76,
   "id": "46f01112",
   "metadata": {
    "execution": {
     "iopub.execute_input": "2025-01-07T17:17:40.460068Z",
     "iopub.status.busy": "2025-01-07T17:17:40.459017Z",
     "iopub.status.idle": "2025-01-07T17:17:40.488229Z",
     "shell.execute_reply": "2025-01-07T17:17:40.487109Z"
    },
    "papermill": {
     "duration": 0.067501,
     "end_time": "2025-01-07T17:17:40.490435",
     "exception": false,
     "start_time": "2025-01-07T17:17:40.422934",
     "status": "completed"
    },
    "tags": []
   },
   "outputs": [
    {
     "data": {
      "text/html": [
       "<div>\n",
       "<style scoped>\n",
       "    .dataframe tbody tr th:only-of-type {\n",
       "        vertical-align: middle;\n",
       "    }\n",
       "\n",
       "    .dataframe tbody tr th {\n",
       "        vertical-align: top;\n",
       "    }\n",
       "\n",
       "    .dataframe thead th {\n",
       "        text-align: right;\n",
       "    }\n",
       "</style>\n",
       "<table border=\"1\" class=\"dataframe\">\n",
       "  <thead>\n",
       "    <tr style=\"text-align: right;\">\n",
       "      <th></th>\n",
       "      <th>Sub-Category</th>\n",
       "      <th>Ship Mode</th>\n",
       "      <th>Count</th>\n",
       "      <th>Rank</th>\n",
       "    </tr>\n",
       "  </thead>\n",
       "  <tbody>\n",
       "    <tr>\n",
       "      <th>3</th>\n",
       "      <td>Accessories</td>\n",
       "      <td>Standard Class</td>\n",
       "      <td>444</td>\n",
       "      <td>1.0</td>\n",
       "    </tr>\n",
       "    <tr>\n",
       "      <th>1</th>\n",
       "      <td>Accessories</td>\n",
       "      <td>Same Day</td>\n",
       "      <td>41</td>\n",
       "      <td>4.0</td>\n",
       "    </tr>\n",
       "    <tr>\n",
       "      <th>7</th>\n",
       "      <td>Appliances</td>\n",
       "      <td>Standard Class</td>\n",
       "      <td>292</td>\n",
       "      <td>1.0</td>\n",
       "    </tr>\n",
       "    <tr>\n",
       "      <th>5</th>\n",
       "      <td>Appliances</td>\n",
       "      <td>Same Day</td>\n",
       "      <td>23</td>\n",
       "      <td>4.0</td>\n",
       "    </tr>\n",
       "    <tr>\n",
       "      <th>11</th>\n",
       "      <td>Art</td>\n",
       "      <td>Standard Class</td>\n",
       "      <td>510</td>\n",
       "      <td>1.0</td>\n",
       "    </tr>\n",
       "    <tr>\n",
       "      <th>9</th>\n",
       "      <td>Art</td>\n",
       "      <td>Same Day</td>\n",
       "      <td>36</td>\n",
       "      <td>4.0</td>\n",
       "    </tr>\n",
       "    <tr>\n",
       "      <th>15</th>\n",
       "      <td>Binders</td>\n",
       "      <td>Standard Class</td>\n",
       "      <td>962</td>\n",
       "      <td>1.0</td>\n",
       "    </tr>\n",
       "    <tr>\n",
       "      <th>13</th>\n",
       "      <td>Binders</td>\n",
       "      <td>Same Day</td>\n",
       "      <td>74</td>\n",
       "      <td>4.0</td>\n",
       "    </tr>\n",
       "    <tr>\n",
       "      <th>19</th>\n",
       "      <td>Bookcases</td>\n",
       "      <td>Standard Class</td>\n",
       "      <td>126</td>\n",
       "      <td>1.0</td>\n",
       "    </tr>\n",
       "    <tr>\n",
       "      <th>17</th>\n",
       "      <td>Bookcases</td>\n",
       "      <td>Same Day</td>\n",
       "      <td>7</td>\n",
       "      <td>4.0</td>\n",
       "    </tr>\n",
       "    <tr>\n",
       "      <th>23</th>\n",
       "      <td>Chairs</td>\n",
       "      <td>Standard Class</td>\n",
       "      <td>372</td>\n",
       "      <td>1.0</td>\n",
       "    </tr>\n",
       "    <tr>\n",
       "      <th>21</th>\n",
       "      <td>Chairs</td>\n",
       "      <td>Same Day</td>\n",
       "      <td>39</td>\n",
       "      <td>4.0</td>\n",
       "    </tr>\n",
       "    <tr>\n",
       "      <th>27</th>\n",
       "      <td>Copiers</td>\n",
       "      <td>Standard Class</td>\n",
       "      <td>38</td>\n",
       "      <td>1.0</td>\n",
       "    </tr>\n",
       "    <tr>\n",
       "      <th>25</th>\n",
       "      <td>Copiers</td>\n",
       "      <td>Same Day</td>\n",
       "      <td>5</td>\n",
       "      <td>4.0</td>\n",
       "    </tr>\n",
       "    <tr>\n",
       "      <th>31</th>\n",
       "      <td>Envelopes</td>\n",
       "      <td>Standard Class</td>\n",
       "      <td>155</td>\n",
       "      <td>1.0</td>\n",
       "    </tr>\n",
       "    <tr>\n",
       "      <th>29</th>\n",
       "      <td>Envelopes</td>\n",
       "      <td>Same Day</td>\n",
       "      <td>14</td>\n",
       "      <td>4.0</td>\n",
       "    </tr>\n",
       "    <tr>\n",
       "      <th>35</th>\n",
       "      <td>Fasteners</td>\n",
       "      <td>Standard Class</td>\n",
       "      <td>148</td>\n",
       "      <td>1.0</td>\n",
       "    </tr>\n",
       "    <tr>\n",
       "      <th>33</th>\n",
       "      <td>Fasteners</td>\n",
       "      <td>Same Day</td>\n",
       "      <td>14</td>\n",
       "      <td>4.0</td>\n",
       "    </tr>\n",
       "    <tr>\n",
       "      <th>39</th>\n",
       "      <td>Furnishings</td>\n",
       "      <td>Standard Class</td>\n",
       "      <td>619</td>\n",
       "      <td>1.0</td>\n",
       "    </tr>\n",
       "    <tr>\n",
       "      <th>37</th>\n",
       "      <td>Furnishings</td>\n",
       "      <td>Same Day</td>\n",
       "      <td>52</td>\n",
       "      <td>4.0</td>\n",
       "    </tr>\n",
       "    <tr>\n",
       "      <th>43</th>\n",
       "      <td>Labels</td>\n",
       "      <td>Standard Class</td>\n",
       "      <td>225</td>\n",
       "      <td>1.0</td>\n",
       "    </tr>\n",
       "    <tr>\n",
       "      <th>41</th>\n",
       "      <td>Labels</td>\n",
       "      <td>Same Day</td>\n",
       "      <td>21</td>\n",
       "      <td>4.0</td>\n",
       "    </tr>\n",
       "    <tr>\n",
       "      <th>47</th>\n",
       "      <td>Machines</td>\n",
       "      <td>Standard Class</td>\n",
       "      <td>70</td>\n",
       "      <td>1.0</td>\n",
       "    </tr>\n",
       "    <tr>\n",
       "      <th>45</th>\n",
       "      <td>Machines</td>\n",
       "      <td>Same Day</td>\n",
       "      <td>10</td>\n",
       "      <td>4.0</td>\n",
       "    </tr>\n",
       "    <tr>\n",
       "      <th>51</th>\n",
       "      <td>Paper</td>\n",
       "      <td>Standard Class</td>\n",
       "      <td>791</td>\n",
       "      <td>1.0</td>\n",
       "    </tr>\n",
       "    <tr>\n",
       "      <th>49</th>\n",
       "      <td>Paper</td>\n",
       "      <td>Same Day</td>\n",
       "      <td>81</td>\n",
       "      <td>4.0</td>\n",
       "    </tr>\n",
       "    <tr>\n",
       "      <th>55</th>\n",
       "      <td>Phones</td>\n",
       "      <td>Standard Class</td>\n",
       "      <td>544</td>\n",
       "      <td>1.0</td>\n",
       "    </tr>\n",
       "    <tr>\n",
       "      <th>53</th>\n",
       "      <td>Phones</td>\n",
       "      <td>Same Day</td>\n",
       "      <td>46</td>\n",
       "      <td>4.0</td>\n",
       "    </tr>\n",
       "    <tr>\n",
       "      <th>59</th>\n",
       "      <td>Storage</td>\n",
       "      <td>Standard Class</td>\n",
       "      <td>514</td>\n",
       "      <td>1.0</td>\n",
       "    </tr>\n",
       "    <tr>\n",
       "      <th>57</th>\n",
       "      <td>Storage</td>\n",
       "      <td>Same Day</td>\n",
       "      <td>52</td>\n",
       "      <td>4.0</td>\n",
       "    </tr>\n",
       "    <tr>\n",
       "      <th>63</th>\n",
       "      <td>Supplies</td>\n",
       "      <td>Standard Class</td>\n",
       "      <td>113</td>\n",
       "      <td>1.0</td>\n",
       "    </tr>\n",
       "    <tr>\n",
       "      <th>61</th>\n",
       "      <td>Supplies</td>\n",
       "      <td>Same Day</td>\n",
       "      <td>11</td>\n",
       "      <td>4.0</td>\n",
       "    </tr>\n",
       "    <tr>\n",
       "      <th>67</th>\n",
       "      <td>Tables</td>\n",
       "      <td>Standard Class</td>\n",
       "      <td>197</td>\n",
       "      <td>1.0</td>\n",
       "    </tr>\n",
       "    <tr>\n",
       "      <th>65</th>\n",
       "      <td>Tables</td>\n",
       "      <td>Same Day</td>\n",
       "      <td>21</td>\n",
       "      <td>4.0</td>\n",
       "    </tr>\n",
       "  </tbody>\n",
       "</table>\n",
       "</div>"
      ],
      "text/plain": [
       "   Sub-Category       Ship Mode  Count  Rank\n",
       "3   Accessories  Standard Class    444   1.0\n",
       "1   Accessories        Same Day     41   4.0\n",
       "7    Appliances  Standard Class    292   1.0\n",
       "5    Appliances        Same Day     23   4.0\n",
       "11          Art  Standard Class    510   1.0\n",
       "9           Art        Same Day     36   4.0\n",
       "15      Binders  Standard Class    962   1.0\n",
       "13      Binders        Same Day     74   4.0\n",
       "19    Bookcases  Standard Class    126   1.0\n",
       "17    Bookcases        Same Day      7   4.0\n",
       "23       Chairs  Standard Class    372   1.0\n",
       "21       Chairs        Same Day     39   4.0\n",
       "27      Copiers  Standard Class     38   1.0\n",
       "25      Copiers        Same Day      5   4.0\n",
       "31    Envelopes  Standard Class    155   1.0\n",
       "29    Envelopes        Same Day     14   4.0\n",
       "35    Fasteners  Standard Class    148   1.0\n",
       "33    Fasteners        Same Day     14   4.0\n",
       "39  Furnishings  Standard Class    619   1.0\n",
       "37  Furnishings        Same Day     52   4.0\n",
       "43       Labels  Standard Class    225   1.0\n",
       "41       Labels        Same Day     21   4.0\n",
       "47     Machines  Standard Class     70   1.0\n",
       "45     Machines        Same Day     10   4.0\n",
       "51        Paper  Standard Class    791   1.0\n",
       "49        Paper        Same Day     81   4.0\n",
       "55       Phones  Standard Class    544   1.0\n",
       "53       Phones        Same Day     46   4.0\n",
       "59      Storage  Standard Class    514   1.0\n",
       "57      Storage        Same Day     52   4.0\n",
       "63     Supplies  Standard Class    113   1.0\n",
       "61     Supplies        Same Day     11   4.0\n",
       "67       Tables  Standard Class    197   1.0\n",
       "65       Tables        Same Day     21   4.0"
      ]
     },
     "execution_count": 76,
     "metadata": {},
     "output_type": "execute_result"
    }
   ],
   "source": [
    "#Most and least preferred Shipmode among all the sub categories\n",
    "\n",
    "sub_shipmode = df.groupby(['Sub-Category','Ship Mode']).size().reset_index()\n",
    "\n",
    "sub_shipmode_sort = sub_shipmode.rename(columns = {0: \"Count\"}).sort_values(by = ['Sub-Category','Count'], ascending = [True, False])\n",
    "\n",
    "sub_shipmode_sort['Rank'] = sub_shipmode_sort.groupby(\"Sub-Category\")['Count'].rank(method = 'dense', ascending = False)\n",
    "\n",
    "sub_shipmode_sort[(sub_shipmode_sort['Rank'] == 1) | (sub_shipmode_sort['Rank'] == 4) ]"
   ]
  },
  {
   "cell_type": "code",
   "execution_count": 77,
   "id": "f4ea05b7",
   "metadata": {
    "execution": {
     "iopub.execute_input": "2025-01-07T17:17:40.563290Z",
     "iopub.status.busy": "2025-01-07T17:17:40.562902Z",
     "iopub.status.idle": "2025-01-07T17:17:40.574284Z",
     "shell.execute_reply": "2025-01-07T17:17:40.573108Z"
    },
    "papermill": {
     "duration": 0.050015,
     "end_time": "2025-01-07T17:17:40.576432",
     "exception": false,
     "start_time": "2025-01-07T17:17:40.526417",
     "status": "completed"
    },
    "tags": []
   },
   "outputs": [
    {
     "data": {
      "text/plain": [
       "Ship Mode\n",
       "First Class       2.182171\n",
       "Same Day          0.043876\n",
       "Second Class      3.237494\n",
       "Standard Class    4.996405\n",
       "Name: Pross time, dtype: float64"
      ]
     },
     "execution_count": 77,
     "metadata": {},
     "output_type": "execute_result"
    }
   ],
   "source": [
    "#Shipmodewise average processing time\n",
    "\n",
    "df.groupby('Ship Mode')['Pross time'].mean()"
   ]
  },
  {
   "cell_type": "code",
   "execution_count": 78,
   "id": "1c71f5a3",
   "metadata": {
    "execution": {
     "iopub.execute_input": "2025-01-07T17:17:40.648841Z",
     "iopub.status.busy": "2025-01-07T17:17:40.648140Z",
     "iopub.status.idle": "2025-01-07T17:17:40.661536Z",
     "shell.execute_reply": "2025-01-07T17:17:40.660561Z"
    },
    "papermill": {
     "duration": 0.052156,
     "end_time": "2025-01-07T17:17:40.663839",
     "exception": false,
     "start_time": "2025-01-07T17:17:40.611683",
     "status": "completed"
    },
    "tags": []
   },
   "outputs": [
    {
     "data": {
      "text/plain": [
       "218.65761610265102"
      ]
     },
     "execution_count": 78,
     "metadata": {},
     "output_type": "execute_result"
    }
   ],
   "source": [
    "#Average order value\n",
    "\n",
    "Order_sales = df.groupby(\"Order ID\")['Sales'].mean().reset_index()\n",
    "\n",
    "Order_sales['Sales'].mean()"
   ]
  },
  {
   "cell_type": "code",
   "execution_count": 79,
   "id": "b19be5db",
   "metadata": {
    "execution": {
     "iopub.execute_input": "2025-01-07T17:17:40.736289Z",
     "iopub.status.busy": "2025-01-07T17:17:40.735840Z",
     "iopub.status.idle": "2025-01-07T17:17:40.745771Z",
     "shell.execute_reply": "2025-01-07T17:17:40.744776Z"
    },
    "papermill": {
     "duration": 0.048705,
     "end_time": "2025-01-07T17:17:40.747969",
     "exception": false,
     "start_time": "2025-01-07T17:17:40.699264",
     "status": "completed"
    },
    "tags": []
   },
   "outputs": [
    {
     "data": {
      "text/plain": [
       "Sub-Category\n",
       "Accessories    3.886452\n",
       "Appliances     3.981013\n",
       "Art            4.054811\n",
       "Binders        4.014212\n",
       "Bookcases      3.801724\n",
       "Chairs         3.924290\n",
       "Copiers        3.628571\n",
       "Envelopes      4.015625\n",
       "Fasteners      4.039301\n",
       "Furnishings    3.983152\n",
       "Labels         4.002717\n",
       "Machines       3.752137\n",
       "Paper          3.888728\n",
       "Phones         3.987818\n",
       "Storage        3.981308\n",
       "Supplies       4.015625\n",
       "Tables         3.911043\n",
       "Name: Pross time, dtype: float64"
      ]
     },
     "execution_count": 79,
     "metadata": {},
     "output_type": "execute_result"
    }
   ],
   "source": [
    "df.groupby(\"Sub-Category\")['Pross time'].mean()"
   ]
  },
  {
   "cell_type": "code",
   "execution_count": 80,
   "id": "974271c5",
   "metadata": {
    "execution": {
     "iopub.execute_input": "2025-01-07T17:17:40.820851Z",
     "iopub.status.busy": "2025-01-07T17:17:40.820464Z",
     "iopub.status.idle": "2025-01-07T17:17:40.836208Z",
     "shell.execute_reply": "2025-01-07T17:17:40.835105Z"
    },
    "papermill": {
     "duration": 0.05498,
     "end_time": "2025-01-07T17:17:40.838476",
     "exception": false,
     "start_time": "2025-01-07T17:17:40.783496",
     "status": "completed"
    },
    "tags": []
   },
   "outputs": [
    {
     "data": {
      "text/html": [
       "<div>\n",
       "<style scoped>\n",
       "    .dataframe tbody tr th:only-of-type {\n",
       "        vertical-align: middle;\n",
       "    }\n",
       "\n",
       "    .dataframe tbody tr th {\n",
       "        vertical-align: top;\n",
       "    }\n",
       "\n",
       "    .dataframe thead th {\n",
       "        text-align: right;\n",
       "    }\n",
       "</style>\n",
       "<table border=\"1\" class=\"dataframe\">\n",
       "  <thead>\n",
       "    <tr style=\"text-align: right;\">\n",
       "      <th></th>\n",
       "      <th>max</th>\n",
       "      <th>min</th>\n",
       "    </tr>\n",
       "    <tr>\n",
       "      <th>Category</th>\n",
       "      <th></th>\n",
       "      <th></th>\n",
       "    </tr>\n",
       "  </thead>\n",
       "  <tbody>\n",
       "    <tr>\n",
       "      <th>Furniture</th>\n",
       "      <td>2024-12-30</td>\n",
       "      <td>2021-01-06</td>\n",
       "    </tr>\n",
       "    <tr>\n",
       "      <th>Office Supplies</th>\n",
       "      <td>2024-12-30</td>\n",
       "      <td>2021-01-03</td>\n",
       "    </tr>\n",
       "    <tr>\n",
       "      <th>Technology</th>\n",
       "      <td>2024-12-30</td>\n",
       "      <td>2021-01-06</td>\n",
       "    </tr>\n",
       "  </tbody>\n",
       "</table>\n",
       "</div>"
      ],
      "text/plain": [
       "                       max        min\n",
       "Category                             \n",
       "Furniture       2024-12-30 2021-01-06\n",
       "Office Supplies 2024-12-30 2021-01-03\n",
       "Technology      2024-12-30 2021-01-06"
      ]
     },
     "execution_count": 80,
     "metadata": {},
     "output_type": "execute_result"
    }
   ],
   "source": [
    "#First and latest order date for each category\n",
    "\n",
    "df.groupby(\"Category\")['Order Date'].agg(['max','min'])"
   ]
  },
  {
   "cell_type": "code",
   "execution_count": 81,
   "id": "4b734dc2",
   "metadata": {
    "execution": {
     "iopub.execute_input": "2025-01-07T17:17:40.910946Z",
     "iopub.status.busy": "2025-01-07T17:17:40.910548Z",
     "iopub.status.idle": "2025-01-07T17:17:40.925701Z",
     "shell.execute_reply": "2025-01-07T17:17:40.924704Z"
    },
    "papermill": {
     "duration": 0.053933,
     "end_time": "2025-01-07T17:17:40.927865",
     "exception": false,
     "start_time": "2025-01-07T17:17:40.873932",
     "status": "completed"
    },
    "tags": []
   },
   "outputs": [
    {
     "data": {
      "text/html": [
       "<div>\n",
       "<style scoped>\n",
       "    .dataframe tbody tr th:only-of-type {\n",
       "        vertical-align: middle;\n",
       "    }\n",
       "\n",
       "    .dataframe tbody tr th {\n",
       "        vertical-align: top;\n",
       "    }\n",
       "\n",
       "    .dataframe thead th {\n",
       "        text-align: right;\n",
       "    }\n",
       "</style>\n",
       "<table border=\"1\" class=\"dataframe\">\n",
       "  <thead>\n",
       "    <tr style=\"text-align: right;\">\n",
       "      <th></th>\n",
       "      <th>Sub-Category</th>\n",
       "      <th>mean</th>\n",
       "      <th>max</th>\n",
       "    </tr>\n",
       "  </thead>\n",
       "  <tbody>\n",
       "    <tr>\n",
       "      <th>7</th>\n",
       "      <td>Envelopes</td>\n",
       "      <td>27.296971</td>\n",
       "      <td>204.0714</td>\n",
       "    </tr>\n",
       "  </tbody>\n",
       "</table>\n",
       "</div>"
      ],
      "text/plain": [
       "  Sub-Category       mean       max\n",
       "7    Envelopes  27.296971  204.0714"
      ]
     },
     "execution_count": 81,
     "metadata": {},
     "output_type": "execute_result"
    }
   ],
   "source": [
    "#Sub categories where average profit is more than 10% max profit in that sub category\n",
    "\n",
    "mean_max = df.groupby(\"Sub-Category\")['Profit'].agg(['mean','max']).reset_index()\n",
    "mean_max[mean_max['mean']>(mean_max['max'])*0.1]"
   ]
  },
  {
   "cell_type": "code",
   "execution_count": 82,
   "id": "2c133b82",
   "metadata": {
    "execution": {
     "iopub.execute_input": "2025-01-07T17:17:41.002912Z",
     "iopub.status.busy": "2025-01-07T17:17:41.002430Z",
     "iopub.status.idle": "2025-01-07T17:17:41.023001Z",
     "shell.execute_reply": "2025-01-07T17:17:41.021831Z"
    },
    "papermill": {
     "duration": 0.062281,
     "end_time": "2025-01-07T17:17:41.025487",
     "exception": false,
     "start_time": "2025-01-07T17:17:40.963206",
     "status": "completed"
    },
    "tags": []
   },
   "outputs": [
    {
     "data": {
      "text/html": [
       "<div>\n",
       "<style scoped>\n",
       "    .dataframe tbody tr th:only-of-type {\n",
       "        vertical-align: middle;\n",
       "    }\n",
       "\n",
       "    .dataframe tbody tr th {\n",
       "        vertical-align: top;\n",
       "    }\n",
       "\n",
       "    .dataframe thead th {\n",
       "        text-align: right;\n",
       "    }\n",
       "</style>\n",
       "<table border=\"1\" class=\"dataframe\">\n",
       "  <thead>\n",
       "    <tr style=\"text-align: right;\">\n",
       "      <th></th>\n",
       "      <th>Product Name</th>\n",
       "      <th>Sales</th>\n",
       "      <th>Profit</th>\n",
       "      <th>Proportion</th>\n",
       "    </tr>\n",
       "  </thead>\n",
       "  <tbody>\n",
       "    <tr>\n",
       "      <th>404</th>\n",
       "      <td>Canon imageCLASS 2200 Advanced Copier</td>\n",
       "      <td>61599.824</td>\n",
       "      <td>2.519993e+04</td>\n",
       "      <td>8.621349e+00</td>\n",
       "    </tr>\n",
       "    <tr>\n",
       "      <th>649</th>\n",
       "      <td>Fellowes PB500 Electric Punch Plastic Comb Bin...</td>\n",
       "      <td>27453.384</td>\n",
       "      <td>7.753039e+03</td>\n",
       "      <td>2.652454e+00</td>\n",
       "    </tr>\n",
       "    <tr>\n",
       "      <th>444</th>\n",
       "      <td>Cisco TelePresence System EX90 Videoconferenci...</td>\n",
       "      <td>22638.480</td>\n",
       "      <td>-1.811078e+03</td>\n",
       "      <td>-6.196025e-01</td>\n",
       "    </tr>\n",
       "    <tr>\n",
       "      <th>785</th>\n",
       "      <td>HON 5400 Series Task Chairs for Big and Tall</td>\n",
       "      <td>21870.576</td>\n",
       "      <td>1.136868e-13</td>\n",
       "      <td>3.889431e-17</td>\n",
       "    </tr>\n",
       "    <tr>\n",
       "      <th>685</th>\n",
       "      <td>GBC DocuBind TL300 Electric Binding System</td>\n",
       "      <td>19823.479</td>\n",
       "      <td>2.233505e+03</td>\n",
       "      <td>7.641223e-01</td>\n",
       "    </tr>\n",
       "  </tbody>\n",
       "</table>\n",
       "</div>"
      ],
      "text/plain": [
       "                                          Product Name      Sales  \\\n",
       "404              Canon imageCLASS 2200 Advanced Copier  61599.824   \n",
       "649  Fellowes PB500 Electric Punch Plastic Comb Bin...  27453.384   \n",
       "444  Cisco TelePresence System EX90 Videoconferenci...  22638.480   \n",
       "785       HON 5400 Series Task Chairs for Big and Tall  21870.576   \n",
       "685         GBC DocuBind TL300 Electric Binding System  19823.479   \n",
       "\n",
       "           Profit    Proportion  \n",
       "404  2.519993e+04  8.621349e+00  \n",
       "649  7.753039e+03  2.652454e+00  \n",
       "444 -1.811078e+03 -6.196025e-01  \n",
       "785  1.136868e-13  3.889431e-17  \n",
       "685  2.233505e+03  7.641223e-01  "
      ]
     },
     "execution_count": 82,
     "metadata": {},
     "output_type": "execute_result"
    }
   ],
   "source": [
    "#Profit share of top 5 selling products\n",
    "\n",
    "prod_sale_prof = df.groupby(\"Product Name\")[['Sales','Profit']].sum().reset_index()\n",
    "prod_sale_prof = prod_sale_prof.sort_values(by = \"Sales\", ascending = False)\n",
    "prod_sale_prof['Proportion'] = (prod_sale_prof['Profit']/prod_sale_prof['Profit'].sum())*100\n",
    "prod_sale_prof['Proportion'].round(2)\n",
    "top5prod = prod_sale_prof.head(5)\n",
    "top5prod"
   ]
  },
  {
   "cell_type": "code",
   "execution_count": 83,
   "id": "ba884b23",
   "metadata": {
    "execution": {
     "iopub.execute_input": "2025-01-07T17:17:41.100061Z",
     "iopub.status.busy": "2025-01-07T17:17:41.099635Z",
     "iopub.status.idle": "2025-01-07T17:17:41.111611Z",
     "shell.execute_reply": "2025-01-07T17:17:41.110468Z"
    },
    "papermill": {
     "duration": 0.05179,
     "end_time": "2025-01-07T17:17:41.113774",
     "exception": false,
     "start_time": "2025-01-07T17:17:41.061984",
     "status": "completed"
    },
    "tags": []
   },
   "outputs": [
    {
     "data": {
      "text/plain": [
       "Product Name\n",
       "Canon imageCLASS 2200 Advanced Copier                                          25199.9280\n",
       "Fellowes PB500 Electric Punch Plastic Comb Binding Machine with Manual Bind     7753.0390\n",
       "Hewlett Packard LaserJet 3310 Copier                                            6983.8836\n",
       "Canon PC1060 Personal Laser Copier                                              4570.9347\n",
       "HP Designjet T520 Inkjet Large Format Printer - 24\" Color                       4094.9766\n",
       "Name: Profit, dtype: float64"
      ]
     },
     "execution_count": 83,
     "metadata": {},
     "output_type": "execute_result"
    }
   ],
   "source": [
    "# Top 5 profitable products\n",
    "df.groupby(\"Product Name\")['Profit'].sum().sort_values(ascending = False).head(5)"
   ]
  },
  {
   "cell_type": "code",
   "execution_count": 84,
   "id": "7c75b826",
   "metadata": {
    "execution": {
     "iopub.execute_input": "2025-01-07T17:17:41.189372Z",
     "iopub.status.busy": "2025-01-07T17:17:41.188983Z",
     "iopub.status.idle": "2025-01-07T17:17:41.201005Z",
     "shell.execute_reply": "2025-01-07T17:17:41.199828Z"
    },
    "papermill": {
     "duration": 0.052537,
     "end_time": "2025-01-07T17:17:41.203221",
     "exception": false,
     "start_time": "2025-01-07T17:17:41.150684",
     "status": "completed"
    },
    "tags": []
   },
   "outputs": [
    {
     "data": {
      "text/plain": [
       "Product Name\n",
       "Staples                    234\n",
       "Staple envelope            170\n",
       "Easy-staple paper          150\n",
       "Staples in misc. colors     86\n",
       "Nu-Dell Executive Frame     84\n",
       "Name: Quantity, dtype: int64"
      ]
     },
     "execution_count": 84,
     "metadata": {},
     "output_type": "execute_result"
    }
   ],
   "source": [
    "# Top 5 products in terms of order volume\n",
    "df.groupby(\"Product Name\")['Quantity'].sum().sort_values(ascending = False).head(5)"
   ]
  },
  {
   "cell_type": "markdown",
   "id": "62f726bf",
   "metadata": {
    "papermill": {
     "duration": 0.036241,
     "end_time": "2025-01-07T17:17:41.276422",
     "exception": false,
     "start_time": "2025-01-07T17:17:41.240181",
     "status": "completed"
    },
    "tags": []
   },
   "source": [
    "#top 5 sub categories in west region by total quantity sold"
   ]
  },
  {
   "cell_type": "code",
   "execution_count": 85,
   "id": "99cadf01",
   "metadata": {
    "execution": {
     "iopub.execute_input": "2025-01-07T17:17:41.350071Z",
     "iopub.status.busy": "2025-01-07T17:17:41.349645Z",
     "iopub.status.idle": "2025-01-07T17:17:41.366946Z",
     "shell.execute_reply": "2025-01-07T17:17:41.365812Z"
    },
    "papermill": {
     "duration": 0.05693,
     "end_time": "2025-01-07T17:17:41.369403",
     "exception": false,
     "start_time": "2025-01-07T17:17:41.312473",
     "status": "completed"
    },
    "tags": []
   },
   "outputs": [
    {
     "data": {
      "text/html": [
       "<div>\n",
       "<style scoped>\n",
       "    .dataframe tbody tr th:only-of-type {\n",
       "        vertical-align: middle;\n",
       "    }\n",
       "\n",
       "    .dataframe tbody tr th {\n",
       "        vertical-align: top;\n",
       "    }\n",
       "\n",
       "    .dataframe thead th {\n",
       "        text-align: right;\n",
       "    }\n",
       "</style>\n",
       "<table border=\"1\" class=\"dataframe\">\n",
       "  <thead>\n",
       "    <tr style=\"text-align: right;\">\n",
       "      <th></th>\n",
       "      <th>Region</th>\n",
       "      <th>Sub-Category</th>\n",
       "      <th>Quantity</th>\n",
       "    </tr>\n",
       "  </thead>\n",
       "  <tbody>\n",
       "    <tr>\n",
       "      <th>54</th>\n",
       "      <td>West</td>\n",
       "      <td>Binders</td>\n",
       "      <td>1868</td>\n",
       "    </tr>\n",
       "    <tr>\n",
       "      <th>63</th>\n",
       "      <td>West</td>\n",
       "      <td>Paper</td>\n",
       "      <td>1710</td>\n",
       "    </tr>\n",
       "    <tr>\n",
       "      <th>60</th>\n",
       "      <td>West</td>\n",
       "      <td>Furnishings</td>\n",
       "      <td>1254</td>\n",
       "    </tr>\n",
       "    <tr>\n",
       "      <th>64</th>\n",
       "      <td>West</td>\n",
       "      <td>Phones</td>\n",
       "      <td>1081</td>\n",
       "    </tr>\n",
       "    <tr>\n",
       "      <th>65</th>\n",
       "      <td>West</td>\n",
       "      <td>Storage</td>\n",
       "      <td>1039</td>\n",
       "    </tr>\n",
       "  </tbody>\n",
       "</table>\n",
       "</div>"
      ],
      "text/plain": [
       "   Region Sub-Category  Quantity\n",
       "54   West      Binders      1868\n",
       "63   West        Paper      1710\n",
       "60   West  Furnishings      1254\n",
       "64   West       Phones      1081\n",
       "65   West      Storage      1039"
      ]
     },
     "execution_count": 85,
     "metadata": {},
     "output_type": "execute_result"
    }
   ],
   "source": [
    "#top 5 sub categories in west region by total quantity sold\n",
    "\n",
    "regionwise= df.groupby(['Region','Sub-Category'])['Quantity'].sum().reset_index()\n",
    "regionwise_sort = regionwise.sort_values(by =['Region','Quantity'], ascending = [True, False])\n",
    "regionwise_sort[regionwise_sort['Region']== \"West\"].head(5)"
   ]
  },
  {
   "cell_type": "code",
   "execution_count": 86,
   "id": "52138779",
   "metadata": {
    "execution": {
     "iopub.execute_input": "2025-01-07T17:17:41.444282Z",
     "iopub.status.busy": "2025-01-07T17:17:41.443866Z",
     "iopub.status.idle": "2025-01-07T17:17:41.461046Z",
     "shell.execute_reply": "2025-01-07T17:17:41.459955Z"
    },
    "papermill": {
     "duration": 0.056581,
     "end_time": "2025-01-07T17:17:41.463095",
     "exception": false,
     "start_time": "2025-01-07T17:17:41.406514",
     "status": "completed"
    },
    "tags": []
   },
   "outputs": [
    {
     "data": {
      "text/html": [
       "<div>\n",
       "<style scoped>\n",
       "    .dataframe tbody tr th:only-of-type {\n",
       "        vertical-align: middle;\n",
       "    }\n",
       "\n",
       "    .dataframe tbody tr th {\n",
       "        vertical-align: top;\n",
       "    }\n",
       "\n",
       "    .dataframe thead th {\n",
       "        text-align: right;\n",
       "    }\n",
       "</style>\n",
       "<table border=\"1\" class=\"dataframe\">\n",
       "  <thead>\n",
       "    <tr style=\"text-align: right;\">\n",
       "      <th></th>\n",
       "      <th>Region</th>\n",
       "      <th>Ship Mode</th>\n",
       "      <th>Year</th>\n",
       "      <th>Sales</th>\n",
       "    </tr>\n",
       "  </thead>\n",
       "  <tbody>\n",
       "    <tr>\n",
       "      <th>0</th>\n",
       "      <td>Central</td>\n",
       "      <td>First Class</td>\n",
       "      <td>2021</td>\n",
       "      <td>14258.1440</td>\n",
       "    </tr>\n",
       "    <tr>\n",
       "      <th>4</th>\n",
       "      <td>Central</td>\n",
       "      <td>Same Day</td>\n",
       "      <td>2021</td>\n",
       "      <td>866.2680</td>\n",
       "    </tr>\n",
       "    <tr>\n",
       "      <th>8</th>\n",
       "      <td>Central</td>\n",
       "      <td>Second Class</td>\n",
       "      <td>2021</td>\n",
       "      <td>20523.7960</td>\n",
       "    </tr>\n",
       "    <tr>\n",
       "      <th>12</th>\n",
       "      <td>Central</td>\n",
       "      <td>Standard Class</td>\n",
       "      <td>2021</td>\n",
       "      <td>68189.9566</td>\n",
       "    </tr>\n",
       "    <tr>\n",
       "      <th>16</th>\n",
       "      <td>East</td>\n",
       "      <td>First Class</td>\n",
       "      <td>2021</td>\n",
       "      <td>14993.3780</td>\n",
       "    </tr>\n",
       "    <tr>\n",
       "      <th>20</th>\n",
       "      <td>East</td>\n",
       "      <td>Same Day</td>\n",
       "      <td>2021</td>\n",
       "      <td>10613.8830</td>\n",
       "    </tr>\n",
       "    <tr>\n",
       "      <th>24</th>\n",
       "      <td>East</td>\n",
       "      <td>Second Class</td>\n",
       "      <td>2021</td>\n",
       "      <td>25596.9490</td>\n",
       "    </tr>\n",
       "    <tr>\n",
       "      <th>28</th>\n",
       "      <td>East</td>\n",
       "      <td>Standard Class</td>\n",
       "      <td>2021</td>\n",
       "      <td>84235.6210</td>\n",
       "    </tr>\n",
       "    <tr>\n",
       "      <th>32</th>\n",
       "      <td>South</td>\n",
       "      <td>First Class</td>\n",
       "      <td>2021</td>\n",
       "      <td>9612.3480</td>\n",
       "    </tr>\n",
       "    <tr>\n",
       "      <th>36</th>\n",
       "      <td>South</td>\n",
       "      <td>Same Day</td>\n",
       "      <td>2021</td>\n",
       "      <td>2604.1270</td>\n",
       "    </tr>\n",
       "    <tr>\n",
       "      <th>40</th>\n",
       "      <td>South</td>\n",
       "      <td>Second Class</td>\n",
       "      <td>2021</td>\n",
       "      <td>19074.6965</td>\n",
       "    </tr>\n",
       "    <tr>\n",
       "      <th>44</th>\n",
       "      <td>South</td>\n",
       "      <td>Standard Class</td>\n",
       "      <td>2021</td>\n",
       "      <td>72554.6720</td>\n",
       "    </tr>\n",
       "    <tr>\n",
       "      <th>48</th>\n",
       "      <td>West</td>\n",
       "      <td>First Class</td>\n",
       "      <td>2021</td>\n",
       "      <td>20957.9545</td>\n",
       "    </tr>\n",
       "    <tr>\n",
       "      <th>52</th>\n",
       "      <td>West</td>\n",
       "      <td>Same Day</td>\n",
       "      <td>2021</td>\n",
       "      <td>4215.6860</td>\n",
       "    </tr>\n",
       "    <tr>\n",
       "      <th>56</th>\n",
       "      <td>West</td>\n",
       "      <td>Second Class</td>\n",
       "      <td>2021</td>\n",
       "      <td>38204.2305</td>\n",
       "    </tr>\n",
       "    <tr>\n",
       "      <th>60</th>\n",
       "      <td>West</td>\n",
       "      <td>Standard Class</td>\n",
       "      <td>2021</td>\n",
       "      <td>87538.5020</td>\n",
       "    </tr>\n",
       "  </tbody>\n",
       "</table>\n",
       "</div>"
      ],
      "text/plain": [
       "     Region       Ship Mode  Year       Sales\n",
       "0   Central     First Class  2021  14258.1440\n",
       "4   Central        Same Day  2021    866.2680\n",
       "8   Central    Second Class  2021  20523.7960\n",
       "12  Central  Standard Class  2021  68189.9566\n",
       "16     East     First Class  2021  14993.3780\n",
       "20     East        Same Day  2021  10613.8830\n",
       "24     East    Second Class  2021  25596.9490\n",
       "28     East  Standard Class  2021  84235.6210\n",
       "32    South     First Class  2021   9612.3480\n",
       "36    South        Same Day  2021   2604.1270\n",
       "40    South    Second Class  2021  19074.6965\n",
       "44    South  Standard Class  2021  72554.6720\n",
       "48     West     First Class  2021  20957.9545\n",
       "52     West        Same Day  2021   4215.6860\n",
       "56     West    Second Class  2021  38204.2305\n",
       "60     West  Standard Class  2021  87538.5020"
      ]
     },
     "execution_count": 86,
     "metadata": {},
     "output_type": "execute_result"
    }
   ],
   "source": [
    "#Total sales for each region and ship mode combination for orders in year 2021\n",
    "\n",
    "sales_ship = df.groupby(['Region','Ship Mode','Year'])['Sales'].sum().reset_index()\n",
    "\n",
    "sales_ship[sales_ship['Year']== 2021]"
   ]
  },
  {
   "cell_type": "code",
   "execution_count": 87,
   "id": "50c2a34d",
   "metadata": {
    "execution": {
     "iopub.execute_input": "2025-01-07T17:17:41.538680Z",
     "iopub.status.busy": "2025-01-07T17:17:41.537925Z",
     "iopub.status.idle": "2025-01-07T17:17:41.556100Z",
     "shell.execute_reply": "2025-01-07T17:17:41.554967Z"
    },
    "papermill": {
     "duration": 0.057997,
     "end_time": "2025-01-07T17:17:41.558476",
     "exception": false,
     "start_time": "2025-01-07T17:17:41.500479",
     "status": "completed"
    },
    "tags": []
   },
   "outputs": [
    {
     "data": {
      "text/html": [
       "<div>\n",
       "<style scoped>\n",
       "    .dataframe tbody tr th:only-of-type {\n",
       "        vertical-align: middle;\n",
       "    }\n",
       "\n",
       "    .dataframe tbody tr th {\n",
       "        vertical-align: top;\n",
       "    }\n",
       "\n",
       "    .dataframe thead th {\n",
       "        text-align: right;\n",
       "    }\n",
       "</style>\n",
       "<table border=\"1\" class=\"dataframe\">\n",
       "  <thead>\n",
       "    <tr style=\"text-align: right;\">\n",
       "      <th></th>\n",
       "      <th>Order ID</th>\n",
       "      <th>Product ID</th>\n",
       "    </tr>\n",
       "  </thead>\n",
       "  <tbody>\n",
       "    <tr>\n",
       "      <th>0</th>\n",
       "      <td>CA-2021-100867</td>\n",
       "      <td>1</td>\n",
       "    </tr>\n",
       "    <tr>\n",
       "      <th>1</th>\n",
       "      <td>CA-2021-107153</td>\n",
       "      <td>1</td>\n",
       "    </tr>\n",
       "    <tr>\n",
       "      <th>3</th>\n",
       "      <td>CA-2021-115777</td>\n",
       "      <td>1</td>\n",
       "    </tr>\n",
       "    <tr>\n",
       "      <th>7</th>\n",
       "      <td>CA-2021-123664</td>\n",
       "      <td>1</td>\n",
       "    </tr>\n",
       "    <tr>\n",
       "      <th>9</th>\n",
       "      <td>CA-2021-126438</td>\n",
       "      <td>1</td>\n",
       "    </tr>\n",
       "    <tr>\n",
       "      <th>...</th>\n",
       "      <td>...</td>\n",
       "      <td>...</td>\n",
       "    </tr>\n",
       "    <tr>\n",
       "      <th>5101</th>\n",
       "      <td>US-2024-169607</td>\n",
       "      <td>1</td>\n",
       "    </tr>\n",
       "    <tr>\n",
       "      <th>5103</th>\n",
       "      <td>US-2024-169810</td>\n",
       "      <td>1</td>\n",
       "    </tr>\n",
       "    <tr>\n",
       "      <th>5104</th>\n",
       "      <td>US-2024-169817</td>\n",
       "      <td>1</td>\n",
       "    </tr>\n",
       "    <tr>\n",
       "      <th>5107</th>\n",
       "      <td>US-2024-169901</td>\n",
       "      <td>1</td>\n",
       "    </tr>\n",
       "    <tr>\n",
       "      <th>5108</th>\n",
       "      <td>US-2024-169929</td>\n",
       "      <td>1</td>\n",
       "    </tr>\n",
       "  </tbody>\n",
       "</table>\n",
       "<p>2593 rows × 2 columns</p>\n",
       "</div>"
      ],
      "text/plain": [
       "            Order ID  Product ID\n",
       "0     CA-2021-100867           1\n",
       "1     CA-2021-107153           1\n",
       "3     CA-2021-115777           1\n",
       "7     CA-2021-123664           1\n",
       "9     CA-2021-126438           1\n",
       "...              ...         ...\n",
       "5101  US-2024-169607           1\n",
       "5103  US-2024-169810           1\n",
       "5104  US-2024-169817           1\n",
       "5107  US-2024-169901           1\n",
       "5108  US-2024-169929           1\n",
       "\n",
       "[2593 rows x 2 columns]"
      ]
     },
     "execution_count": 87,
     "metadata": {},
     "output_type": "execute_result"
    }
   ],
   "source": [
    "#order ids where there is only 1 product bought by the customer.\n",
    "\n",
    "order_prod = df.groupby(\"Order ID\")['Product ID'].size().reset_index()\n",
    "\n",
    "order_prod[order_prod['Product ID']==1]"
   ]
  },
  {
   "cell_type": "code",
   "execution_count": 88,
   "id": "e3b24434",
   "metadata": {
    "execution": {
     "iopub.execute_input": "2025-01-07T17:17:41.634095Z",
     "iopub.status.busy": "2025-01-07T17:17:41.633664Z",
     "iopub.status.idle": "2025-01-07T17:17:41.652917Z",
     "shell.execute_reply": "2025-01-07T17:17:41.651832Z"
    },
    "papermill": {
     "duration": 0.059384,
     "end_time": "2025-01-07T17:17:41.655078",
     "exception": false,
     "start_time": "2025-01-07T17:17:41.595694",
     "status": "completed"
    },
    "tags": []
   },
   "outputs": [
    {
     "data": {
      "text/html": [
       "<div>\n",
       "<style scoped>\n",
       "    .dataframe tbody tr th:only-of-type {\n",
       "        vertical-align: middle;\n",
       "    }\n",
       "\n",
       "    .dataframe tbody tr th {\n",
       "        vertical-align: top;\n",
       "    }\n",
       "\n",
       "    .dataframe thead th {\n",
       "        text-align: right;\n",
       "    }\n",
       "</style>\n",
       "<table border=\"1\" class=\"dataframe\">\n",
       "  <thead>\n",
       "    <tr style=\"text-align: right;\">\n",
       "      <th></th>\n",
       "      <th>Category</th>\n",
       "      <th>Sales 2021</th>\n",
       "      <th>Sales 2022</th>\n",
       "    </tr>\n",
       "  </thead>\n",
       "  <tbody>\n",
       "    <tr>\n",
       "      <th>0</th>\n",
       "      <td>Furniture</td>\n",
       "      <td>162124.8091</td>\n",
       "      <td>172330.297</td>\n",
       "    </tr>\n",
       "    <tr>\n",
       "      <th>1</th>\n",
       "      <td>Office Supplies</td>\n",
       "      <td>154013.9700</td>\n",
       "      <td>137670.215</td>\n",
       "    </tr>\n",
       "    <tr>\n",
       "      <th>2</th>\n",
       "      <td>Technology</td>\n",
       "      <td>177901.4330</td>\n",
       "      <td>162992.519</td>\n",
       "    </tr>\n",
       "  </tbody>\n",
       "</table>\n",
       "</div>"
      ],
      "text/plain": [
       "          Category   Sales 2021  Sales 2022\n",
       "0        Furniture  162124.8091  172330.297\n",
       "1  Office Supplies  154013.9700  137670.215\n",
       "2       Technology  177901.4330  162992.519"
      ]
     },
     "execution_count": 88,
     "metadata": {},
     "output_type": "execute_result"
    }
   ],
   "source": [
    "#category, total_sales_2021, total_sales_2022\n",
    "\n",
    "catyear = df.groupby(['Category','Year'])['Sales'].sum().reset_index()\n",
    "cat_2021 = catyear[catyear['Year'] == 2021].rename(columns = {'Sales': 'Sales 2021'})\n",
    "cat_2022 = catyear[catyear['Year'] == 2022].rename(columns = {'Sales': 'Sales 2022'})\n",
    "\n",
    "cumm_20_21 = pd.merge(cat_2021,cat_2022, on = 'Category', how = 'inner')\n",
    "cumm_20_21[['Category','Sales 2021','Sales 2022']]\n"
   ]
  },
  {
   "cell_type": "code",
   "execution_count": 89,
   "id": "0ababa38",
   "metadata": {
    "execution": {
     "iopub.execute_input": "2025-01-07T17:17:41.731093Z",
     "iopub.status.busy": "2025-01-07T17:17:41.730239Z",
     "iopub.status.idle": "2025-01-07T17:17:41.737743Z",
     "shell.execute_reply": "2025-01-07T17:17:41.736743Z"
    },
    "papermill": {
     "duration": 0.048168,
     "end_time": "2025-01-07T17:17:41.739954",
     "exception": false,
     "start_time": "2025-01-07T17:17:41.691786",
     "status": "completed"
    },
    "tags": []
   },
   "outputs": [
    {
     "data": {
      "text/plain": [
       "804"
      ]
     },
     "execution_count": 89,
     "metadata": {},
     "output_type": "execute_result"
    }
   ],
   "source": [
    "df['Customer ID'].nunique()"
   ]
  },
  {
   "cell_type": "code",
   "execution_count": 90,
   "id": "f0b939f4",
   "metadata": {
    "execution": {
     "iopub.execute_input": "2025-01-07T17:17:41.817166Z",
     "iopub.status.busy": "2025-01-07T17:17:41.815950Z",
     "iopub.status.idle": "2025-01-07T17:17:41.830805Z",
     "shell.execute_reply": "2025-01-07T17:17:41.829694Z"
    },
    "papermill": {
     "duration": 0.055504,
     "end_time": "2025-01-07T17:17:41.833053",
     "exception": false,
     "start_time": "2025-01-07T17:17:41.777549",
     "status": "completed"
    },
    "tags": []
   },
   "outputs": [
    {
     "data": {
      "text/html": [
       "<div>\n",
       "<style scoped>\n",
       "    .dataframe tbody tr th:only-of-type {\n",
       "        vertical-align: middle;\n",
       "    }\n",
       "\n",
       "    .dataframe tbody tr th {\n",
       "        vertical-align: top;\n",
       "    }\n",
       "\n",
       "    .dataframe thead th {\n",
       "        text-align: right;\n",
       "    }\n",
       "</style>\n",
       "<table border=\"1\" class=\"dataframe\">\n",
       "  <thead>\n",
       "    <tr style=\"text-align: right;\">\n",
       "      <th></th>\n",
       "      <th>Customer ID</th>\n",
       "      <th>Order ID</th>\n",
       "    </tr>\n",
       "  </thead>\n",
       "  <tbody>\n",
       "    <tr>\n",
       "      <th>1</th>\n",
       "      <td>AA-10375</td>\n",
       "      <td>15</td>\n",
       "    </tr>\n",
       "    <tr>\n",
       "      <th>3</th>\n",
       "      <td>AA-10645</td>\n",
       "      <td>18</td>\n",
       "    </tr>\n",
       "    <tr>\n",
       "      <th>5</th>\n",
       "      <td>AB-10060</td>\n",
       "      <td>18</td>\n",
       "    </tr>\n",
       "    <tr>\n",
       "      <th>6</th>\n",
       "      <td>AB-10105</td>\n",
       "      <td>20</td>\n",
       "    </tr>\n",
       "    <tr>\n",
       "      <th>8</th>\n",
       "      <td>AB-10165</td>\n",
       "      <td>16</td>\n",
       "    </tr>\n",
       "    <tr>\n",
       "      <th>...</th>\n",
       "      <td>...</td>\n",
       "      <td>...</td>\n",
       "    </tr>\n",
       "    <tr>\n",
       "      <th>794</th>\n",
       "      <td>VP-21760</td>\n",
       "      <td>14</td>\n",
       "    </tr>\n",
       "    <tr>\n",
       "      <th>797</th>\n",
       "      <td>VW-21775</td>\n",
       "      <td>18</td>\n",
       "    </tr>\n",
       "    <tr>\n",
       "      <th>798</th>\n",
       "      <td>WB-21850</td>\n",
       "      <td>41</td>\n",
       "    </tr>\n",
       "    <tr>\n",
       "      <th>799</th>\n",
       "      <td>XP-21865</td>\n",
       "      <td>34</td>\n",
       "    </tr>\n",
       "    <tr>\n",
       "      <th>802</th>\n",
       "      <td>ZC-21910</td>\n",
       "      <td>31</td>\n",
       "    </tr>\n",
       "  </tbody>\n",
       "</table>\n",
       "<p>367 rows × 2 columns</p>\n",
       "</div>"
      ],
      "text/plain": [
       "    Customer ID  Order ID\n",
       "1      AA-10375        15\n",
       "3      AA-10645        18\n",
       "5      AB-10060        18\n",
       "6      AB-10105        20\n",
       "8      AB-10165        16\n",
       "..          ...       ...\n",
       "794    VP-21760        14\n",
       "797    VW-21775        18\n",
       "798    WB-21850        41\n",
       "799    XP-21865        34\n",
       "802    ZC-21910        31\n",
       "\n",
       "[367 rows x 2 columns]"
      ]
     },
     "execution_count": 90,
     "metadata": {},
     "output_type": "execute_result"
    }
   ],
   "source": [
    "#Premium customers: Those who have done more orders than average no of orders per customer.\n",
    "\n",
    "orders = df.groupby(\"Customer ID\")['Order ID'].size().reset_index()\n",
    "orders[orders['Order ID']>orders['Order ID'].mean()]"
   ]
  },
  {
   "cell_type": "code",
   "execution_count": 91,
   "id": "138c9c58",
   "metadata": {
    "execution": {
     "iopub.execute_input": "2025-01-07T17:17:41.909215Z",
     "iopub.status.busy": "2025-01-07T17:17:41.908825Z",
     "iopub.status.idle": "2025-01-07T17:17:41.916013Z",
     "shell.execute_reply": "2025-01-07T17:17:41.914952Z"
    },
    "papermill": {
     "duration": 0.048221,
     "end_time": "2025-01-07T17:17:41.918303",
     "exception": false,
     "start_time": "2025-01-07T17:17:41.870082",
     "status": "completed"
    },
    "tags": []
   },
   "outputs": [
    {
     "data": {
      "text/plain": [
       "12.67910447761194"
      ]
     },
     "execution_count": 91,
     "metadata": {},
     "output_type": "execute_result"
    }
   ],
   "source": [
    "orders['Order ID'].mean()"
   ]
  },
  {
   "cell_type": "code",
   "execution_count": 92,
   "id": "05eb5c85",
   "metadata": {
    "execution": {
     "iopub.execute_input": "2025-01-07T17:17:41.996238Z",
     "iopub.status.busy": "2025-01-07T17:17:41.995809Z",
     "iopub.status.idle": "2025-01-07T17:17:42.016760Z",
     "shell.execute_reply": "2025-01-07T17:17:42.015617Z"
    },
    "papermill": {
     "duration": 0.063409,
     "end_time": "2025-01-07T17:17:42.018980",
     "exception": false,
     "start_time": "2025-01-07T17:17:41.955571",
     "status": "completed"
    },
    "tags": []
   },
   "outputs": [
    {
     "data": {
      "text/html": [
       "<div>\n",
       "<style scoped>\n",
       "    .dataframe tbody tr th:only-of-type {\n",
       "        vertical-align: middle;\n",
       "    }\n",
       "\n",
       "    .dataframe tbody tr th {\n",
       "        vertical-align: top;\n",
       "    }\n",
       "\n",
       "    .dataframe thead th {\n",
       "        text-align: right;\n",
       "    }\n",
       "</style>\n",
       "<table border=\"1\" class=\"dataframe\">\n",
       "  <thead>\n",
       "    <tr style=\"text-align: right;\">\n",
       "      <th></th>\n",
       "      <th></th>\n",
       "      <th>Quantity</th>\n",
       "      <th>Sales</th>\n",
       "    </tr>\n",
       "    <tr>\n",
       "      <th>Category</th>\n",
       "      <th>Product Name</th>\n",
       "      <th></th>\n",
       "      <th></th>\n",
       "    </tr>\n",
       "  </thead>\n",
       "  <tbody>\n",
       "    <tr>\n",
       "      <th>Furniture</th>\n",
       "      <th>Nu-Dell Executive Frame</th>\n",
       "      <td>84</td>\n",
       "      <td>924.736</td>\n",
       "    </tr>\n",
       "    <tr>\n",
       "      <th>Office Supplies</th>\n",
       "      <th>Staples</th>\n",
       "      <td>234</td>\n",
       "      <td>6014.730</td>\n",
       "    </tr>\n",
       "    <tr>\n",
       "      <th>Technology</th>\n",
       "      <th>iKross Bluetooth Portable Keyboard + Cell Phone Stand Holder + Brush for Apple iPhone 5S 5C 5, 4S 4</th>\n",
       "      <td>64</td>\n",
       "      <td>1315.660</td>\n",
       "    </tr>\n",
       "  </tbody>\n",
       "</table>\n",
       "</div>"
      ],
      "text/plain": [
       "                                                                    Quantity  \\\n",
       "Category        Product Name                                                   \n",
       "Furniture       Nu-Dell Executive Frame                                   84   \n",
       "Office Supplies Staples                                                  234   \n",
       "Technology      iKross Bluetooth Portable Keyboard + Cell Phone...        64   \n",
       "\n",
       "                                                                       Sales  \n",
       "Category        Product Name                                                  \n",
       "Furniture       Nu-Dell Executive Frame                              924.736  \n",
       "Office Supplies Staples                                             6014.730  \n",
       "Technology      iKross Bluetooth Portable Keyboard + Cell Phone...  1315.660  "
      ]
     },
     "execution_count": 92,
     "metadata": {},
     "output_type": "execute_result"
    }
   ],
   "source": [
    "#product id and total sales of highest selling products (by no of units sold) in each category\n",
    "\n",
    "pdsales = df.groupby(['Category','Product Name'])[['Quantity','Sales']].sum()\n",
    "\n",
    "result = pdsales.loc[pdsales.groupby(\"Category\")['Quantity'].transform('max') == pdsales['Quantity']]\n",
    "\n",
    "result"
   ]
  },
  {
   "cell_type": "code",
   "execution_count": 93,
   "id": "09efb1d8",
   "metadata": {
    "execution": {
     "iopub.execute_input": "2025-01-07T17:17:42.096640Z",
     "iopub.status.busy": "2025-01-07T17:17:42.096274Z",
     "iopub.status.idle": "2025-01-07T17:17:42.115936Z",
     "shell.execute_reply": "2025-01-07T17:17:42.114935Z"
    },
    "papermill": {
     "duration": 0.061485,
     "end_time": "2025-01-07T17:17:42.118238",
     "exception": false,
     "start_time": "2025-01-07T17:17:42.056753",
     "status": "completed"
    },
    "tags": []
   },
   "outputs": [
    {
     "data": {
      "text/html": [
       "<div>\n",
       "<style scoped>\n",
       "    .dataframe tbody tr th:only-of-type {\n",
       "        vertical-align: middle;\n",
       "    }\n",
       "\n",
       "    .dataframe tbody tr th {\n",
       "        vertical-align: top;\n",
       "    }\n",
       "\n",
       "    .dataframe thead th {\n",
       "        text-align: right;\n",
       "    }\n",
       "</style>\n",
       "<table border=\"1\" class=\"dataframe\">\n",
       "  <thead>\n",
       "    <tr style=\"text-align: right;\">\n",
       "      <th></th>\n",
       "      <th>Category</th>\n",
       "      <th>Product Name</th>\n",
       "      <th>Sales</th>\n",
       "    </tr>\n",
       "  </thead>\n",
       "  <tbody>\n",
       "    <tr>\n",
       "      <th>205</th>\n",
       "      <td>Furniture</td>\n",
       "      <td>HON 5400 Series Task Chairs for Big and Tall</td>\n",
       "      <td>21870.576</td>\n",
       "    </tr>\n",
       "    <tr>\n",
       "      <th>774</th>\n",
       "      <td>Office Supplies</td>\n",
       "      <td>Fellowes PB500 Electric Punch Plastic Comb Bin...</td>\n",
       "      <td>27453.384</td>\n",
       "    </tr>\n",
       "    <tr>\n",
       "      <th>1493</th>\n",
       "      <td>Technology</td>\n",
       "      <td>Canon imageCLASS 2200 Advanced Copier</td>\n",
       "      <td>61599.824</td>\n",
       "    </tr>\n",
       "  </tbody>\n",
       "</table>\n",
       "</div>"
      ],
      "text/plain": [
       "             Category                                       Product Name  \\\n",
       "205         Furniture       HON 5400 Series Task Chairs for Big and Tall   \n",
       "774   Office Supplies  Fellowes PB500 Electric Punch Plastic Comb Bin...   \n",
       "1493       Technology              Canon imageCLASS 2200 Advanced Copier   \n",
       "\n",
       "          Sales  \n",
       "205   21870.576  \n",
       "774   27453.384  \n",
       "1493  61599.824  "
      ]
     },
     "execution_count": 93,
     "metadata": {},
     "output_type": "execute_result"
    }
   ],
   "source": [
    "#product id and total sales of highest selling products (by no of units sold) in each category\n",
    "\n",
    "topsales = df.groupby(['Category','Product Name'])['Sales'].sum().reset_index()\n",
    "\n",
    "topsales= topsales.sort_values(by = ['Category','Sales'],ascending = [True,False])\n",
    "\n",
    "topsales.groupby(\"Category\").head(1)"
   ]
  },
  {
   "cell_type": "code",
   "execution_count": 94,
   "id": "ac9e61c6",
   "metadata": {
    "execution": {
     "iopub.execute_input": "2025-01-07T17:17:42.197078Z",
     "iopub.status.busy": "2025-01-07T17:17:42.196664Z",
     "iopub.status.idle": "2025-01-07T17:17:42.228200Z",
     "shell.execute_reply": "2025-01-07T17:17:42.226981Z"
    },
    "papermill": {
     "duration": 0.074593,
     "end_time": "2025-01-07T17:17:42.230848",
     "exception": false,
     "start_time": "2025-01-07T17:17:42.156255",
     "status": "completed"
    },
    "tags": []
   },
   "outputs": [
    {
     "data": {
      "text/html": [
       "<div>\n",
       "<style scoped>\n",
       "    .dataframe tbody tr th:only-of-type {\n",
       "        vertical-align: middle;\n",
       "    }\n",
       "\n",
       "    .dataframe tbody tr th {\n",
       "        vertical-align: top;\n",
       "    }\n",
       "\n",
       "    .dataframe thead th {\n",
       "        text-align: right;\n",
       "    }\n",
       "</style>\n",
       "<table border=\"1\" class=\"dataframe\">\n",
       "  <thead>\n",
       "    <tr style=\"text-align: right;\">\n",
       "      <th></th>\n",
       "      <th>Region</th>\n",
       "      <th>Top selling product</th>\n",
       "      <th>Sales</th>\n",
       "      <th>Least selling product</th>\n",
       "      <th>Sales</th>\n",
       "    </tr>\n",
       "  </thead>\n",
       "  <tbody>\n",
       "    <tr>\n",
       "      <th>0</th>\n",
       "      <td>Central</td>\n",
       "      <td>Canon imageCLASS 2200 Advanced Copier</td>\n",
       "      <td>17499.950</td>\n",
       "      <td>Acco Economy Flexible Poly Round Ring Binder</td>\n",
       "      <td>1.044</td>\n",
       "    </tr>\n",
       "    <tr>\n",
       "      <th>9</th>\n",
       "      <td>East</td>\n",
       "      <td>Canon imageCLASS 2200 Advanced Copier</td>\n",
       "      <td>30099.914</td>\n",
       "      <td>Design Ebony Sketching Pencil</td>\n",
       "      <td>2.780</td>\n",
       "    </tr>\n",
       "    <tr>\n",
       "      <th>18</th>\n",
       "      <td>South</td>\n",
       "      <td>Cisco TelePresence System EX90 Videoconferenci...</td>\n",
       "      <td>22638.480</td>\n",
       "      <td>OIC Binder Clips, Mini, 1/4\" Capacity, Black</td>\n",
       "      <td>1.984</td>\n",
       "    </tr>\n",
       "    <tr>\n",
       "      <th>27</th>\n",
       "      <td>West</td>\n",
       "      <td>Canon imageCLASS 2200 Advanced Copier</td>\n",
       "      <td>13999.960</td>\n",
       "      <td>Acco Banker's Clasps, 5 3/4\"-Long</td>\n",
       "      <td>2.880</td>\n",
       "    </tr>\n",
       "  </tbody>\n",
       "</table>\n",
       "</div>"
      ],
      "text/plain": [
       "     Region                                Top selling product      Sales  \\\n",
       "0   Central              Canon imageCLASS 2200 Advanced Copier  17499.950   \n",
       "9      East              Canon imageCLASS 2200 Advanced Copier  30099.914   \n",
       "18    South  Cisco TelePresence System EX90 Videoconferenci...  22638.480   \n",
       "27     West              Canon imageCLASS 2200 Advanced Copier  13999.960   \n",
       "\n",
       "                           Least selling product  Sales  \n",
       "0   Acco Economy Flexible Poly Round Ring Binder  1.044  \n",
       "9                  Design Ebony Sketching Pencil  2.780  \n",
       "18  OIC Binder Clips, Mini, 1/4\" Capacity, Black  1.984  \n",
       "27             Acco Banker's Clasps, 5 3/4\"-Long  2.880  "
      ]
     },
     "execution_count": 94,
     "metadata": {},
     "output_type": "execute_result"
    }
   ],
   "source": [
    "#find top 3 and bottom 3 products by sales in each region\n",
    "\n",
    "regionwise = df.groupby(['Region','Product Name'])['Sales'].sum().reset_index()\n",
    "regionwisesort = regionwise.sort_values(by = ['Region','Sales'], ascending = [True,False])\n",
    "regtop3 = regionwisesort.groupby(\"Region\").head(3)\n",
    "regbot3 = regionwisesort.groupby(\"Region\").tail(3)\n",
    "\n",
    "mergedtopbot = pd.merge(regtop3, regbot3, on = \"Region\", how = \"inner\")\n",
    "mergedtopbot.groupby(\"Region\").head(1).rename(columns = {'Product Name_x':'Top selling product','Product Name_y':'Least selling product','Sales_x':'Sales','Sales_y':'Sales'} )"
   ]
  },
  {
   "cell_type": "code",
   "execution_count": 95,
   "id": "2f3a8e48",
   "metadata": {
    "execution": {
     "iopub.execute_input": "2025-01-07T17:17:42.310210Z",
     "iopub.status.busy": "2025-01-07T17:17:42.309588Z",
     "iopub.status.idle": "2025-01-07T17:17:42.338196Z",
     "shell.execute_reply": "2025-01-07T17:17:42.337014Z"
    },
    "papermill": {
     "duration": 0.071549,
     "end_time": "2025-01-07T17:17:42.340591",
     "exception": false,
     "start_time": "2025-01-07T17:17:42.269042",
     "status": "completed"
    },
    "tags": []
   },
   "outputs": [
    {
     "data": {
      "text/html": [
       "<div>\n",
       "<style scoped>\n",
       "    .dataframe tbody tr th:only-of-type {\n",
       "        vertical-align: middle;\n",
       "    }\n",
       "\n",
       "    .dataframe tbody tr th {\n",
       "        vertical-align: top;\n",
       "    }\n",
       "\n",
       "    .dataframe thead th {\n",
       "        text-align: right;\n",
       "    }\n",
       "</style>\n",
       "<table border=\"1\" class=\"dataframe\">\n",
       "  <thead>\n",
       "    <tr style=\"text-align: right;\">\n",
       "      <th></th>\n",
       "      <th>Sub-Category</th>\n",
       "      <th>Year</th>\n",
       "      <th>Jan_sales</th>\n",
       "      <th>Dec_sales</th>\n",
       "      <th>MOMchange</th>\n",
       "    </tr>\n",
       "  </thead>\n",
       "  <tbody>\n",
       "    <tr>\n",
       "      <th>13</th>\n",
       "      <td>Supplies</td>\n",
       "      <td>2022</td>\n",
       "      <td>88.96</td>\n",
       "      <td>38.008</td>\n",
       "      <td>134.055988</td>\n",
       "    </tr>\n",
       "  </tbody>\n",
       "</table>\n",
       "</div>"
      ],
      "text/plain": [
       "   Sub-Category  Year  Jan_sales  Dec_sales   MOMchange\n",
       "13     Supplies  2022      88.96     38.008  134.055988"
      ]
     },
     "execution_count": 95,
     "metadata": {},
     "output_type": "execute_result"
    }
   ],
   "source": [
    "#Among all the sub categories..which sub category had highest month over month growth by sales in Jan 2022.\n",
    "\n",
    "mom = df.groupby(['Sub-Category','Year','Month'])['Sales'].sum().reset_index()\n",
    "mom2022 = mom[(mom['Year'] == 2022) & (mom['Month'].isin([12, 1]))]\n",
    "momsort = mom2022.sort_values(by = ['Sub-Category','Month'], ascending = [True,False])\n",
    "\n",
    "jansales = momsort[momsort['Month']== 1][['Sub-Category','Year','Sales']].rename(columns = {'Sales': 'Jan_sales'})\n",
    "decsales = momsort[momsort['Month']== 12][['Sub-Category','Year','Sales']].rename(columns = {'Sales': 'Dec_sales'})\n",
    "\n",
    "jandecsales = pd.merge(jansales,decsales, on = ['Sub-Category','Year'], how = \"inner\")\n",
    "jandecsales['MOMchange'] = (jandecsales['Jan_sales']/jandecsales['Dec_sales'] - 1)*100\n",
    "jandecsales[jandecsales['MOMchange']==jandecsales['MOMchange'].max()]\n"
   ]
  },
  {
   "cell_type": "code",
   "execution_count": 96,
   "id": "9695b067",
   "metadata": {
    "execution": {
     "iopub.execute_input": "2025-01-07T17:17:42.418818Z",
     "iopub.status.busy": "2025-01-07T17:17:42.418449Z",
     "iopub.status.idle": "2025-01-07T17:17:42.458817Z",
     "shell.execute_reply": "2025-01-07T17:17:42.457566Z"
    },
    "papermill": {
     "duration": 0.082275,
     "end_time": "2025-01-07T17:17:42.461225",
     "exception": false,
     "start_time": "2025-01-07T17:17:42.378950",
     "status": "completed"
    },
    "tags": []
   },
   "outputs": [
    {
     "data": {
      "text/html": [
       "<div>\n",
       "<style scoped>\n",
       "    .dataframe tbody tr th:only-of-type {\n",
       "        vertical-align: middle;\n",
       "    }\n",
       "\n",
       "    .dataframe tbody tr th {\n",
       "        vertical-align: top;\n",
       "    }\n",
       "\n",
       "    .dataframe thead th {\n",
       "        text-align: right;\n",
       "    }\n",
       "</style>\n",
       "<table border=\"1\" class=\"dataframe\">\n",
       "  <thead>\n",
       "    <tr style=\"text-align: right;\">\n",
       "      <th></th>\n",
       "      <th>Category_x</th>\n",
       "      <th>Product Name</th>\n",
       "      <th>Sales_2023</th>\n",
       "      <th>Sales_2024</th>\n",
       "      <th>YOY</th>\n",
       "    </tr>\n",
       "  </thead>\n",
       "  <tbody>\n",
       "    <tr>\n",
       "      <th>244</th>\n",
       "      <td>Furniture</td>\n",
       "      <td>Balt Split Level Computer Training Table</td>\n",
       "      <td>2.210</td>\n",
       "      <td>235.875</td>\n",
       "      <td>10573.076923</td>\n",
       "    </tr>\n",
       "    <tr>\n",
       "      <th>189</th>\n",
       "      <td>Furniture</td>\n",
       "      <td>Deflect-o RollaMat Studded, Beveled Mat for Me...</td>\n",
       "      <td>73.784</td>\n",
       "      <td>1549.464</td>\n",
       "      <td>2000.000000</td>\n",
       "    </tr>\n",
       "    <tr>\n",
       "      <th>208</th>\n",
       "      <td>Furniture</td>\n",
       "      <td>Tenex B1-RE Series Chair Mats for Low Pile Car...</td>\n",
       "      <td>45.980</td>\n",
       "      <td>496.584</td>\n",
       "      <td>980.000000</td>\n",
       "    </tr>\n",
       "    <tr>\n",
       "      <th>568</th>\n",
       "      <td>Office Supplies</td>\n",
       "      <td>3.6 Cubic Foot Counter Height Office Refrigerator</td>\n",
       "      <td>58.924</td>\n",
       "      <td>2710.504</td>\n",
       "      <td>4500.000000</td>\n",
       "    </tr>\n",
       "    <tr>\n",
       "      <th>929</th>\n",
       "      <td>Office Supplies</td>\n",
       "      <td>Acco Banker's Clasps, 5 3/4\"-Long</td>\n",
       "      <td>2.304</td>\n",
       "      <td>85.120</td>\n",
       "      <td>3594.444444</td>\n",
       "    </tr>\n",
       "    <tr>\n",
       "      <th>928</th>\n",
       "      <td>Office Supplies</td>\n",
       "      <td>Acco 3-Hole Punch</td>\n",
       "      <td>2.628</td>\n",
       "      <td>79.716</td>\n",
       "      <td>2933.333333</td>\n",
       "    </tr>\n",
       "    <tr>\n",
       "      <th>1144</th>\n",
       "      <td>Technology</td>\n",
       "      <td>RCA Visys Integrated PBX 8-Line Router</td>\n",
       "      <td>6.480</td>\n",
       "      <td>180.216</td>\n",
       "      <td>2681.111111</td>\n",
       "    </tr>\n",
       "    <tr>\n",
       "      <th>1113</th>\n",
       "      <td>Technology</td>\n",
       "      <td>Logitech G13 Programmable Gameboard with LCD D...</td>\n",
       "      <td>63.992</td>\n",
       "      <td>975.878</td>\n",
       "      <td>1425.000000</td>\n",
       "    </tr>\n",
       "    <tr>\n",
       "      <th>1089</th>\n",
       "      <td>Technology</td>\n",
       "      <td>Nortel Networks T7316 E Nt8 B27</td>\n",
       "      <td>108.784</td>\n",
       "      <td>1631.760</td>\n",
       "      <td>1400.000000</td>\n",
       "    </tr>\n",
       "  </tbody>\n",
       "</table>\n",
       "</div>"
      ],
      "text/plain": [
       "           Category_x                                       Product Name  \\\n",
       "244         Furniture           Balt Split Level Computer Training Table   \n",
       "189         Furniture  Deflect-o RollaMat Studded, Beveled Mat for Me...   \n",
       "208         Furniture  Tenex B1-RE Series Chair Mats for Low Pile Car...   \n",
       "568   Office Supplies  3.6 Cubic Foot Counter Height Office Refrigerator   \n",
       "929   Office Supplies                  Acco Banker's Clasps, 5 3/4\"-Long   \n",
       "928   Office Supplies                                  Acco 3-Hole Punch   \n",
       "1144       Technology             RCA Visys Integrated PBX 8-Line Router   \n",
       "1113       Technology  Logitech G13 Programmable Gameboard with LCD D...   \n",
       "1089       Technology                    Nortel Networks T7316 E Nt8 B27   \n",
       "\n",
       "      Sales_2023  Sales_2024           YOY  \n",
       "244        2.210     235.875  10573.076923  \n",
       "189       73.784    1549.464   2000.000000  \n",
       "208       45.980     496.584    980.000000  \n",
       "568       58.924    2710.504   4500.000000  \n",
       "929        2.304      85.120   3594.444444  \n",
       "928        2.628      79.716   2933.333333  \n",
       "1144       6.480     180.216   2681.111111  \n",
       "1113      63.992     975.878   1425.000000  \n",
       "1089     108.784    1631.760   1400.000000  "
      ]
     },
     "execution_count": 96,
     "metadata": {},
     "output_type": "execute_result"
    }
   ],
   "source": [
    "#Top 3 products in each category by year over year sales growth in year 2024.\n",
    "\n",
    "top3YOY = df.groupby(['Category','Year','Product Name'])['Sales'].sum().reset_index()\n",
    "top3YOY = top3YOY.sort_values(by = ['Category','Year','Sales'], ascending = [True, True, False])\n",
    "top3YOY_2023 = top3YOY[top3YOY['Year']==2023]\n",
    "top3YOY_2024 = top3YOY[top3YOY['Year']==2024]\n",
    "\n",
    "top_2023_24 = pd.merge(top3YOY_2023,top3YOY_2024, on = \"Product Name\", how = \"inner\").rename(columns = {'Sales_x':'Sales_2023','Sales_y':'Sales_2024'})\n",
    "top_2023_24['YOY'] = ((top_2023_24['Sales_2024']/top_2023_24['Sales_2023'])-1)*100\n",
    "top_2023_24['Rank'] = top_2023_24.groupby(\"Category_x\")['YOY'].rank(method='dense', ascending=False)\n",
    "top_2023_24[['Category_x','Product Name','Sales_2023','Sales_2024','YOY']][top_2023_24['Rank'].isin([1,2,3])].sort_values(by = ['Category_x','YOY'], ascending = [True, False])\n"
   ]
  },
  {
   "cell_type": "code",
   "execution_count": 97,
   "id": "73566af7",
   "metadata": {
    "execution": {
     "iopub.execute_input": "2025-01-07T17:17:42.539467Z",
     "iopub.status.busy": "2025-01-07T17:17:42.539117Z",
     "iopub.status.idle": "2025-01-07T17:17:42.543676Z",
     "shell.execute_reply": "2025-01-07T17:17:42.542660Z"
    },
    "papermill": {
     "duration": 0.046041,
     "end_time": "2025-01-07T17:17:42.545791",
     "exception": false,
     "start_time": "2025-01-07T17:17:42.499750",
     "status": "completed"
    },
    "tags": []
   },
   "outputs": [],
   "source": [
    "#write a sql to find top 3 products in each category by highest rolling 3 months total sales for Jan 2020.\n",
    "#- write a query to find products for which month over month sales has never declined.\n",
    "#- write a query to find month wise sales for each category for months where sales is more than the combined sales of previous 2 months for that category.\n",
    "\n"
   ]
  },
  {
   "cell_type": "code",
   "execution_count": 98,
   "id": "b9664c61",
   "metadata": {
    "execution": {
     "iopub.execute_input": "2025-01-07T17:17:42.624077Z",
     "iopub.status.busy": "2025-01-07T17:17:42.623668Z",
     "iopub.status.idle": "2025-01-07T17:17:42.655352Z",
     "shell.execute_reply": "2025-01-07T17:17:42.654071Z"
    },
    "papermill": {
     "duration": 0.073766,
     "end_time": "2025-01-07T17:17:42.657592",
     "exception": false,
     "start_time": "2025-01-07T17:17:42.583826",
     "status": "completed"
    },
    "tags": []
   },
   "outputs": [
    {
     "data": {
      "text/html": [
       "<div>\n",
       "<style scoped>\n",
       "    .dataframe tbody tr th:only-of-type {\n",
       "        vertical-align: middle;\n",
       "    }\n",
       "\n",
       "    .dataframe tbody tr th {\n",
       "        vertical-align: top;\n",
       "    }\n",
       "\n",
       "    .dataframe thead th {\n",
       "        text-align: right;\n",
       "    }\n",
       "</style>\n",
       "<table border=\"1\" class=\"dataframe\">\n",
       "  <thead>\n",
       "    <tr style=\"text-align: right;\">\n",
       "      <th></th>\n",
       "      <th>Category</th>\n",
       "      <th>Product Name</th>\n",
       "      <th>3_month_sales</th>\n",
       "    </tr>\n",
       "  </thead>\n",
       "  <tbody>\n",
       "    <tr>\n",
       "      <th>19</th>\n",
       "      <td>Furniture</td>\n",
       "      <td>Lesro Sheffield Collection Coffee Table, End T...</td>\n",
       "      <td>221334.4398</td>\n",
       "    </tr>\n",
       "    <tr>\n",
       "      <th>12</th>\n",
       "      <td>Furniture</td>\n",
       "      <td>Eldon Expressions Wood and Plastic Desk Access...</td>\n",
       "      <td>221278.3698</td>\n",
       "    </tr>\n",
       "    <tr>\n",
       "      <th>25</th>\n",
       "      <td>Furniture</td>\n",
       "      <td>Office Star Flex Back Scooter Chair with Alumi...</td>\n",
       "      <td>220878.6978</td>\n",
       "    </tr>\n",
       "    <tr>\n",
       "      <th>63</th>\n",
       "      <td>Office Supplies</td>\n",
       "      <td>GBC Instant Report Kit</td>\n",
       "      <td>436855.4416</td>\n",
       "    </tr>\n",
       "    <tr>\n",
       "      <th>101</th>\n",
       "      <td>Office Supplies</td>\n",
       "      <td>Tenex Personal Project File with Scoop Front D...</td>\n",
       "      <td>433853.6096</td>\n",
       "    </tr>\n",
       "    <tr>\n",
       "      <th>96</th>\n",
       "      <td>Office Supplies</td>\n",
       "      <td>Staples</td>\n",
       "      <td>430213.9936</td>\n",
       "    </tr>\n",
       "    <tr>\n",
       "      <th>137</th>\n",
       "      <td>Technology</td>\n",
       "      <td>Jensen SMPS-640 - speaker phone</td>\n",
       "      <td>440546.3526</td>\n",
       "    </tr>\n",
       "    <tr>\n",
       "      <th>149</th>\n",
       "      <td>Technology</td>\n",
       "      <td>Plantronics Audio 478 Stereo USB Headset</td>\n",
       "      <td>220879.7788</td>\n",
       "    </tr>\n",
       "    <tr>\n",
       "      <th>127</th>\n",
       "      <td>Technology</td>\n",
       "      <td>AT&amp;T 841000 Phone</td>\n",
       "      <td>220720.0828</td>\n",
       "    </tr>\n",
       "  </tbody>\n",
       "</table>\n",
       "</div>"
      ],
      "text/plain": [
       "            Category                                       Product Name  \\\n",
       "19         Furniture  Lesro Sheffield Collection Coffee Table, End T...   \n",
       "12         Furniture  Eldon Expressions Wood and Plastic Desk Access...   \n",
       "25         Furniture  Office Star Flex Back Scooter Chair with Alumi...   \n",
       "63   Office Supplies                             GBC Instant Report Kit   \n",
       "101  Office Supplies  Tenex Personal Project File with Scoop Front D...   \n",
       "96   Office Supplies                                            Staples   \n",
       "137       Technology                    Jensen SMPS-640 - speaker phone   \n",
       "149       Technology           Plantronics Audio 478 Stereo USB Headset   \n",
       "127       Technology                                  AT&T 841000 Phone   \n",
       "\n",
       "     3_month_sales  \n",
       "19     221334.4398  \n",
       "12     221278.3698  \n",
       "25     220878.6978  \n",
       "63     436855.4416  \n",
       "101    433853.6096  \n",
       "96     430213.9936  \n",
       "137    440546.3526  \n",
       "149    220879.7788  \n",
       "127    220720.0828  "
      ]
     },
     "execution_count": 98,
     "metadata": {},
     "output_type": "execute_result"
    }
   ],
   "source": [
    "#Top 3 products in each category by highest rolling 3 months total sales for Jan 2024\n",
    "\n",
    "df = df.sort_values(by='Order Date', ascending = True)\n",
    "df['3_month_sales'] = df.rolling('90D', on='Order Date')['Sales'].sum().reset_index(0, drop=True)\n",
    "sales_jan24 = df[(df['Order Date'].dt.year == 2024) & (df['Order Date'].dt.month == 1)]\n",
    "topprod = sales_jan24.groupby(['Category','Product Name'])['3_month_sales'].sum().reset_index()\n",
    "topprod_sorted = topprod.sort_values(by = (['Category','3_month_sales']), ascending = [True, False])\n",
    "topprod_sorted.groupby(\"Category\").head(3)"
   ]
  },
  {
   "cell_type": "markdown",
   "id": "459da8fb",
   "metadata": {
    "papermill": {
     "duration": 0.03815,
     "end_time": "2025-01-07T17:17:42.734417",
     "exception": false,
     "start_time": "2025-01-07T17:17:42.696267",
     "status": "completed"
    },
    "tags": []
   },
   "source": [
    "# Understanding returns"
   ]
  },
  {
   "cell_type": "code",
   "execution_count": 99,
   "id": "59003d30",
   "metadata": {
    "execution": {
     "iopub.execute_input": "2025-01-07T17:17:42.813347Z",
     "iopub.status.busy": "2025-01-07T17:17:42.812573Z",
     "iopub.status.idle": "2025-01-07T17:17:42.834386Z",
     "shell.execute_reply": "2025-01-07T17:17:42.833405Z"
    },
    "papermill": {
     "duration": 0.063752,
     "end_time": "2025-01-07T17:17:42.836489",
     "exception": false,
     "start_time": "2025-01-07T17:17:42.772737",
     "status": "completed"
    },
    "tags": []
   },
   "outputs": [
    {
     "data": {
      "text/html": [
       "<div>\n",
       "<style scoped>\n",
       "    .dataframe tbody tr th:only-of-type {\n",
       "        vertical-align: middle;\n",
       "    }\n",
       "\n",
       "    .dataframe tbody tr th {\n",
       "        vertical-align: top;\n",
       "    }\n",
       "\n",
       "    .dataframe thead th {\n",
       "        text-align: right;\n",
       "    }\n",
       "</style>\n",
       "<table border=\"1\" class=\"dataframe\">\n",
       "  <thead>\n",
       "    <tr style=\"text-align: right;\">\n",
       "      <th></th>\n",
       "      <th>Returned</th>\n",
       "      <th>Order ID</th>\n",
       "    </tr>\n",
       "  </thead>\n",
       "  <tbody>\n",
       "    <tr>\n",
       "      <th>0</th>\n",
       "      <td>Yes</td>\n",
       "      <td>US-2021-100762</td>\n",
       "    </tr>\n",
       "    <tr>\n",
       "      <th>1</th>\n",
       "      <td>Yes</td>\n",
       "      <td>US-2021-100762</td>\n",
       "    </tr>\n",
       "    <tr>\n",
       "      <th>2</th>\n",
       "      <td>Yes</td>\n",
       "      <td>US-2021-100762</td>\n",
       "    </tr>\n",
       "    <tr>\n",
       "      <th>3</th>\n",
       "      <td>Yes</td>\n",
       "      <td>US-2021-100762</td>\n",
       "    </tr>\n",
       "    <tr>\n",
       "      <th>4</th>\n",
       "      <td>Yes</td>\n",
       "      <td>US-2021-100867</td>\n",
       "    </tr>\n",
       "    <tr>\n",
       "      <th>...</th>\n",
       "      <td>...</td>\n",
       "      <td>...</td>\n",
       "    </tr>\n",
       "    <tr>\n",
       "      <th>795</th>\n",
       "      <td>Yes</td>\n",
       "      <td>US-2024-147886</td>\n",
       "    </tr>\n",
       "    <tr>\n",
       "      <th>796</th>\n",
       "      <td>Yes</td>\n",
       "      <td>US-2024-147998</td>\n",
       "    </tr>\n",
       "    <tr>\n",
       "      <th>797</th>\n",
       "      <td>Yes</td>\n",
       "      <td>US-2024-151127</td>\n",
       "    </tr>\n",
       "    <tr>\n",
       "      <th>798</th>\n",
       "      <td>Yes</td>\n",
       "      <td>US-2024-155999</td>\n",
       "    </tr>\n",
       "    <tr>\n",
       "      <th>799</th>\n",
       "      <td>Yes</td>\n",
       "      <td>US-2024-155999</td>\n",
       "    </tr>\n",
       "  </tbody>\n",
       "</table>\n",
       "<p>800 rows × 2 columns</p>\n",
       "</div>"
      ],
      "text/plain": [
       "    Returned        Order ID\n",
       "0        Yes  US-2021-100762\n",
       "1        Yes  US-2021-100762\n",
       "2        Yes  US-2021-100762\n",
       "3        Yes  US-2021-100762\n",
       "4        Yes  US-2021-100867\n",
       "..       ...             ...\n",
       "795      Yes  US-2024-147886\n",
       "796      Yes  US-2024-147998\n",
       "797      Yes  US-2024-151127\n",
       "798      Yes  US-2024-155999\n",
       "799      Yes  US-2024-155999\n",
       "\n",
       "[800 rows x 2 columns]"
      ]
     },
     "execution_count": 99,
     "metadata": {},
     "output_type": "execute_result"
    }
   ],
   "source": [
    "returns = pd.read_csv('/kaggle/input/returns/Returns.csv')\n",
    "returns"
   ]
  },
  {
   "cell_type": "code",
   "execution_count": 100,
   "id": "9b6b6f24",
   "metadata": {
    "execution": {
     "iopub.execute_input": "2025-01-07T17:17:42.915270Z",
     "iopub.status.busy": "2025-01-07T17:17:42.914834Z",
     "iopub.status.idle": "2025-01-07T17:17:42.950006Z",
     "shell.execute_reply": "2025-01-07T17:17:42.948935Z"
    },
    "papermill": {
     "duration": 0.07716,
     "end_time": "2025-01-07T17:17:42.952507",
     "exception": false,
     "start_time": "2025-01-07T17:17:42.875347",
     "status": "completed"
    },
    "tags": []
   },
   "outputs": [],
   "source": [
    "# Merging df and returns table\n",
    "\n",
    "df_return = pd.merge(df,returns, on = \"Order ID\", how = \"outer\")\n",
    "\n",
    "# Replace NaN in the `returned` column with \"No\"\n",
    "df_return[\"Returned\"] = df_return[\"Returned\"].fillna(\"No\")"
   ]
  },
  {
   "cell_type": "code",
   "execution_count": 101,
   "id": "a5c0ea2e",
   "metadata": {
    "execution": {
     "iopub.execute_input": "2025-01-07T17:17:43.031968Z",
     "iopub.status.busy": "2025-01-07T17:17:43.031544Z",
     "iopub.status.idle": "2025-01-07T17:17:43.038575Z",
     "shell.execute_reply": "2025-01-07T17:17:43.037300Z"
    },
    "papermill": {
     "duration": 0.049023,
     "end_time": "2025-01-07T17:17:43.040974",
     "exception": false,
     "start_time": "2025-01-07T17:17:42.991951",
     "status": "completed"
    },
    "tags": []
   },
   "outputs": [
    {
     "data": {
      "text/plain": [
       "(12620, 28)"
      ]
     },
     "execution_count": 101,
     "metadata": {},
     "output_type": "execute_result"
    }
   ],
   "source": [
    "df_return.shape"
   ]
  },
  {
   "cell_type": "code",
   "execution_count": 102,
   "id": "82d1bcd0",
   "metadata": {
    "execution": {
     "iopub.execute_input": "2025-01-07T17:17:43.120395Z",
     "iopub.status.busy": "2025-01-07T17:17:43.120002Z",
     "iopub.status.idle": "2025-01-07T17:17:43.137128Z",
     "shell.execute_reply": "2025-01-07T17:17:43.135991Z"
    },
    "papermill": {
     "duration": 0.059285,
     "end_time": "2025-01-07T17:17:43.139491",
     "exception": false,
     "start_time": "2025-01-07T17:17:43.080206",
     "status": "completed"
    },
    "tags": []
   },
   "outputs": [
    {
     "data": {
      "text/html": [
       "<div>\n",
       "<style scoped>\n",
       "    .dataframe tbody tr th:only-of-type {\n",
       "        vertical-align: middle;\n",
       "    }\n",
       "\n",
       "    .dataframe tbody tr th {\n",
       "        vertical-align: top;\n",
       "    }\n",
       "\n",
       "    .dataframe thead th {\n",
       "        text-align: right;\n",
       "    }\n",
       "</style>\n",
       "<table border=\"1\" class=\"dataframe\">\n",
       "  <thead>\n",
       "    <tr style=\"text-align: right;\">\n",
       "      <th></th>\n",
       "      <th>Product Name</th>\n",
       "      <th>Returned</th>\n",
       "    </tr>\n",
       "  </thead>\n",
       "  <tbody>\n",
       "    <tr>\n",
       "      <th>1492</th>\n",
       "      <td>Staple envelope</td>\n",
       "      <td>62</td>\n",
       "    </tr>\n",
       "    <tr>\n",
       "      <th>1498</th>\n",
       "      <td>Staples</td>\n",
       "      <td>60</td>\n",
       "    </tr>\n",
       "    <tr>\n",
       "      <th>536</th>\n",
       "      <td>Easy-staple paper</td>\n",
       "      <td>47</td>\n",
       "    </tr>\n",
       "    <tr>\n",
       "      <th>941</th>\n",
       "      <td>KI Adjustable-Height Table</td>\n",
       "      <td>36</td>\n",
       "    </tr>\n",
       "    <tr>\n",
       "      <th>771</th>\n",
       "      <td>Global Wood Trimmed Manager's Task Chair, Khaki</td>\n",
       "      <td>29</td>\n",
       "    </tr>\n",
       "    <tr>\n",
       "      <th>1495</th>\n",
       "      <td>Staple remover</td>\n",
       "      <td>27</td>\n",
       "    </tr>\n",
       "    <tr>\n",
       "      <th>768</th>\n",
       "      <td>Global Troy Executive Leather Low-Back Tilter</td>\n",
       "      <td>26</td>\n",
       "    </tr>\n",
       "    <tr>\n",
       "      <th>759</th>\n",
       "      <td>Global Leather Task Chair, Black</td>\n",
       "      <td>26</td>\n",
       "    </tr>\n",
       "    <tr>\n",
       "      <th>1304</th>\n",
       "      <td>Pressboard Covers with Storage Hooks, 9 1/2\" x...</td>\n",
       "      <td>25</td>\n",
       "    </tr>\n",
       "    <tr>\n",
       "      <th>122</th>\n",
       "      <td>Advantus Push Pins</td>\n",
       "      <td>24</td>\n",
       "    </tr>\n",
       "    <tr>\n",
       "      <th>903</th>\n",
       "      <td>Ibico Standard Transparent Covers</td>\n",
       "      <td>24</td>\n",
       "    </tr>\n",
       "    <tr>\n",
       "      <th>1496</th>\n",
       "      <td>Staple-based wall hangings</td>\n",
       "      <td>24</td>\n",
       "    </tr>\n",
       "    <tr>\n",
       "      <th>698</th>\n",
       "      <td>GBC Premium Transparent Covers with Diagonal L...</td>\n",
       "      <td>23</td>\n",
       "    </tr>\n",
       "    <tr>\n",
       "      <th>871</th>\n",
       "      <td>Hot File 7-Pocket, Floor Stand</td>\n",
       "      <td>23</td>\n",
       "    </tr>\n",
       "    <tr>\n",
       "      <th>1400</th>\n",
       "      <td>SanDisk Cruzer 64 GB USB Flash Drive</td>\n",
       "      <td>22</td>\n",
       "    </tr>\n",
       "    <tr>\n",
       "      <th>1493</th>\n",
       "      <td>Staple holder</td>\n",
       "      <td>22</td>\n",
       "    </tr>\n",
       "    <tr>\n",
       "      <th>1331</th>\n",
       "      <td>Recycled Easel Ring Binders</td>\n",
       "      <td>22</td>\n",
       "    </tr>\n",
       "    <tr>\n",
       "      <th>1625</th>\n",
       "      <td>Wilson Jones Clip &amp; Carry Folder Binder Tool f...</td>\n",
       "      <td>22</td>\n",
       "    </tr>\n",
       "    <tr>\n",
       "      <th>1448</th>\n",
       "      <td>SimpliFile Personal File, Black Granite, 15w x...</td>\n",
       "      <td>21</td>\n",
       "    </tr>\n",
       "    <tr>\n",
       "      <th>1195</th>\n",
       "      <td>OIC Bulk Pack Metal Binder Clips</td>\n",
       "      <td>21</td>\n",
       "    </tr>\n",
       "    <tr>\n",
       "      <th>1601</th>\n",
       "      <td>Vinyl Sectional Post Binders</td>\n",
       "      <td>21</td>\n",
       "    </tr>\n",
       "    <tr>\n",
       "      <th>830</th>\n",
       "      <td>Hon 4070 Series Pagoda Armless Upholstered Sta...</td>\n",
       "      <td>21</td>\n",
       "    </tr>\n",
       "    <tr>\n",
       "      <th>105</th>\n",
       "      <td>Adams Phone Message Book, 200 Message Capacity...</td>\n",
       "      <td>21</td>\n",
       "    </tr>\n",
       "    <tr>\n",
       "      <th>1693</th>\n",
       "      <td>Xerox 191</td>\n",
       "      <td>21</td>\n",
       "    </tr>\n",
       "  </tbody>\n",
       "</table>\n",
       "</div>"
      ],
      "text/plain": [
       "                                           Product Name  Returned\n",
       "1492                                    Staple envelope        62\n",
       "1498                                            Staples        60\n",
       "536                                   Easy-staple paper        47\n",
       "941                          KI Adjustable-Height Table        36\n",
       "771     Global Wood Trimmed Manager's Task Chair, Khaki        29\n",
       "1495                                     Staple remover        27\n",
       "768       Global Troy Executive Leather Low-Back Tilter        26\n",
       "759                    Global Leather Task Chair, Black        26\n",
       "1304  Pressboard Covers with Storage Hooks, 9 1/2\" x...        25\n",
       "122                                  Advantus Push Pins        24\n",
       "903                   Ibico Standard Transparent Covers        24\n",
       "1496                         Staple-based wall hangings        24\n",
       "698   GBC Premium Transparent Covers with Diagonal L...        23\n",
       "871                      Hot File 7-Pocket, Floor Stand        23\n",
       "1400               SanDisk Cruzer 64 GB USB Flash Drive        22\n",
       "1493                                      Staple holder        22\n",
       "1331                        Recycled Easel Ring Binders        22\n",
       "1625  Wilson Jones Clip & Carry Folder Binder Tool f...        22\n",
       "1448  SimpliFile Personal File, Black Granite, 15w x...        21\n",
       "1195                   OIC Bulk Pack Metal Binder Clips        21\n",
       "1601                       Vinyl Sectional Post Binders        21\n",
       "830   Hon 4070 Series Pagoda Armless Upholstered Sta...        21\n",
       "105   Adams Phone Message Book, 200 Message Capacity...        21\n",
       "1693                                          Xerox 191        21"
      ]
     },
     "execution_count": 102,
     "metadata": {},
     "output_type": "execute_result"
    }
   ],
   "source": [
    "#Which products were returned more than 20 times\n",
    "\n",
    "prod_return = df_return.groupby(\"Product Name\")['Returned'].size().reset_index()\n",
    "\n",
    "prod_return_sort = prod_return.sort_values(by = \"Returned\", ascending = False)\n",
    "\n",
    "prod_return_sort[prod_return_sort['Returned']>20]"
   ]
  },
  {
   "cell_type": "code",
   "execution_count": 103,
   "id": "2f303271",
   "metadata": {
    "execution": {
     "iopub.execute_input": "2025-01-07T17:17:43.223334Z",
     "iopub.status.busy": "2025-01-07T17:17:43.222536Z",
     "iopub.status.idle": "2025-01-07T17:17:43.233112Z",
     "shell.execute_reply": "2025-01-07T17:17:43.231968Z"
    },
    "papermill": {
     "duration": 0.056284,
     "end_time": "2025-01-07T17:17:43.235341",
     "exception": false,
     "start_time": "2025-01-07T17:17:43.179057",
     "status": "completed"
    },
    "tags": []
   },
   "outputs": [
    {
     "data": {
      "text/html": [
       "<div>\n",
       "<style scoped>\n",
       "    .dataframe tbody tr th:only-of-type {\n",
       "        vertical-align: middle;\n",
       "    }\n",
       "\n",
       "    .dataframe tbody tr th {\n",
       "        vertical-align: top;\n",
       "    }\n",
       "\n",
       "    .dataframe thead th {\n",
       "        text-align: right;\n",
       "    }\n",
       "</style>\n",
       "<table border=\"1\" class=\"dataframe\">\n",
       "  <thead>\n",
       "    <tr style=\"text-align: right;\">\n",
       "      <th></th>\n",
       "      <th>Product Name</th>\n",
       "      <th>Returned</th>\n",
       "    </tr>\n",
       "  </thead>\n",
       "  <tbody>\n",
       "    <tr>\n",
       "      <th>0</th>\n",
       "      <td>\"While you Were Out\" Message Book, One Form pe...</td>\n",
       "      <td>8</td>\n",
       "    </tr>\n",
       "  </tbody>\n",
       "</table>\n",
       "</div>"
      ],
      "text/plain": [
       "                                        Product Name  Returned\n",
       "0  \"While you Were Out\" Message Book, One Form pe...         8"
      ]
     },
     "execution_count": 103,
     "metadata": {},
     "output_type": "execute_result"
    }
   ],
   "source": [
    "prod_return.head(1)"
   ]
  },
  {
   "cell_type": "code",
   "execution_count": 104,
   "id": "ed40cb18",
   "metadata": {
    "execution": {
     "iopub.execute_input": "2025-01-07T17:17:43.315041Z",
     "iopub.status.busy": "2025-01-07T17:17:43.314601Z",
     "iopub.status.idle": "2025-01-07T17:17:43.329414Z",
     "shell.execute_reply": "2025-01-07T17:17:43.328332Z"
    },
    "papermill": {
     "duration": 0.057521,
     "end_time": "2025-01-07T17:17:43.331769",
     "exception": false,
     "start_time": "2025-01-07T17:17:43.274248",
     "status": "completed"
    },
    "tags": []
   },
   "outputs": [
    {
     "data": {
      "text/html": [
       "<div>\n",
       "<style scoped>\n",
       "    .dataframe tbody tr th:only-of-type {\n",
       "        vertical-align: middle;\n",
       "    }\n",
       "\n",
       "    .dataframe tbody tr th {\n",
       "        vertical-align: top;\n",
       "    }\n",
       "\n",
       "    .dataframe thead th {\n",
       "        text-align: right;\n",
       "    }\n",
       "</style>\n",
       "<table border=\"1\" class=\"dataframe\">\n",
       "  <thead>\n",
       "    <tr style=\"text-align: right;\">\n",
       "      <th></th>\n",
       "      <th>Region</th>\n",
       "      <th>Returned</th>\n",
       "    </tr>\n",
       "  </thead>\n",
       "  <tbody>\n",
       "    <tr>\n",
       "      <th>0</th>\n",
       "      <td>Central</td>\n",
       "      <td>286</td>\n",
       "    </tr>\n",
       "    <tr>\n",
       "      <th>1</th>\n",
       "      <td>East</td>\n",
       "      <td>757</td>\n",
       "    </tr>\n",
       "    <tr>\n",
       "      <th>2</th>\n",
       "      <td>South</td>\n",
       "      <td>279</td>\n",
       "    </tr>\n",
       "    <tr>\n",
       "      <th>3</th>\n",
       "      <td>West</td>\n",
       "      <td>1904</td>\n",
       "    </tr>\n",
       "  </tbody>\n",
       "</table>\n",
       "</div>"
      ],
      "text/plain": [
       "    Region  Returned\n",
       "0  Central       286\n",
       "1     East       757\n",
       "2    South       279\n",
       "3     West      1904"
      ]
     },
     "execution_count": 104,
     "metadata": {},
     "output_type": "execute_result"
    }
   ],
   "source": [
    "#region wise count of return orders\n",
    "\n",
    "df_return[df_return[\"Returned\"] == \"Yes\"].groupby(\"Region\")['Returned'].size().reset_index()"
   ]
  },
  {
   "cell_type": "code",
   "execution_count": 105,
   "id": "b0308447",
   "metadata": {
    "execution": {
     "iopub.execute_input": "2025-01-07T17:17:43.411752Z",
     "iopub.status.busy": "2025-01-07T17:17:43.411025Z",
     "iopub.status.idle": "2025-01-07T17:17:43.425833Z",
     "shell.execute_reply": "2025-01-07T17:17:43.424694Z"
    },
    "papermill": {
     "duration": 0.056929,
     "end_time": "2025-01-07T17:17:43.428097",
     "exception": false,
     "start_time": "2025-01-07T17:17:43.371168",
     "status": "completed"
    },
    "tags": []
   },
   "outputs": [
    {
     "data": {
      "text/html": [
       "<div>\n",
       "<style scoped>\n",
       "    .dataframe tbody tr th:only-of-type {\n",
       "        vertical-align: middle;\n",
       "    }\n",
       "\n",
       "    .dataframe tbody tr th {\n",
       "        vertical-align: top;\n",
       "    }\n",
       "\n",
       "    .dataframe thead th {\n",
       "        text-align: right;\n",
       "    }\n",
       "</style>\n",
       "<table border=\"1\" class=\"dataframe\">\n",
       "  <thead>\n",
       "    <tr style=\"text-align: right;\">\n",
       "      <th></th>\n",
       "      <th>Segment</th>\n",
       "      <th>Returned</th>\n",
       "    </tr>\n",
       "  </thead>\n",
       "  <tbody>\n",
       "    <tr>\n",
       "      <th>0</th>\n",
       "      <td>Consumer</td>\n",
       "      <td>1850</td>\n",
       "    </tr>\n",
       "    <tr>\n",
       "      <th>1</th>\n",
       "      <td>Corporate</td>\n",
       "      <td>995</td>\n",
       "    </tr>\n",
       "    <tr>\n",
       "      <th>2</th>\n",
       "      <td>Home Office</td>\n",
       "      <td>381</td>\n",
       "    </tr>\n",
       "  </tbody>\n",
       "</table>\n",
       "</div>"
      ],
      "text/plain": [
       "       Segment  Returned\n",
       "0     Consumer      1850\n",
       "1    Corporate       995\n",
       "2  Home Office       381"
      ]
     },
     "execution_count": 105,
     "metadata": {},
     "output_type": "execute_result"
    }
   ],
   "source": [
    "#Segment wise count of return orders\n",
    "\n",
    "df_return[df_return[\"Returned\"] == \"Yes\"].groupby(\"Segment\")['Returned'].size().reset_index()"
   ]
  },
  {
   "cell_type": "code",
   "execution_count": 106,
   "id": "0a7bfaac",
   "metadata": {
    "execution": {
     "iopub.execute_input": "2025-01-07T17:17:43.509443Z",
     "iopub.status.busy": "2025-01-07T17:17:43.509047Z",
     "iopub.status.idle": "2025-01-07T17:17:43.526561Z",
     "shell.execute_reply": "2025-01-07T17:17:43.525484Z"
    },
    "papermill": {
     "duration": 0.060974,
     "end_time": "2025-01-07T17:17:43.528943",
     "exception": false,
     "start_time": "2025-01-07T17:17:43.467969",
     "status": "completed"
    },
    "tags": []
   },
   "outputs": [
    {
     "data": {
      "text/html": [
       "<div>\n",
       "<style scoped>\n",
       "    .dataframe tbody tr th:only-of-type {\n",
       "        vertical-align: middle;\n",
       "    }\n",
       "\n",
       "    .dataframe tbody tr th {\n",
       "        vertical-align: top;\n",
       "    }\n",
       "\n",
       "    .dataframe thead th {\n",
       "        text-align: right;\n",
       "    }\n",
       "</style>\n",
       "<table border=\"1\" class=\"dataframe\">\n",
       "  <thead>\n",
       "    <tr style=\"text-align: right;\">\n",
       "      <th></th>\n",
       "      <th>Sub-Category</th>\n",
       "      <th>Sales</th>\n",
       "    </tr>\n",
       "  </thead>\n",
       "  <tbody>\n",
       "    <tr>\n",
       "      <th>13</th>\n",
       "      <td>Phones</td>\n",
       "      <td>57261.328</td>\n",
       "    </tr>\n",
       "    <tr>\n",
       "      <th>6</th>\n",
       "      <td>Copiers</td>\n",
       "      <td>50319.688</td>\n",
       "    </tr>\n",
       "    <tr>\n",
       "      <th>1</th>\n",
       "      <td>Appliances</td>\n",
       "      <td>48000.094</td>\n",
       "    </tr>\n",
       "  </tbody>\n",
       "</table>\n",
       "</div>"
      ],
      "text/plain": [
       "   Sub-Category      Sales\n",
       "13       Phones  57261.328\n",
       "6       Copiers  50319.688\n",
       "1    Appliances  48000.094"
      ]
     },
     "execution_count": 106,
     "metadata": {},
     "output_type": "execute_result"
    }
   ],
   "source": [
    "#top 3 subcategories by sales of returned orders in west region\n",
    "\n",
    "subsalesrt =  df_return[(df_return['Region']== \"West\") & (df_return['Returned']== \"Yes\") ].groupby(\"Sub-Category\")['Sales'].sum().reset_index()\n",
    "subsalesrtsort = subsalesrt.sort_values(by = \"Sales\", ascending = False).head(3)\n",
    "subsalesrtsort"
   ]
  },
  {
   "cell_type": "code",
   "execution_count": 107,
   "id": "7d9766f8",
   "metadata": {
    "execution": {
     "iopub.execute_input": "2025-01-07T17:17:43.609421Z",
     "iopub.status.busy": "2025-01-07T17:17:43.609022Z",
     "iopub.status.idle": "2025-01-07T17:17:43.626026Z",
     "shell.execute_reply": "2025-01-07T17:17:43.624818Z"
    },
    "papermill": {
     "duration": 0.059904,
     "end_time": "2025-01-07T17:17:43.628310",
     "exception": false,
     "start_time": "2025-01-07T17:17:43.568406",
     "status": "completed"
    },
    "tags": []
   },
   "outputs": [
    {
     "data": {
      "text/html": [
       "<div>\n",
       "<style scoped>\n",
       "    .dataframe tbody tr th:only-of-type {\n",
       "        vertical-align: middle;\n",
       "    }\n",
       "\n",
       "    .dataframe tbody tr th {\n",
       "        vertical-align: top;\n",
       "    }\n",
       "\n",
       "    .dataframe thead th {\n",
       "        text-align: right;\n",
       "    }\n",
       "</style>\n",
       "<table border=\"1\" class=\"dataframe\">\n",
       "  <thead>\n",
       "    <tr style=\"text-align: right;\">\n",
       "      <th></th>\n",
       "      <th>Category</th>\n",
       "      <th>Sales</th>\n",
       "    </tr>\n",
       "  </thead>\n",
       "  <tbody>\n",
       "    <tr>\n",
       "      <th>0</th>\n",
       "      <td>Furniture</td>\n",
       "      <td>695528.5864</td>\n",
       "    </tr>\n",
       "    <tr>\n",
       "      <th>1</th>\n",
       "      <td>Office Supplies</td>\n",
       "      <td>683316.3850</td>\n",
       "    </tr>\n",
       "    <tr>\n",
       "      <th>2</th>\n",
       "      <td>Technology</td>\n",
       "      <td>767185.1050</td>\n",
       "    </tr>\n",
       "  </tbody>\n",
       "</table>\n",
       "</div>"
      ],
      "text/plain": [
       "          Category        Sales\n",
       "0        Furniture  695528.5864\n",
       "1  Office Supplies  683316.3850\n",
       "2       Technology  767185.1050"
      ]
     },
     "execution_count": 107,
     "metadata": {},
     "output_type": "execute_result"
    }
   ],
   "source": [
    "#Category wise sales of orders that were not returned\n",
    "\n",
    "df_return[df_return[\"Returned\"]== \"No\"].groupby(\"Category\")['Sales'].sum().reset_index()"
   ]
  },
  {
   "cell_type": "code",
   "execution_count": 108,
   "id": "3ea494f6",
   "metadata": {
    "execution": {
     "iopub.execute_input": "2025-01-07T17:17:43.709822Z",
     "iopub.status.busy": "2025-01-07T17:17:43.709404Z",
     "iopub.status.idle": "2025-01-07T17:17:43.729051Z",
     "shell.execute_reply": "2025-01-07T17:17:43.727933Z"
    },
    "papermill": {
     "duration": 0.062942,
     "end_time": "2025-01-07T17:17:43.731147",
     "exception": false,
     "start_time": "2025-01-07T17:17:43.668205",
     "status": "completed"
    },
    "tags": []
   },
   "outputs": [
    {
     "data": {
      "text/html": [
       "<div>\n",
       "<style scoped>\n",
       "    .dataframe tbody tr th:only-of-type {\n",
       "        vertical-align: middle;\n",
       "    }\n",
       "\n",
       "    .dataframe tbody tr th {\n",
       "        vertical-align: top;\n",
       "    }\n",
       "\n",
       "    .dataframe thead th {\n",
       "        text-align: right;\n",
       "    }\n",
       "</style>\n",
       "<table border=\"1\" class=\"dataframe\">\n",
       "  <thead>\n",
       "    <tr style=\"text-align: right;\">\n",
       "      <th></th>\n",
       "      <th>City</th>\n",
       "      <th>Return count</th>\n",
       "    </tr>\n",
       "  </thead>\n",
       "  <tbody>\n",
       "    <tr>\n",
       "      <th>0</th>\n",
       "      <td>Aberdeen</td>\n",
       "      <td>1</td>\n",
       "    </tr>\n",
       "    <tr>\n",
       "      <th>1</th>\n",
       "      <td>Abilene</td>\n",
       "      <td>1</td>\n",
       "    </tr>\n",
       "    <tr>\n",
       "      <th>12</th>\n",
       "      <td>Antioch</td>\n",
       "      <td>1</td>\n",
       "    </tr>\n",
       "    <tr>\n",
       "      <th>17</th>\n",
       "      <td>Arlington Heights</td>\n",
       "      <td>1</td>\n",
       "    </tr>\n",
       "    <tr>\n",
       "      <th>22</th>\n",
       "      <td>Atlantic City</td>\n",
       "      <td>1</td>\n",
       "    </tr>\n",
       "    <tr>\n",
       "      <th>...</th>\n",
       "      <td>...</td>\n",
       "      <td>...</td>\n",
       "    </tr>\n",
       "    <tr>\n",
       "      <th>509</th>\n",
       "      <td>Waterloo</td>\n",
       "      <td>1</td>\n",
       "    </tr>\n",
       "    <tr>\n",
       "      <th>511</th>\n",
       "      <td>Waukesha</td>\n",
       "      <td>1</td>\n",
       "    </tr>\n",
       "    <tr>\n",
       "      <th>515</th>\n",
       "      <td>West Jordan</td>\n",
       "      <td>1</td>\n",
       "    </tr>\n",
       "    <tr>\n",
       "      <th>521</th>\n",
       "      <td>Whittier</td>\n",
       "      <td>1</td>\n",
       "    </tr>\n",
       "    <tr>\n",
       "      <th>532</th>\n",
       "      <td>Yucaipa</td>\n",
       "      <td>1</td>\n",
       "    </tr>\n",
       "  </tbody>\n",
       "</table>\n",
       "<p>69 rows × 2 columns</p>\n",
       "</div>"
      ],
      "text/plain": [
       "                  City  Return count\n",
       "0             Aberdeen             1\n",
       "1              Abilene             1\n",
       "12             Antioch             1\n",
       "17   Arlington Heights             1\n",
       "22       Atlantic City             1\n",
       "..                 ...           ...\n",
       "509           Waterloo             1\n",
       "511           Waukesha             1\n",
       "515        West Jordan             1\n",
       "521           Whittier             1\n",
       "532            Yucaipa             1\n",
       "\n",
       "[69 rows x 2 columns]"
      ]
     },
     "execution_count": 108,
     "metadata": {},
     "output_type": "execute_result"
    }
   ],
   "source": [
    "#cities where only single order was returned\n",
    "\n",
    "city_return = df_return[df_return['Returned']== \"No\"].groupby(\"City\").size().reset_index()\n",
    "city_return= city_return.rename(columns = {0: \"Return count\"})\n",
    "\n",
    "city_return[city_return['Return count']== 1]\n"
   ]
  },
  {
   "cell_type": "code",
   "execution_count": 109,
   "id": "2036d405",
   "metadata": {
    "execution": {
     "iopub.execute_input": "2025-01-07T17:17:43.813447Z",
     "iopub.status.busy": "2025-01-07T17:17:43.813061Z",
     "iopub.status.idle": "2025-01-07T17:17:43.829962Z",
     "shell.execute_reply": "2025-01-07T17:17:43.828980Z"
    },
    "papermill": {
     "duration": 0.060305,
     "end_time": "2025-01-07T17:17:43.832304",
     "exception": false,
     "start_time": "2025-01-07T17:17:43.771999",
     "status": "completed"
    },
    "tags": []
   },
   "outputs": [
    {
     "data": {
      "text/html": [
       "<div>\n",
       "<style scoped>\n",
       "    .dataframe tbody tr th:only-of-type {\n",
       "        vertical-align: middle;\n",
       "    }\n",
       "\n",
       "    .dataframe tbody tr th {\n",
       "        vertical-align: top;\n",
       "    }\n",
       "\n",
       "    .dataframe thead th {\n",
       "        text-align: right;\n",
       "    }\n",
       "</style>\n",
       "<table border=\"1\" class=\"dataframe\">\n",
       "  <thead>\n",
       "    <tr style=\"text-align: right;\">\n",
       "      <th></th>\n",
       "      <th>Sub-Category</th>\n",
       "      <th>Return count</th>\n",
       "    </tr>\n",
       "  </thead>\n",
       "  <tbody>\n",
       "    <tr>\n",
       "      <th>6</th>\n",
       "      <td>Copiers</td>\n",
       "      <td>7</td>\n",
       "    </tr>\n",
       "  </tbody>\n",
       "</table>\n",
       "</div>"
      ],
      "text/plain": [
       "  Sub-Category  Return count\n",
       "6      Copiers             7"
      ]
     },
     "execution_count": 109,
     "metadata": {},
     "output_type": "execute_result"
    }
   ],
   "source": [
    "#subcategories who had less than 10 return orders in the month of November \n",
    "\n",
    "sub_return = df_return[(df_return['Month']== 11) & (df_return['Returned']== \"No\")].groupby(\"Sub-Category\").size().reset_index()\n",
    "sub_return = sub_return.rename(columns = {0: \"Return count\"})\n",
    "sub_return[sub_return['Return count']<10]\n"
   ]
  },
  {
   "cell_type": "markdown",
   "id": "25715e3b",
   "metadata": {
    "papermill": {
     "duration": 0.039267,
     "end_time": "2025-01-07T17:17:43.911550",
     "exception": false,
     "start_time": "2025-01-07T17:17:43.872283",
     "status": "completed"
    },
    "tags": []
   },
   "source": [
    "# Key plots"
   ]
  },
  {
   "cell_type": "markdown",
   "id": "064e6992",
   "metadata": {
    "papermill": {
     "duration": 0.040893,
     "end_time": "2025-01-07T17:17:43.997532",
     "exception": false,
     "start_time": "2025-01-07T17:17:43.956639",
     "status": "completed"
    },
    "tags": []
   },
   "source": []
  },
  {
   "cell_type": "code",
   "execution_count": 110,
   "id": "a1e227fb",
   "metadata": {
    "execution": {
     "iopub.execute_input": "2025-01-07T17:17:44.079092Z",
     "iopub.status.busy": "2025-01-07T17:17:44.077995Z",
     "iopub.status.idle": "2025-01-07T17:17:44.733146Z",
     "shell.execute_reply": "2025-01-07T17:17:44.732027Z"
    },
    "papermill": {
     "duration": 0.698694,
     "end_time": "2025-01-07T17:17:44.735980",
     "exception": false,
     "start_time": "2025-01-07T17:17:44.037286",
     "status": "completed"
    },
    "tags": []
   },
   "outputs": [
    {
     "data": {
      "image/png": "[encoded data removed]",
      "text/plain": [
       "<Figure size 1000x600 with 1 Axes>"
      ]
     },
     "metadata": {},
     "output_type": "display_data"
    }
   ],
   "source": [
    "import matplotlib.pyplot as plt\n",
    "\n",
    "df['Year-Month'] = df['Order Date'].dt.to_period('M')\n",
    "\n",
    "time_series = df.groupby('Year-Month')[['Sales', 'Profit']].sum().reset_index()\n",
    "time_series['Year-Month'] = time_series['Year-Month'].astype(str)\n",
    "\n",
    "plt.figure(figsize=(10, 6))\n",
    "plt.plot(time_series['Year-Month'], time_series['Sales'], label='Sales', marker='o')\n",
    "plt.plot(time_series['Year-Month'], time_series['Profit'], label='Profit', marker='o')\n",
    "\n",
    "plt.xticks(rotation=45)\n",
    "plt.title('Time Series of Sales and Profit')\n",
    "plt.xlabel('Year-Month')\n",
    "plt.ylabel('Amount')\n",
    "plt.legend()\n",
    "plt.grid(True)\n",
    "\n",
    "plt.tight_layout()\n",
    "plt.show()"
   ]
  },
  {
   "cell_type": "code",
   "execution_count": 111,
   "id": "180d42b8",
   "metadata": {
    "execution": {
     "iopub.execute_input": "2025-01-07T17:17:44.820103Z",
     "iopub.status.busy": "2025-01-07T17:17:44.819700Z",
     "iopub.status.idle": "2025-01-07T17:17:45.140607Z",
     "shell.execute_reply": "2025-01-07T17:17:45.139385Z"
    },
    "papermill": {
     "duration": 0.365597,
     "end_time": "2025-01-07T17:17:45.142965",
     "exception": false,
     "start_time": "2025-01-07T17:17:44.777368",
     "status": "completed"
    },
    "tags": []
   },
   "outputs": [
    {
     "data": {
      "image/png": "[encoded data removed]",
      "text/plain": [
       "<Figure size 1000x600 with 1 Axes>"
      ]
     },
     "metadata": {},
     "output_type": "display_data"
    }
   ],
   "source": [
    "# Data preparation: Group by Category and sum Sales and Profit\n",
    "category_sales_profit = df.groupby('Category')[['Sales', 'Profit']].sum().reset_index()\n",
    "\n",
    "# Extract data for plotting\n",
    "categories = category_sales_profit['Category']\n",
    "sales = category_sales_profit['Sales']\n",
    "profit = category_sales_profit['Profit']\n",
    "\n",
    "# Create positions for the bars\n",
    "x = np.arange(len(categories))  # Positions for categories\n",
    "bar_width = 0.4  # Width of each bar\n",
    "\n",
    "# Create figure\n",
    "fig, ax = plt.subplots(figsize=(10, 6))\n",
    "\n",
    "# Plot Sales and Profit bars side-by-side\n",
    "ax.bar(x - bar_width / 2, sales, bar_width, label='Sales', color='blue', alpha=0.7)\n",
    "ax.bar(x + bar_width / 2, profit, bar_width, label='Profit', color='orange', alpha=0.7)\n",
    "\n",
    "# Add labels, title, and legend\n",
    "ax.set_xlabel('Category')\n",
    "ax.set_ylabel('Amount')\n",
    "ax.set_title('Category-wise Sales and Profit')\n",
    "ax.set_xticks(x)\n",
    "ax.set_xticklabels(categories)\n",
    "ax.legend()\n",
    "\n",
    "# Show the plot\n",
    "plt.tight_layout()\n",
    "plt.show()"
   ]
  },
  {
   "cell_type": "code",
   "execution_count": 112,
   "id": "d5eee533",
   "metadata": {
    "execution": {
     "iopub.execute_input": "2025-01-07T17:17:45.230635Z",
     "iopub.status.busy": "2025-01-07T17:17:45.230267Z",
     "iopub.status.idle": "2025-01-07T17:17:45.551042Z",
     "shell.execute_reply": "2025-01-07T17:17:45.549936Z"
    },
    "papermill": {
     "duration": 0.367444,
     "end_time": "2025-01-07T17:17:45.553167",
     "exception": false,
     "start_time": "2025-01-07T17:17:45.185723",
     "status": "completed"
    },
    "tags": []
   },
   "outputs": [
    {
     "data": {
      "image/png": "[encoded data removed]",
      "text/plain": [
       "<Figure size 1000x600 with 1 Axes>"
      ]
     },
     "metadata": {},
     "output_type": "display_data"
    }
   ],
   "source": [
    "# Data preparation: Group by Category and sum Sales and Profit\n",
    "region_sales_profit = df.groupby('Region')[['Sales', 'Profit']].sum().reset_index()\n",
    "\n",
    "# Extract data for plotting\n",
    "regional = region_sales_profit['Region']\n",
    "sales = region_sales_profit['Sales']\n",
    "profit = region_sales_profit['Profit']\n",
    "\n",
    "# Create positions for the bars\n",
    "x = np.arange(len(regional))  # Positions for categories\n",
    "bar_width = 0.4  # Width of each bar\n",
    "\n",
    "# Create figure\n",
    "fig, ax = plt.subplots(figsize=(10, 6))\n",
    "\n",
    "# Plot Sales and Profit bars side-by-side\n",
    "ax.bar(x - bar_width / 2, sales, bar_width, label='Sales', color='blue', alpha=0.7)\n",
    "ax.bar(x + bar_width / 2, profit, bar_width, label='Profit', color='orange', alpha=0.7)\n",
    "\n",
    "# Add labels, title, and legend\n",
    "ax.set_xlabel('Region')\n",
    "ax.set_ylabel('Amount')\n",
    "ax.set_title('Region-wise Sales and Profit')\n",
    "ax.set_xticks(x)\n",
    "ax.set_xticklabels(regional)\n",
    "ax.legend()\n",
    "\n",
    "# Show the plot\n",
    "plt.tight_layout()\n",
    "plt.show()"
   ]
  },
  {
   "cell_type": "code",
   "execution_count": 113,
   "id": "426cd490",
   "metadata": {
    "execution": {
     "iopub.execute_input": "2025-01-07T17:17:45.642690Z",
     "iopub.status.busy": "2025-01-07T17:17:45.641809Z",
     "iopub.status.idle": "2025-01-07T17:17:45.948116Z",
     "shell.execute_reply": "2025-01-07T17:17:45.946954Z"
    },
    "papermill": {
     "duration": 0.353311,
     "end_time": "2025-01-07T17:17:45.950407",
     "exception": false,
     "start_time": "2025-01-07T17:17:45.597096",
     "status": "completed"
    },
    "tags": []
   },
   "outputs": [
    {
     "data": {
      "image/png": "[encoded data removed]",
      "text/plain": [
       "<Figure size 1000x600 with 1 Axes>"
      ]
     },
     "metadata": {},
     "output_type": "display_data"
    }
   ],
   "source": [
    "# Data preparation: Group by Category and sum Sales and Profit\n",
    "region_sales_profit = df.groupby('Segment')[['Sales', 'Profit']].sum().reset_index()\n",
    "\n",
    "# Extract data for plotting\n",
    "segments = region_sales_profit['Segment']\n",
    "sales = region_sales_profit['Sales']\n",
    "profit = region_sales_profit['Profit']\n",
    "\n",
    "# Create positions for the bars\n",
    "x = np.arange(len(segments))  # Positions for categories\n",
    "bar_width = 0.4  # Width of each bar\n",
    "\n",
    "# Create figure\n",
    "fig, ax = plt.subplots(figsize=(10, 6))\n",
    "\n",
    "# Plot Sales and Profit bars side-by-side\n",
    "ax.bar(x - bar_width / 2, sales, bar_width, label='Sales', color='blue', alpha=0.7)\n",
    "ax.bar(x + bar_width / 2, profit, bar_width, label='Profit', color='orange', alpha=0.7)\n",
    "\n",
    "# Add labels, title, and legend\n",
    "ax.set_xlabel('Region')\n",
    "ax.set_ylabel('Amount')\n",
    "ax.set_title('Segment-wise Sales and Profit')\n",
    "ax.set_xticks(x)\n",
    "ax.set_xticklabels(segments)\n",
    "ax.legend()\n",
    "\n",
    "# Show the plot\n",
    "plt.tight_layout()\n",
    "plt.show()"
   ]
  },
  {
   "cell_type": "code",
   "execution_count": 114,
   "id": "844609e3",
   "metadata": {
    "execution": {
     "iopub.execute_input": "2025-01-07T17:17:46.040096Z",
     "iopub.status.busy": "2025-01-07T17:17:46.039688Z",
     "iopub.status.idle": "2025-01-07T17:17:46.663860Z",
     "shell.execute_reply": "2025-01-07T17:17:46.662742Z"
    },
    "papermill": {
     "duration": 0.675125,
     "end_time": "2025-01-07T17:17:46.668149",
     "exception": false,
     "start_time": "2025-01-07T17:17:45.993024",
     "status": "completed"
    },
    "tags": []
   },
   "outputs": [
    {
     "data": {
      "image/png": "[encoded data removed]",
      "text/plain": [
       "<Figure size 1400x800 with 1 Axes>"
      ]
     },
     "metadata": {},
     "output_type": "display_data"
    }
   ],
   "source": [
    "# Prepare the data: Group by Year-Month and Category\n",
    "time_series_data = df.groupby(['Year-Month', 'Category'])[['Sales']].sum().reset_index()\n",
    "\n",
    "# Create figure\n",
    "fig, ax = plt.subplots(figsize=(14, 8))\n",
    "\n",
    "# Plot Sales lines for each category\n",
    "categories = time_series_data['Category'].unique()\n",
    "for category in categories:\n",
    "    category_data = time_series_data[time_series_data['Category'] == category]\n",
    "    ax.plot(category_data['Year-Month'].astype(str), category_data['Sales'], label=f'Sales - {category}', marker='o')\n",
    "\n",
    "# Customize the plot\n",
    "ax.set_xlabel('Year-Month')\n",
    "ax.set_ylabel('Sales')\n",
    "ax.tick_params(axis='x', rotation=45)\n",
    "ax.set_title('Time Series of Category-wise Sales')\n",
    "\n",
    "# Add a legend\n",
    "ax.legend(loc='upper left', bbox_to_anchor=(1, 1))\n",
    "\n",
    "# Show plot\n",
    "plt.tight_layout()\n",
    "plt.show()"
   ]
  },
  {
   "cell_type": "code",
   "execution_count": 115,
   "id": "a19bbadc",
   "metadata": {
    "execution": {
     "iopub.execute_input": "2025-01-07T17:17:46.762635Z",
     "iopub.status.busy": "2025-01-07T17:17:46.761947Z",
     "iopub.status.idle": "2025-01-07T17:17:47.157858Z",
     "shell.execute_reply": "2025-01-07T17:17:47.156683Z"
    },
    "papermill": {
     "duration": 0.445524,
     "end_time": "2025-01-07T17:17:47.160237",
     "exception": false,
     "start_time": "2025-01-07T17:17:46.714713",
     "status": "completed"
    },
    "tags": []
   },
   "outputs": [
    {
     "data": {
      "image/png": "[encoded data removed]",
      "text/plain": [
       "<Figure size 1000x600 with 1 Axes>"
      ]
     },
     "metadata": {},
     "output_type": "display_data"
    }
   ],
   "source": [
    "import matplotlib.pyplot as plt\n",
    "\n",
    "# Group by Sub-Category and calculate total Sales and Profit\n",
    "sub_category_profit = df.groupby('Sub-Category')[['Sales', 'Profit']].sum().reset_index()\n",
    "\n",
    "# Calculate Profit Margin\n",
    "sub_category_profit['Profit Margin (%)'] = (sub_category_profit['Profit'] / sub_category_profit['Sales']) * 100\n",
    "\n",
    "sub_category_profit = sub_category_profit.sort_values('Profit Margin (%)', ascending=False)\n",
    "\n",
    "# Create the plot\n",
    "plt.figure(figsize=(10, 6))\n",
    "plt.barh(sub_category_profit['Sub-Category'], sub_category_profit['Profit Margin (%)'], color='green')\n",
    "\n",
    "# Add labels and title\n",
    "plt.xlabel('Profit Margin (%)')\n",
    "plt.ylabel('Sub-Category')\n",
    "plt.title('Sub-Category Wise Profit Margin')\n",
    "\n",
    "# Show plot\n",
    "plt.tight_layout()\n",
    "plt.show()"
   ]
  },
  {
   "cell_type": "markdown",
   "id": "25a9c124",
   "metadata": {
    "papermill": {
     "duration": 0.049106,
     "end_time": "2025-01-07T17:17:47.256743",
     "exception": false,
     "start_time": "2025-01-07T17:17:47.207637",
     "status": "completed"
    },
    "tags": []
   },
   "source": [
    "# Customer segmentation"
   ]
  },
  {
   "cell_type": "code",
   "execution_count": 116,
   "id": "62f3a89c",
   "metadata": {
    "execution": {
     "iopub.execute_input": "2025-01-07T17:17:47.353836Z",
     "iopub.status.busy": "2025-01-07T17:17:47.353423Z",
     "iopub.status.idle": "2025-01-07T17:17:48.872299Z",
     "shell.execute_reply": "2025-01-07T17:17:48.870948Z"
    },
    "papermill": {
     "duration": 1.57104,
     "end_time": "2025-01-07T17:17:48.875826",
     "exception": false,
     "start_time": "2025-01-07T17:17:47.304786",
     "status": "completed"
    },
    "tags": []
   },
   "outputs": [
    {
     "name": "stdout",
     "output_type": "stream",
     "text": [
      "       Row ID        Order ID Order Date  Ship Date       Ship Mode  \\\n",
      "0           1  US-2021-103800 2021-01-03 2021-01-07  Standard Class   \n",
      "1           2  US-2021-112326 2021-01-04 2021-01-08  Standard Class   \n",
      "2           3  US-2021-112326 2021-01-04 2021-01-08  Standard Class   \n",
      "3           4  US-2021-112326 2021-01-04 2021-01-08  Standard Class   \n",
      "4           5  US-2021-141817 2021-01-05 2021-01-12  Standard Class   \n",
      "...       ...             ...        ...        ...             ...   \n",
      "10189   10189  US-2024-115427 2024-12-30 2025-01-03  Standard Class   \n",
      "10190   10190  US-2024-143259 2024-12-30 2025-01-03  Standard Class   \n",
      "10191   10191  US-2024-115427 2024-12-30 2025-01-03  Standard Class   \n",
      "10192   10192  US-2024-156720 2024-12-30 2025-01-03  Standard Class   \n",
      "10193   10194  CA-2024-143500 2024-12-30 2025-01-03  Standard Class   \n",
      "\n",
      "      Customer ID      Customer Name Country/Region           City  \\\n",
      "0        DP-13000      Darren Powers  United States        Houston   \n",
      "1        PO-19195      Phillina Ober  United States     Naperville   \n",
      "2        PO-19195      Phillina Ober  United States     Naperville   \n",
      "3        PO-19195      Phillina Ober  United States     Naperville   \n",
      "4        MB-18085         Mick Brown  United States   Philadelphia   \n",
      "...           ...                ...            ...            ...   \n",
      "10189    EB-13975         Erica Bern  United States      Fairfield   \n",
      "10190    PO-18865  Patrick O'Donnell  United States  New York City   \n",
      "10191    EB-13975         Erica Bern  United States      Fairfield   \n",
      "10192    JM-15580      Jill Matthias  United States       Loveland   \n",
      "10193    HO-15230        Harry Olson         Canada  Charlottetown   \n",
      "\n",
      "             State/Province  ...      Cost Profit_m  Year Month 3_month_sales  \\\n",
      "0                     Texas  ...   10.8968    33.75  2021     1        16.448   \n",
      "1                  Illinois  ...    9.0270  -155.00  2021     1        19.988   \n",
      "2                  Illinois  ...    7.5123    36.25  2021     1        31.772   \n",
      "3                  Illinois  ...  337.5108   -23.75  2021     1       304.508   \n",
      "4              Pennsylvania  ...   14.6520    25.00  2021     1       324.044   \n",
      "...                     ...  ...       ...      ...   ...   ...           ...   \n",
      "10189            California  ...    9.3852    32.50  2024    12    284032.407   \n",
      "10190              New York  ...   32.9850    37.50  2024    12    284046.311   \n",
      "10191            California  ...   14.2450    31.25  2024    12    284099.087   \n",
      "10192              Colorado  ...    3.6288   -20.00  2024    12    284119.807   \n",
      "10193  Prince Edward Island  ...    3.6288   -20.00  2024    12    284125.855   \n",
      "\n",
      "       Year-Month  Segment_Corporate  Segment_Home Office  \\\n",
      "0         2021-01                0.0                  0.0   \n",
      "1         2021-01                0.0                  1.0   \n",
      "2         2021-01                0.0                  1.0   \n",
      "3         2021-01                0.0                  1.0   \n",
      "4         2021-01                0.0                  0.0   \n",
      "...           ...                ...                  ...   \n",
      "10189     2024-12                1.0                  0.0   \n",
      "10190     2024-12                0.0                  0.0   \n",
      "10191     2024-12                1.0                  0.0   \n",
      "10192     2024-12                0.0                  0.0   \n",
      "10193     2024-12                0.0                  0.0   \n",
      "\n",
      "       Category_Office Supplies  Category_Technology  \n",
      "0                           1.0                  0.0  \n",
      "1                           1.0                  0.0  \n",
      "2                           1.0                  0.0  \n",
      "3                           1.0                  0.0  \n",
      "4                           1.0                  0.0  \n",
      "...                         ...                  ...  \n",
      "10189                       1.0                  0.0  \n",
      "10190                       1.0                  0.0  \n",
      "10191                       1.0                  0.0  \n",
      "10192                       1.0                  0.0  \n",
      "10193                       1.0                  0.0  \n",
      "\n",
      "[10194 rows x 30 columns]\n"
     ]
    },
    {
     "name": "stderr",
     "output_type": "stream",
     "text": [
      "/opt/conda/lib/python3.10/site-packages/sklearn/preprocessing/_encoders.py:868: FutureWarning: `sparse` was renamed to `sparse_output` in version 1.2 and will be removed in 1.4. `sparse_output` is ignored unless you leave `sparse` to its default value.\n",
      "  warnings.warn(\n"
     ]
    }
   ],
   "source": [
    "#Hot encoding the categorical features\n",
    "\n",
    "from sklearn.preprocessing import OneHotEncoder\n",
    "\n",
    "categorical_features = ['Segment', 'Category']\n",
    "\n",
    "# Initialize OneHotEncoder\n",
    "encoder = OneHotEncoder(sparse=False, drop='first')\n",
    "\n",
    "# Apply the encoder\n",
    "encoded_array = encoder.fit_transform(df[categorical_features])\n",
    "\n",
    "# Creating a DataFrame from the encoded array\n",
    "encoded_df = pd.DataFrame(encoded_array, columns=encoder.get_feature_names_out(categorical_features))\n",
    "\n",
    "# Combining the encoded features with the original DataFrame\n",
    "df_encoded = pd.concat([df.reset_index(drop=True), encoded_df.reset_index(drop=True)], axis=1)\n",
    "\n",
    "# Drop original categorical columns\n",
    "df_encoded = df_encoded.drop(columns=categorical_features)\n",
    "\n",
    "# Resulting DataFrame\n",
    "print(df_encoded)\n"
   ]
  },
  {
   "cell_type": "code",
   "execution_count": 117,
   "id": "5eb2a278",
   "metadata": {
    "execution": {
     "iopub.execute_input": "2025-01-07T17:17:48.978596Z",
     "iopub.status.busy": "2025-01-07T17:17:48.978076Z",
     "iopub.status.idle": "2025-01-07T17:17:48.997448Z",
     "shell.execute_reply": "2025-01-07T17:17:48.996270Z"
    },
    "papermill": {
     "duration": 0.074742,
     "end_time": "2025-01-07T17:17:49.000281",
     "exception": false,
     "start_time": "2025-01-07T17:17:48.925539",
     "status": "completed"
    },
    "tags": []
   },
   "outputs": [],
   "source": [
    "df_encodedUS = df_encoded[df_encoded['Country/Region'] == \"United States\" ]\n",
    "\n",
    "df_encodedUS_East = df_encodedUS[df_encodedUS['Region'] == \"East\"]\n",
    "df_encodedUS_West = df_encodedUS[df_encodedUS['Region'] == \"West\"]\n",
    "df_encodedUS_Central = df_encodedUS[df_encodedUS['Region'] == \"Central\"]\n",
    "df_encodedUS_South = df_encodedUS[df_encodedUS['Region'] == \"South\"]"
   ]
  },
  {
   "cell_type": "markdown",
   "id": "ce0c7019",
   "metadata": {
    "papermill": {
     "duration": 0.047741,
     "end_time": "2025-01-07T17:17:49.098076",
     "exception": false,
     "start_time": "2025-01-07T17:17:49.050335",
     "status": "completed"
    },
    "tags": []
   },
   "source": [
    "**East region**"
   ]
  },
  {
   "cell_type": "code",
   "execution_count": 118,
   "id": "f33b6be7",
   "metadata": {
    "execution": {
     "iopub.execute_input": "2025-01-07T17:17:49.193759Z",
     "iopub.status.busy": "2025-01-07T17:17:49.193328Z",
     "iopub.status.idle": "2025-01-07T17:17:50.074175Z",
     "shell.execute_reply": "2025-01-07T17:17:50.072976Z"
    },
    "papermill": {
     "duration": 0.931299,
     "end_time": "2025-01-07T17:17:50.076490",
     "exception": false,
     "start_time": "2025-01-07T17:17:49.145191",
     "status": "completed"
    },
    "tags": []
   },
   "outputs": [
    {
     "name": "stdout",
     "output_type": "stream",
     "text": [
      "Cluster Summary:\n",
      "                Sales  Quantity       Profit\n",
      "Cluster                                    \n",
      "0         124.174040  2.522048     7.816975\n",
      "1         385.559907  6.487150    45.699897\n",
      "2        5460.346316  4.684211  1946.356700\n"
     ]
    },
    {
     "data": {
      "image/png": "[encoded data removed]",
      "text/plain": [
       "<Figure size 1000x600 with 1 Axes>"
      ]
     },
     "metadata": {},
     "output_type": "display_data"
    }
   ],
   "source": [
    "# Filter the data\n",
    "features = df_encodedUS_East[['Sales', 'Quantity', 'Profit']]\n",
    "\n",
    "# Scale the data\n",
    "from sklearn.preprocessing import StandardScaler\n",
    "scaler = StandardScaler()\n",
    "scaled_features = scaler.fit_transform(features)\n",
    "\n",
    "# Apply KMeans clustering\n",
    "from sklearn.cluster import KMeans\n",
    "\n",
    "n_clusters = 3\n",
    "kmeans = KMeans(n_clusters=n_clusters, n_init=10, random_state=42)  \n",
    "df_encodedUS_East = df_encodedUS_East.copy()  \n",
    "df_encodedUS_East.loc[:, 'Cluster'] = kmeans.fit_predict(scaled_features)\n",
    "\n",
    "# Analyze clusters\n",
    "cluster_summary = df_encodedUS_East.groupby('Cluster')[['Sales', 'Quantity', 'Profit']].mean()\n",
    "print(\"Cluster Summary:\\n\", cluster_summary)\n",
    "\n",
    "# Visualize clusters\n",
    "import matplotlib.pyplot as plt\n",
    "\n",
    "plt.figure(figsize=(10, 6))\n",
    "for cluster in range(n_clusters):\n",
    "    plt.scatter(\n",
    "        df_encodedUS_East[df_encodedUS_East['Cluster'] == cluster]['Sales'],  # x-axis: Sales\n",
    "        df_encodedUS_East[df_encodedUS_East['Cluster'] == cluster]['Profit'],  # y-axis: Profit\n",
    "        label=f'Cluster {cluster}'\n",
    "    )\n",
    "\n",
    "plt.title('Clustering based on Sales and Profit for East Region')\n",
    "plt.xlabel('Sales')\n",
    "plt.ylabel('Profit')\n",
    "plt.legend()\n",
    "plt.show()"
   ]
  },
  {
   "cell_type": "markdown",
   "id": "616aee29",
   "metadata": {
    "papermill": {
     "duration": 0.048152,
     "end_time": "2025-01-07T17:17:50.173766",
     "exception": false,
     "start_time": "2025-01-07T17:17:50.125614",
     "status": "completed"
    },
    "tags": []
   },
   "source": [
    "**West Region**"
   ]
  },
  {
   "cell_type": "code",
   "execution_count": 119,
   "id": "2afebbda",
   "metadata": {
    "execution": {
     "iopub.execute_input": "2025-01-07T17:17:50.273521Z",
     "iopub.status.busy": "2025-01-07T17:17:50.273140Z",
     "iopub.status.idle": "2025-01-07T17:17:51.437312Z",
     "shell.execute_reply": "2025-01-07T17:17:51.436201Z"
    },
    "papermill": {
     "duration": 1.217023,
     "end_time": "2025-01-07T17:17:51.439640",
     "exception": false,
     "start_time": "2025-01-07T17:17:50.222617",
     "status": "completed"
    },
    "tags": []
   },
   "outputs": [
    {
     "name": "stdout",
     "output_type": "stream",
     "text": [
      "Cluster Summary:\n",
      "                 Sales  Quantity       Profit\n",
      "Cluster                                     \n",
      "0          554.862966  6.960526    92.464801\n",
      "1          118.657662  2.855037    12.868640\n",
      "2        13999.960000  4.000000  6719.980800\n"
     ]
    },
    {
     "data": {
      "image/png": "[encoded data removed]",
      "text/plain": [
       "<Figure size 1000x600 with 1 Axes>"
      ]
     },
     "metadata": {},
     "output_type": "display_data"
    }
   ],
   "source": [
    "# Filter the data\n",
    "features = df_encodedUS_West[['Sales', 'Quantity', 'Profit']]\n",
    "\n",
    "# Scale the data\n",
    "from sklearn.preprocessing import StandardScaler\n",
    "scaler = StandardScaler()\n",
    "scaled_features = scaler.fit_transform(features)\n",
    "\n",
    "# Apply KMeans clustering\n",
    "from sklearn.cluster import KMeans\n",
    "\n",
    "n_clusters = 3\n",
    "kmeans = KMeans(n_clusters=n_clusters, n_init=10, random_state=42)  \n",
    "df_encodedUS_West = df_encodedUS_West.copy()  \n",
    "df_encodedUS_West.loc[:, 'Cluster'] = kmeans.fit_predict(scaled_features)\n",
    "\n",
    "# Analyze clusters\n",
    "cluster_summary = df_encodedUS_West.groupby('Cluster')[['Sales', 'Quantity', 'Profit']].mean()\n",
    "print(\"Cluster Summary:\\n\", cluster_summary)\n",
    "\n",
    "# Visualize clusters\n",
    "import matplotlib.pyplot as plt\n",
    "\n",
    "plt.figure(figsize=(10, 6))\n",
    "for cluster in range(n_clusters):\n",
    "    plt.scatter(\n",
    "        df_encodedUS_West[df_encodedUS_West['Cluster'] == cluster]['Sales'],  # x-axis: Sales\n",
    "        df_encodedUS_West[df_encodedUS_West['Cluster'] == cluster]['Profit'],  # y-axis: Profit\n",
    "        label=f'Cluster {cluster}'\n",
    "    )\n",
    "\n",
    "plt.title('Clustering based on Sales and Profit for West Region')\n",
    "plt.xlabel('Sales')\n",
    "plt.ylabel('Profit')\n",
    "plt.legend()\n",
    "plt.show()"
   ]
  },
  {
   "cell_type": "markdown",
   "id": "8e0d56e4",
   "metadata": {
    "papermill": {
     "duration": 0.048407,
     "end_time": "2025-01-07T17:17:51.537056",
     "exception": false,
     "start_time": "2025-01-07T17:17:51.488649",
     "status": "completed"
    },
    "tags": []
   },
   "source": [
    "**Central Region**"
   ]
  },
  {
   "cell_type": "code",
   "execution_count": 120,
   "id": "86dd3eb5",
   "metadata": {
    "execution": {
     "iopub.execute_input": "2025-01-07T17:17:51.636417Z",
     "iopub.status.busy": "2025-01-07T17:17:51.636013Z",
     "iopub.status.idle": "2025-01-07T17:17:51.987498Z",
     "shell.execute_reply": "2025-01-07T17:17:51.986454Z"
    },
    "papermill": {
     "duration": 0.403798,
     "end_time": "2025-01-07T17:17:51.989791",
     "exception": false,
     "start_time": "2025-01-07T17:17:51.585993",
     "status": "completed"
    },
    "tags": []
   },
   "outputs": [
    {
     "name": "stdout",
     "output_type": "stream",
     "text": [
      "Cluster Summary:\n",
      "                 Sales  Quantity       Profit\n",
      "Cluster                                     \n",
      "0          121.744931  2.548695     6.452972\n",
      "1          364.667509  6.345794    15.476532\n",
      "2        12280.880000  7.666667  5992.273833\n"
     ]
    },
    {
     "data": {
      "image/png": "[encoded data removed]",
      "text/plain": [
       "<Figure size 1000x600 with 1 Axes>"
      ]
     },
     "metadata": {},
     "output_type": "display_data"
    }
   ],
   "source": [
    "#Filter the data\n",
    "features = df_encodedUS_Central[['Sales', 'Quantity', 'Profit']]\n",
    "\n",
    "# Scale the data\n",
    "from sklearn.preprocessing import StandardScaler\n",
    "scaler = StandardScaler()\n",
    "scaled_features = scaler.fit_transform(features)\n",
    "\n",
    "# Apply KMeans clustering\n",
    "from sklearn.cluster import KMeans\n",
    "\n",
    "n_clusters = 3\n",
    "kmeans = KMeans(n_clusters=n_clusters, n_init=10, random_state=42)  \n",
    "df_encodedUS_Central = df_encodedUS_Central.copy()  \n",
    "df_encodedUS_Central.loc[:, 'Cluster'] = kmeans.fit_predict(scaled_features)\n",
    "\n",
    "# Analyze clusters\n",
    "cluster_summary = df_encodedUS_Central.groupby('Cluster')[['Sales', 'Quantity', 'Profit']].mean()\n",
    "print(\"Cluster Summary:\\n\", cluster_summary)\n",
    "\n",
    "# Visualize clusters\n",
    "import matplotlib.pyplot as plt\n",
    "\n",
    "plt.figure(figsize=(10, 6))\n",
    "for cluster in range(n_clusters):\n",
    "    plt.scatter(\n",
    "        df_encodedUS_Central[df_encodedUS_Central['Cluster'] == cluster]['Sales'],  # x-axis: Sales\n",
    "        df_encodedUS_Central[df_encodedUS_Central['Cluster'] == cluster]['Profit'],  # y-axis: Profit\n",
    "        label=f'Cluster {cluster}'\n",
    "    )\n",
    "\n",
    "plt.title('Clustering based on Sales and Profit for Central Region')  \n",
    "plt.xlabel('Sales')\n",
    "plt.ylabel('Profit')\n",
    "plt.legend()\n",
    "plt.show()\n"
   ]
  },
  {
   "cell_type": "markdown",
   "id": "b99f9134",
   "metadata": {
    "papermill": {
     "duration": 0.049625,
     "end_time": "2025-01-07T17:17:52.091643",
     "exception": false,
     "start_time": "2025-01-07T17:17:52.042018",
     "status": "completed"
    },
    "tags": []
   },
   "source": [
    "**South Region**"
   ]
  },
  {
   "cell_type": "code",
   "execution_count": 121,
   "id": "5e19b73c",
   "metadata": {
    "execution": {
     "iopub.execute_input": "2025-01-07T17:17:52.192564Z",
     "iopub.status.busy": "2025-01-07T17:17:52.192170Z",
     "iopub.status.idle": "2025-01-07T17:17:52.526118Z",
     "shell.execute_reply": "2025-01-07T17:17:52.524963Z"
    },
    "papermill": {
     "duration": 0.387714,
     "end_time": "2025-01-07T17:17:52.528702",
     "exception": false,
     "start_time": "2025-01-07T17:17:52.140988",
     "status": "completed"
    },
    "tags": []
   },
   "outputs": [
    {
     "name": "stdout",
     "output_type": "stream",
     "text": [
      "Cluster Summary:\n",
      "                 Sales  Quantity       Profit\n",
      "Cluster                                     \n",
      "0          542.166930  7.321429    97.019722\n",
      "1          145.686155  2.917381    12.441062\n",
      "2        22638.480000  6.000000 -1811.078400\n"
     ]
    },
    {
     "data": {
      "image/png": "[encoded data removed]",
      "text/plain": [
       "<Figure size 1000x600 with 1 Axes>"
      ]
     },
     "metadata": {},
     "output_type": "display_data"
    }
   ],
   "source": [
    "#Filter the data\n",
    "features = df_encodedUS_South[['Sales', 'Quantity', 'Profit']]\n",
    "\n",
    "# Scale the data\n",
    "from sklearn.preprocessing import StandardScaler\n",
    "scaler = StandardScaler()\n",
    "scaled_features = scaler.fit_transform(features)\n",
    "\n",
    "# Apply KMeans clustering\n",
    "from sklearn.cluster import KMeans\n",
    "\n",
    "n_clusters = 3\n",
    "kmeans = KMeans(n_clusters=n_clusters, n_init=10, random_state=42)  \n",
    "df_encodedUS_South = df_encodedUS_South.copy()  \n",
    "df_encodedUS_South.loc[:, 'Cluster'] = kmeans.fit_predict(scaled_features)\n",
    "\n",
    "# Analyze clusters\n",
    "cluster_summary = df_encodedUS_South.groupby('Cluster')[['Sales', 'Quantity', 'Profit']].mean()\n",
    "print(\"Cluster Summary:\\n\", cluster_summary)\n",
    "\n",
    "# Visualize clusters\n",
    "import matplotlib.pyplot as plt\n",
    "\n",
    "plt.figure(figsize=(10, 6))\n",
    "for cluster in range(n_clusters):\n",
    "    plt.scatter(\n",
    "        df_encodedUS_South[df_encodedUS_South['Cluster'] == cluster]['Sales'],  # x-axis: Sales\n",
    "        df_encodedUS_South[df_encodedUS_South['Cluster'] == cluster]['Profit'],  # y-axis: Profit\n",
    "        label=f'Cluster {cluster}'\n",
    "    )\n",
    "\n",
    "plt.title('Clustering based on Sales and Profit for South Region')  \n",
    "plt.xlabel('Sales')\n",
    "plt.ylabel('Profit')\n",
    "plt.legend()\n",
    "plt.show()"
   ]
  }
 ],
 "metadata": {
  "kaggle": {
   "accelerator": "none",
   "dataSources": [
    {
     "datasetId": 6169566,
     "sourceId": 10020148,
     "sourceType": "datasetVersion"
    },
    {
     "datasetId": 6367820,
     "sourceId": 10289274,
     "sourceType": "datasetVersion"
    }
   ],
   "dockerImageVersionId": 30786,
   "isGpuEnabled": false,
   "isInternetEnabled": false,
   "language": "python",
   "sourceType": "notebook"
  },
  "kernelspec": {
   "display_name": "Python 3",
   "language": "python",
   "name": "python3"
  },
  "language_info": {
   "codemirror_mode": {
    "name": "ipython",
    "version": 3
   },
   "file_extension": ".py",
   "mimetype": "text/x-python",
   "name": "python",
   "nbconvert_exporter": "python",
   "pygments_lexer": "ipython3",
   "version": "3.10.14"
  },
  "papermill": {
   "default_parameters": {},
   "duration": 25.051651,
   "end_time": "2025-01-07T17:17:53.202178",
   "environment_variables": {},
   "exception": null,
   "input_path": "__notebook__.ipynb",
   "output_path": "__notebook__.ipynb",
   "parameters": {},
   "start_time": "2025-01-07T17:17:28.150527",
   "version": "2.6.0"
  }
 },
 "nbformat": 4,
 "nbformat_minor": 5
}
